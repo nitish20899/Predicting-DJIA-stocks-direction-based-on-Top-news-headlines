{
 "cells": [
  {
   "cell_type": "markdown",
   "metadata": {
    "id": "-c_Wt7sLx3sj",
    "papermill": {
     "duration": 0.028795,
     "end_time": "2020-10-29T04:54:45.388058",
     "exception": false,
     "start_time": "2020-10-29T04:54:45.359263",
     "status": "completed"
    },
    "tags": []
   },
   "source": [
    "# <font color='green'>Predicting Stocks (Goes up or down) using News Headlines</font>"
   ]
  },
  {
   "cell_type": "code",
   "execution_count": 1,
   "metadata": {
    "execution": {
     "iopub.execute_input": "2020-10-29T04:54:45.608285Z",
     "iopub.status.busy": "2020-10-29T04:54:45.607575Z",
     "iopub.status.idle": "2020-10-29T04:54:48.660980Z",
     "shell.execute_reply": "2020-10-29T04:54:48.660403Z"
    },
    "id": "MPcd6pZ1x3sn",
    "outputId": "e68e24e5-70c3-440e-c274-3297fbfba296",
    "papermill": {
     "duration": 3.087721,
     "end_time": "2020-10-29T04:54:48.661097",
     "exception": false,
     "start_time": "2020-10-29T04:54:45.573376",
     "status": "completed"
    },
    "tags": []
   },
   "outputs": [
    {
     "data": {
      "text/html": [
       "<div>\n",
       "<style scoped>\n",
       "    .dataframe tbody tr th:only-of-type {\n",
       "        vertical-align: middle;\n",
       "    }\n",
       "\n",
       "    .dataframe tbody tr th {\n",
       "        vertical-align: top;\n",
       "    }\n",
       "\n",
       "    .dataframe thead th {\n",
       "        text-align: right;\n",
       "    }\n",
       "</style>\n",
       "<table border=\"1\" class=\"dataframe\">\n",
       "  <thead>\n",
       "    <tr style=\"text-align: right;\">\n",
       "      <th></th>\n",
       "      <th>Date</th>\n",
       "      <th>Label</th>\n",
       "      <th>Top1</th>\n",
       "      <th>Top2</th>\n",
       "      <th>Top3</th>\n",
       "      <th>Top4</th>\n",
       "      <th>Top5</th>\n",
       "      <th>Top6</th>\n",
       "      <th>Top7</th>\n",
       "      <th>Top8</th>\n",
       "      <th>...</th>\n",
       "      <th>Top16</th>\n",
       "      <th>Top17</th>\n",
       "      <th>Top18</th>\n",
       "      <th>Top19</th>\n",
       "      <th>Top20</th>\n",
       "      <th>Top21</th>\n",
       "      <th>Top22</th>\n",
       "      <th>Top23</th>\n",
       "      <th>Top24</th>\n",
       "      <th>Top25</th>\n",
       "    </tr>\n",
       "  </thead>\n",
       "  <tbody>\n",
       "    <tr>\n",
       "      <th>0</th>\n",
       "      <td>2008-08-08</td>\n",
       "      <td>0</td>\n",
       "      <td>b\"Georgia 'downs two Russian warplanes' as cou...</td>\n",
       "      <td>b'BREAKING: Musharraf to be impeached.'</td>\n",
       "      <td>b'Russia Today: Columns of troops roll into So...</td>\n",
       "      <td>b'Russian tanks are moving towards the capital...</td>\n",
       "      <td>b\"Afghan children raped with 'impunity,' U.N. ...</td>\n",
       "      <td>b'150 Russian tanks have entered South Ossetia...</td>\n",
       "      <td>b\"Breaking: Georgia invades South Ossetia, Rus...</td>\n",
       "      <td>b\"The 'enemy combatent' trials are nothing but...</td>\n",
       "      <td>...</td>\n",
       "      <td>b'Georgia Invades South Ossetia - if Russia ge...</td>\n",
       "      <td>b'Al-Qaeda Faces Islamist Backlash'</td>\n",
       "      <td>b'Condoleezza Rice: \"The US would not act to p...</td>\n",
       "      <td>b'This is a busy day:  The European Union has ...</td>\n",
       "      <td>b\"Georgia will withdraw 1,000 soldiers from Ir...</td>\n",
       "      <td>b'Why the Pentagon Thinks Attacking Iran is a ...</td>\n",
       "      <td>b'Caucasus in crisis: Georgia invades South Os...</td>\n",
       "      <td>b'Indian shoe manufactory  - And again in a se...</td>\n",
       "      <td>b'Visitors Suffering from Mental Illnesses Ban...</td>\n",
       "      <td>b\"No Help for Mexico's Kidnapping Surge\"</td>\n",
       "    </tr>\n",
       "    <tr>\n",
       "      <th>1</th>\n",
       "      <td>2008-08-11</td>\n",
       "      <td>1</td>\n",
       "      <td>b'Why wont America and Nato help us? If they w...</td>\n",
       "      <td>b'Bush puts foot down on Georgian conflict'</td>\n",
       "      <td>b\"Jewish Georgian minister: Thanks to Israeli ...</td>\n",
       "      <td>b'Georgian army flees in disarray as Russians ...</td>\n",
       "      <td>b\"Olympic opening ceremony fireworks 'faked'\"</td>\n",
       "      <td>b'What were the Mossad with fraudulent New Zea...</td>\n",
       "      <td>b'Russia angered by Israeli military sale to G...</td>\n",
       "      <td>b'An American citizen living in S.Ossetia blam...</td>\n",
       "      <td>...</td>\n",
       "      <td>b'Israel and the US behind the Georgian aggres...</td>\n",
       "      <td>b'\"Do not believe TV, neither Russian nor Geor...</td>\n",
       "      <td>b'Riots are still going on in Montreal (Canada...</td>\n",
       "      <td>b'China to overtake US as largest manufacturer'</td>\n",
       "      <td>b'War in South Ossetia [PICS]'</td>\n",
       "      <td>b'Israeli Physicians Group Condemns State Tort...</td>\n",
       "      <td>b' Russia has just beaten the United States ov...</td>\n",
       "      <td>b'Perhaps *the* question about the Georgia - R...</td>\n",
       "      <td>b'Russia is so much better at war'</td>\n",
       "      <td>b\"So this is what it's come to: trading sex fo...</td>\n",
       "    </tr>\n",
       "    <tr>\n",
       "      <th>2</th>\n",
       "      <td>2008-08-12</td>\n",
       "      <td>0</td>\n",
       "      <td>b'Remember that adorable 9-year-old who sang a...</td>\n",
       "      <td>b\"Russia 'ends Georgia operation'\"</td>\n",
       "      <td>b'\"If we had no sexual harassment we would hav...</td>\n",
       "      <td>b\"Al-Qa'eda is losing support in Iraq because ...</td>\n",
       "      <td>b'Ceasefire in Georgia: Putin Outmaneuvers the...</td>\n",
       "      <td>b'Why Microsoft and Intel tried to kill the XO...</td>\n",
       "      <td>b'Stratfor: The Russo-Georgian War and the Bal...</td>\n",
       "      <td>b\"I'm Trying to Get a Sense of This Whole Geor...</td>\n",
       "      <td>...</td>\n",
       "      <td>b'U.S. troops still in Georgia (did you know t...</td>\n",
       "      <td>b'Why Russias response to Georgia was right'</td>\n",
       "      <td>b'Gorbachev accuses U.S. of making a \"serious ...</td>\n",
       "      <td>b'Russia, Georgia, and NATO: Cold War Two'</td>\n",
       "      <td>b'Remember that adorable 62-year-old who led y...</td>\n",
       "      <td>b'War in Georgia: The Israeli connection'</td>\n",
       "      <td>b'All signs point to the US encouraging Georgi...</td>\n",
       "      <td>b'Christopher King argues that the US and NATO...</td>\n",
       "      <td>b'America: The New Mexico?'</td>\n",
       "      <td>b\"BBC NEWS | Asia-Pacific | Extinction 'by man...</td>\n",
       "    </tr>\n",
       "    <tr>\n",
       "      <th>3</th>\n",
       "      <td>2008-08-13</td>\n",
       "      <td>0</td>\n",
       "      <td>b' U.S. refuses Israel weapons to attack Iran:...</td>\n",
       "      <td>b\"When the president ordered to attack Tskhinv...</td>\n",
       "      <td>b' Israel clears troops who killed Reuters cam...</td>\n",
       "      <td>b'Britain\\'s policy of being tough on drugs is...</td>\n",
       "      <td>b'Body of 14 year old found in trunk; Latest (...</td>\n",
       "      <td>b'China has moved 10 *million* quake survivors...</td>\n",
       "      <td>b\"Bush announces Operation Get All Up In Russi...</td>\n",
       "      <td>b'Russian forces sink Georgian ships '</td>\n",
       "      <td>...</td>\n",
       "      <td>b'Elephants extinct by 2020?'</td>\n",
       "      <td>b'US humanitarian missions soon in Georgia - i...</td>\n",
       "      <td>b\"Georgia's DDOS came from US sources\"</td>\n",
       "      <td>b'Russian convoy heads into Georgia, violating...</td>\n",
       "      <td>b'Israeli defence minister: US against strike ...</td>\n",
       "      <td>b'Gorbachev: We Had No Choice'</td>\n",
       "      <td>b'Witness: Russian forces head towards Tbilisi...</td>\n",
       "      <td>b' Quarter of Russians blame U.S. for conflict...</td>\n",
       "      <td>b'Georgian president  says US military will ta...</td>\n",
       "      <td>b'2006: Nobel laureate Aleksander Solzhenitsyn...</td>\n",
       "    </tr>\n",
       "    <tr>\n",
       "      <th>4</th>\n",
       "      <td>2008-08-14</td>\n",
       "      <td>1</td>\n",
       "      <td>b'All the experts admit that we should legalis...</td>\n",
       "      <td>b'War in South Osetia - 89 pictures made by a ...</td>\n",
       "      <td>b'Swedish wrestler Ara Abrahamian throws away ...</td>\n",
       "      <td>b'Russia exaggerated the death toll in South O...</td>\n",
       "      <td>b'Missile That Killed 9 Inside Pakistan May Ha...</td>\n",
       "      <td>b\"Rushdie Condemns Random House's Refusal to P...</td>\n",
       "      <td>b'Poland and US agree to missle defense deal. ...</td>\n",
       "      <td>b'Will the Russians conquer Tblisi? Bet on it,...</td>\n",
       "      <td>...</td>\n",
       "      <td>b'Bank analyst forecast Georgian crisis 2 days...</td>\n",
       "      <td>b\"Georgia confict could set back Russia's US r...</td>\n",
       "      <td>b'War in the Caucasus is as much the product o...</td>\n",
       "      <td>b'\"Non-media\" photos of South Ossetia/Georgia ...</td>\n",
       "      <td>b'Georgian TV reporter shot by Russian sniper ...</td>\n",
       "      <td>b'Saudi Arabia: Mother moves to block child ma...</td>\n",
       "      <td>b'Taliban wages war on humanitarian aid workers'</td>\n",
       "      <td>b'Russia: World  \"can forget about\" Georgia\\'s...</td>\n",
       "      <td>b'Darfur rebels accuse Sudan of mounting major...</td>\n",
       "      <td>b'Philippines : Peace Advocate say Muslims nee...</td>\n",
       "    </tr>\n",
       "  </tbody>\n",
       "</table>\n",
       "<p>5 rows × 27 columns</p>\n",
       "</div>"
      ],
      "text/plain": [
       "         Date  Label                                               Top1  \\\n",
       "0  2008-08-08      0  b\"Georgia 'downs two Russian warplanes' as cou...   \n",
       "1  2008-08-11      1  b'Why wont America and Nato help us? If they w...   \n",
       "2  2008-08-12      0  b'Remember that adorable 9-year-old who sang a...   \n",
       "3  2008-08-13      0  b' U.S. refuses Israel weapons to attack Iran:...   \n",
       "4  2008-08-14      1  b'All the experts admit that we should legalis...   \n",
       "\n",
       "                                                Top2  \\\n",
       "0            b'BREAKING: Musharraf to be impeached.'   \n",
       "1        b'Bush puts foot down on Georgian conflict'   \n",
       "2                 b\"Russia 'ends Georgia operation'\"   \n",
       "3  b\"When the president ordered to attack Tskhinv...   \n",
       "4  b'War in South Osetia - 89 pictures made by a ...   \n",
       "\n",
       "                                                Top3  \\\n",
       "0  b'Russia Today: Columns of troops roll into So...   \n",
       "1  b\"Jewish Georgian minister: Thanks to Israeli ...   \n",
       "2  b'\"If we had no sexual harassment we would hav...   \n",
       "3  b' Israel clears troops who killed Reuters cam...   \n",
       "4  b'Swedish wrestler Ara Abrahamian throws away ...   \n",
       "\n",
       "                                                Top4  \\\n",
       "0  b'Russian tanks are moving towards the capital...   \n",
       "1  b'Georgian army flees in disarray as Russians ...   \n",
       "2  b\"Al-Qa'eda is losing support in Iraq because ...   \n",
       "3  b'Britain\\'s policy of being tough on drugs is...   \n",
       "4  b'Russia exaggerated the death toll in South O...   \n",
       "\n",
       "                                                Top5  \\\n",
       "0  b\"Afghan children raped with 'impunity,' U.N. ...   \n",
       "1      b\"Olympic opening ceremony fireworks 'faked'\"   \n",
       "2  b'Ceasefire in Georgia: Putin Outmaneuvers the...   \n",
       "3  b'Body of 14 year old found in trunk; Latest (...   \n",
       "4  b'Missile That Killed 9 Inside Pakistan May Ha...   \n",
       "\n",
       "                                                Top6  \\\n",
       "0  b'150 Russian tanks have entered South Ossetia...   \n",
       "1  b'What were the Mossad with fraudulent New Zea...   \n",
       "2  b'Why Microsoft and Intel tried to kill the XO...   \n",
       "3  b'China has moved 10 *million* quake survivors...   \n",
       "4  b\"Rushdie Condemns Random House's Refusal to P...   \n",
       "\n",
       "                                                Top7  \\\n",
       "0  b\"Breaking: Georgia invades South Ossetia, Rus...   \n",
       "1  b'Russia angered by Israeli military sale to G...   \n",
       "2  b'Stratfor: The Russo-Georgian War and the Bal...   \n",
       "3  b\"Bush announces Operation Get All Up In Russi...   \n",
       "4  b'Poland and US agree to missle defense deal. ...   \n",
       "\n",
       "                                                Top8  ...  \\\n",
       "0  b\"The 'enemy combatent' trials are nothing but...  ...   \n",
       "1  b'An American citizen living in S.Ossetia blam...  ...   \n",
       "2  b\"I'm Trying to Get a Sense of This Whole Geor...  ...   \n",
       "3             b'Russian forces sink Georgian ships '  ...   \n",
       "4  b'Will the Russians conquer Tblisi? Bet on it,...  ...   \n",
       "\n",
       "                                               Top16  \\\n",
       "0  b'Georgia Invades South Ossetia - if Russia ge...   \n",
       "1  b'Israel and the US behind the Georgian aggres...   \n",
       "2  b'U.S. troops still in Georgia (did you know t...   \n",
       "3                      b'Elephants extinct by 2020?'   \n",
       "4  b'Bank analyst forecast Georgian crisis 2 days...   \n",
       "\n",
       "                                               Top17  \\\n",
       "0                b'Al-Qaeda Faces Islamist Backlash'   \n",
       "1  b'\"Do not believe TV, neither Russian nor Geor...   \n",
       "2       b'Why Russias response to Georgia was right'   \n",
       "3  b'US humanitarian missions soon in Georgia - i...   \n",
       "4  b\"Georgia confict could set back Russia's US r...   \n",
       "\n",
       "                                               Top18  \\\n",
       "0  b'Condoleezza Rice: \"The US would not act to p...   \n",
       "1  b'Riots are still going on in Montreal (Canada...   \n",
       "2  b'Gorbachev accuses U.S. of making a \"serious ...   \n",
       "3             b\"Georgia's DDOS came from US sources\"   \n",
       "4  b'War in the Caucasus is as much the product o...   \n",
       "\n",
       "                                               Top19  \\\n",
       "0  b'This is a busy day:  The European Union has ...   \n",
       "1    b'China to overtake US as largest manufacturer'   \n",
       "2         b'Russia, Georgia, and NATO: Cold War Two'   \n",
       "3  b'Russian convoy heads into Georgia, violating...   \n",
       "4  b'\"Non-media\" photos of South Ossetia/Georgia ...   \n",
       "\n",
       "                                               Top20  \\\n",
       "0  b\"Georgia will withdraw 1,000 soldiers from Ir...   \n",
       "1                     b'War in South Ossetia [PICS]'   \n",
       "2  b'Remember that adorable 62-year-old who led y...   \n",
       "3  b'Israeli defence minister: US against strike ...   \n",
       "4  b'Georgian TV reporter shot by Russian sniper ...   \n",
       "\n",
       "                                               Top21  \\\n",
       "0  b'Why the Pentagon Thinks Attacking Iran is a ...   \n",
       "1  b'Israeli Physicians Group Condemns State Tort...   \n",
       "2          b'War in Georgia: The Israeli connection'   \n",
       "3                     b'Gorbachev: We Had No Choice'   \n",
       "4  b'Saudi Arabia: Mother moves to block child ma...   \n",
       "\n",
       "                                               Top22  \\\n",
       "0  b'Caucasus in crisis: Georgia invades South Os...   \n",
       "1  b' Russia has just beaten the United States ov...   \n",
       "2  b'All signs point to the US encouraging Georgi...   \n",
       "3  b'Witness: Russian forces head towards Tbilisi...   \n",
       "4   b'Taliban wages war on humanitarian aid workers'   \n",
       "\n",
       "                                               Top23  \\\n",
       "0  b'Indian shoe manufactory  - And again in a se...   \n",
       "1  b'Perhaps *the* question about the Georgia - R...   \n",
       "2  b'Christopher King argues that the US and NATO...   \n",
       "3  b' Quarter of Russians blame U.S. for conflict...   \n",
       "4  b'Russia: World  \"can forget about\" Georgia\\'s...   \n",
       "\n",
       "                                               Top24  \\\n",
       "0  b'Visitors Suffering from Mental Illnesses Ban...   \n",
       "1                 b'Russia is so much better at war'   \n",
       "2                        b'America: The New Mexico?'   \n",
       "3  b'Georgian president  says US military will ta...   \n",
       "4  b'Darfur rebels accuse Sudan of mounting major...   \n",
       "\n",
       "                                               Top25  \n",
       "0           b\"No Help for Mexico's Kidnapping Surge\"  \n",
       "1  b\"So this is what it's come to: trading sex fo...  \n",
       "2  b\"BBC NEWS | Asia-Pacific | Extinction 'by man...  \n",
       "3  b'2006: Nobel laureate Aleksander Solzhenitsyn...  \n",
       "4  b'Philippines : Peace Advocate say Muslims nee...  \n",
       "\n",
       "[5 rows x 27 columns]"
      ]
     },
     "execution_count": 1,
     "metadata": {},
     "output_type": "execute_result"
    }
   ],
   "source": [
    "import pandas as pd\n",
    "import numpy as np \n",
    "import warnings\n",
    "from sklearn.model_selection import train_test_split\n",
    "from sklearn.feature_extraction.text import CountVectorizer\n",
    "from sklearn.ensemble import RandomForestClassifier\n",
    "from xgboost import XGBClassifier\n",
    "from catboost import CatBoostClassifier\n",
    "from sklearn.metrics import classification_report,confusion_matrix,accuracy_score\n",
    "from sklearn.model_selection import GridSearchCV\n",
    "from sklearn.model_selection import RandomizedSearchCV\n",
    "import plotly.graph_objects as go\n",
    "import plotly.express as px\n",
    "\n",
    "\n",
    "warnings.filterwarnings('ignore')\n",
    "\n",
    "# imported the file which contains top 25 headlines, stock went up or down(label) and date\n",
    "data1 = pd.read_csv('Combined_News_DJIA.csv')\n",
    "data1.head()"
   ]
  },
  {
   "cell_type": "code",
   "execution_count": 2,
   "metadata": {
    "execution": {
     "iopub.execute_input": "2020-10-29T04:54:48.730759Z",
     "iopub.status.busy": "2020-10-29T04:54:48.728706Z",
     "iopub.status.idle": "2020-10-29T04:54:48.736421Z",
     "shell.execute_reply": "2020-10-29T04:54:48.735729Z"
    },
    "id": "gLg-cV1bx3su",
    "outputId": "2d4e746f-1cb0-4f75-dfd7-076525d0a5ef",
    "papermill": {
     "duration": 0.046966,
     "end_time": "2020-10-29T04:54:48.736546",
     "exception": false,
     "start_time": "2020-10-29T04:54:48.689580",
     "status": "completed"
    },
    "tags": []
   },
   "outputs": [
    {
     "data": {
      "text/plain": [
       "Date     0\n",
       "Label    0\n",
       "Top1     0\n",
       "Top2     0\n",
       "Top3     0\n",
       "Top4     0\n",
       "Top5     0\n",
       "Top6     0\n",
       "Top7     0\n",
       "Top8     0\n",
       "Top9     0\n",
       "Top10    0\n",
       "Top11    0\n",
       "Top12    0\n",
       "Top13    0\n",
       "Top14    0\n",
       "Top15    0\n",
       "Top16    0\n",
       "Top17    0\n",
       "Top18    0\n",
       "Top19    0\n",
       "Top20    0\n",
       "Top21    0\n",
       "Top22    0\n",
       "Top23    1\n",
       "Top24    3\n",
       "Top25    3\n",
       "dtype: int64"
      ]
     },
     "execution_count": 2,
     "metadata": {},
     "output_type": "execute_result"
    }
   ],
   "source": [
    "data1.isnull().sum()"
   ]
  },
  {
   "cell_type": "markdown",
   "metadata": {
    "papermill": {
     "duration": 0.027683,
     "end_time": "2020-10-29T04:54:48.793268",
     "exception": false,
     "start_time": "2020-10-29T04:54:48.765585",
     "status": "completed"
    },
    "tags": []
   },
   "source": [
    "## <font color='darkred'>Data Cleaning</font>"
   ]
  },
  {
   "cell_type": "code",
   "execution_count": 3,
   "metadata": {
    "execution": {
     "iopub.execute_input": "2020-10-29T04:54:48.861539Z",
     "iopub.status.busy": "2020-10-29T04:54:48.860858Z",
     "iopub.status.idle": "2020-10-29T04:54:48.865461Z",
     "shell.execute_reply": "2020-10-29T04:54:48.864970Z"
    },
    "id": "vcCMCU-0x3sy",
    "papermill": {
     "duration": 0.043267,
     "end_time": "2020-10-29T04:54:48.865552",
     "exception": false,
     "start_time": "2020-10-29T04:54:48.822285",
     "status": "completed"
    },
    "tags": []
   },
   "outputs": [],
   "source": [
    "# filling the null values with median \n",
    "\n",
    "data1['Top23'].fillna(data1['Top23'].median,inplace=True)\n",
    "data1['Top24'].fillna(data1['Top24'].median,inplace=True)\n",
    "data1['Top25'].fillna(data1['Top25'].median,inplace=True)"
   ]
  },
  {
   "cell_type": "code",
   "execution_count": 4,
   "metadata": {
    "execution": {
     "iopub.execute_input": "2020-10-29T04:54:48.914726Z",
     "iopub.status.busy": "2020-10-29T04:54:48.913840Z",
     "iopub.status.idle": "2020-10-29T04:54:48.922491Z",
     "shell.execute_reply": "2020-10-29T04:54:48.921849Z"
    },
    "id": "timWRR1Rx3s2",
    "papermill": {
     "duration": 0.036671,
     "end_time": "2020-10-29T04:54:48.922610",
     "exception": false,
     "start_time": "2020-10-29T04:54:48.885939",
     "status": "completed"
    },
    "tags": []
   },
   "outputs": [],
   "source": [
    "# seperating the data into train and test\n",
    "\n",
    "train = data1[data1['Date'] < '20150101']\n",
    "test = data1[data1['Date'] > '20141231']"
   ]
  },
  {
   "cell_type": "code",
   "execution_count": 5,
   "metadata": {
    "execution": {
     "iopub.execute_input": "2020-10-29T04:54:49.015784Z",
     "iopub.status.busy": "2020-10-29T04:54:49.010653Z",
     "iopub.status.idle": "2020-10-29T04:54:49.620625Z",
     "shell.execute_reply": "2020-10-29T04:54:49.620223Z"
    },
    "id": "G8whKl3tx3s5",
    "outputId": "f49253a3-8960-42d7-ca37-73b8f494e587",
    "papermill": {
     "duration": 0.661949,
     "end_time": "2020-10-29T04:54:49.620719",
     "exception": false,
     "start_time": "2020-10-29T04:54:48.958770",
     "status": "completed"
    },
    "tags": []
   },
   "outputs": [
    {
     "data": {
      "text/html": [
       "<div>\n",
       "<style scoped>\n",
       "    .dataframe tbody tr th:only-of-type {\n",
       "        vertical-align: middle;\n",
       "    }\n",
       "\n",
       "    .dataframe tbody tr th {\n",
       "        vertical-align: top;\n",
       "    }\n",
       "\n",
       "    .dataframe thead th {\n",
       "        text-align: right;\n",
       "    }\n",
       "</style>\n",
       "<table border=\"1\" class=\"dataframe\">\n",
       "  <thead>\n",
       "    <tr style=\"text-align: right;\">\n",
       "      <th></th>\n",
       "      <th>Date</th>\n",
       "      <th>Label</th>\n",
       "      <th>Top1</th>\n",
       "      <th>Top2</th>\n",
       "      <th>Top3</th>\n",
       "      <th>Top4</th>\n",
       "      <th>Top5</th>\n",
       "      <th>Top6</th>\n",
       "      <th>Top7</th>\n",
       "      <th>Top8</th>\n",
       "      <th>...</th>\n",
       "      <th>Top16</th>\n",
       "      <th>Top17</th>\n",
       "      <th>Top18</th>\n",
       "      <th>Top19</th>\n",
       "      <th>Top20</th>\n",
       "      <th>Top21</th>\n",
       "      <th>Top22</th>\n",
       "      <th>Top23</th>\n",
       "      <th>Top24</th>\n",
       "      <th>Top25</th>\n",
       "    </tr>\n",
       "  </thead>\n",
       "  <tbody>\n",
       "    <tr>\n",
       "      <th>0</th>\n",
       "      <td></td>\n",
       "      <td>0</td>\n",
       "      <td>b georgia  downs two russian warplanes  as cou...</td>\n",
       "      <td>b breaking  musharraf to be impeached</td>\n",
       "      <td>b russia today  columns of troops roll into so...</td>\n",
       "      <td>b russian tanks are moving towards the capital...</td>\n",
       "      <td>b afghan children raped with  impunity   u n  ...</td>\n",
       "      <td>b     russian tanks have entered south ossetia...</td>\n",
       "      <td>b breaking  georgia invades south ossetia  rus...</td>\n",
       "      <td>b the  enemy combatent  trials are nothing but...</td>\n",
       "      <td>...</td>\n",
       "      <td>b georgia invades south ossetia   if russia ge...</td>\n",
       "      <td>b al qaeda faces islamist backlash</td>\n",
       "      <td>b condoleezza rice   the us would not act to p...</td>\n",
       "      <td>b this is a busy day   the european union has ...</td>\n",
       "      <td>b georgia will withdraw       soldiers from ir...</td>\n",
       "      <td>b why the pentagon thinks attacking iran is a ...</td>\n",
       "      <td>b caucasus in crisis  georgia invades south os...</td>\n",
       "      <td>b indian shoe manufactory    and again in a se...</td>\n",
       "      <td>b visitors suffering from mental illnesses ban...</td>\n",
       "      <td>b no help for mexico s kidnapping surge</td>\n",
       "    </tr>\n",
       "    <tr>\n",
       "      <th>1</th>\n",
       "      <td></td>\n",
       "      <td>1</td>\n",
       "      <td>b why wont america and nato help us  if they w...</td>\n",
       "      <td>b bush puts foot down on georgian conflict</td>\n",
       "      <td>b jewish georgian minister  thanks to israeli ...</td>\n",
       "      <td>b georgian army flees in disarray as russians ...</td>\n",
       "      <td>b olympic opening ceremony fireworks  faked</td>\n",
       "      <td>b what were the mossad with fraudulent new zea...</td>\n",
       "      <td>b russia angered by israeli military sale to g...</td>\n",
       "      <td>b an american citizen living in s ossetia blam...</td>\n",
       "      <td>...</td>\n",
       "      <td>b israel and the us behind the georgian aggres...</td>\n",
       "      <td>b  do not believe tv  neither russian nor geor...</td>\n",
       "      <td>b riots are still going on in montreal  canada...</td>\n",
       "      <td>b china to overtake us as largest manufacturer</td>\n",
       "      <td>b war in south ossetia  pics</td>\n",
       "      <td>b israeli physicians group condemns state tort...</td>\n",
       "      <td>b  russia has just beaten the united states ov...</td>\n",
       "      <td>b perhaps  the  question about the georgia   r...</td>\n",
       "      <td>b russia is so much better at war</td>\n",
       "      <td>b so this is what it s come to  trading sex fo...</td>\n",
       "    </tr>\n",
       "    <tr>\n",
       "      <th>2</th>\n",
       "      <td></td>\n",
       "      <td>0</td>\n",
       "      <td>b remember that adorable   year old who sang a...</td>\n",
       "      <td>b russia  ends georgia operation</td>\n",
       "      <td>b  if we had no sexual harassment we would hav...</td>\n",
       "      <td>b al qa eda is losing support in iraq because ...</td>\n",
       "      <td>b ceasefire in georgia  putin outmaneuvers the...</td>\n",
       "      <td>b why microsoft and intel tried to kill the xo...</td>\n",
       "      <td>b stratfor  the russo georgian war and the bal...</td>\n",
       "      <td>b i m trying to get a sense of this whole geor...</td>\n",
       "      <td>...</td>\n",
       "      <td>b u s  troops still in georgia  did you know t...</td>\n",
       "      <td>b why russias response to georgia was right</td>\n",
       "      <td>b gorbachev accuses u s  of making a  serious ...</td>\n",
       "      <td>b russia  georgia  and nato  cold war two</td>\n",
       "      <td>b remember that adorable    year old who led y...</td>\n",
       "      <td>b war in georgia  the israeli connection</td>\n",
       "      <td>b all signs point to the us encouraging georgi...</td>\n",
       "      <td>b christopher king argues that the us and nato...</td>\n",
       "      <td>b america  the new mexico</td>\n",
       "      <td>b bbc news   asia pacific   extinction  by man...</td>\n",
       "    </tr>\n",
       "    <tr>\n",
       "      <th>3</th>\n",
       "      <td></td>\n",
       "      <td>0</td>\n",
       "      <td>b  u s  refuses israel weapons to attack iran ...</td>\n",
       "      <td>b when the president ordered to attack tskhinv...</td>\n",
       "      <td>b  israel clears troops who killed reuters cam...</td>\n",
       "      <td>b britain  s policy of being tough on drugs is...</td>\n",
       "      <td>b body of    year old found in trunk  latest  ...</td>\n",
       "      <td>b china has moved     million  quake survivors...</td>\n",
       "      <td>b bush announces operation get all up in russi...</td>\n",
       "      <td>b russian forces sink georgian ships</td>\n",
       "      <td>...</td>\n",
       "      <td>b elephants extinct by</td>\n",
       "      <td>b us humanitarian missions soon in georgia   i...</td>\n",
       "      <td>b georgia s ddos came from us sources</td>\n",
       "      <td>b russian convoy heads into georgia  violating...</td>\n",
       "      <td>b israeli defence minister  us against strike ...</td>\n",
       "      <td>b gorbachev  we had no choice</td>\n",
       "      <td>b witness  russian forces head towards tbilisi...</td>\n",
       "      <td>b  quarter of russians blame u s  for conflict...</td>\n",
       "      <td>b georgian president  says us military will ta...</td>\n",
       "      <td>b       nobel laureate aleksander solzhenitsyn...</td>\n",
       "    </tr>\n",
       "    <tr>\n",
       "      <th>4</th>\n",
       "      <td></td>\n",
       "      <td>1</td>\n",
       "      <td>b all the experts admit that we should legalis...</td>\n",
       "      <td>b war in south osetia      pictures made by a ...</td>\n",
       "      <td>b swedish wrestler ara abrahamian throws away ...</td>\n",
       "      <td>b russia exaggerated the death toll in south o...</td>\n",
       "      <td>b missile that killed   inside pakistan may ha...</td>\n",
       "      <td>b rushdie condemns random house s refusal to p...</td>\n",
       "      <td>b poland and us agree to missle defense deal  ...</td>\n",
       "      <td>b will the russians conquer tblisi  bet on it ...</td>\n",
       "      <td>...</td>\n",
       "      <td>b bank analyst forecast georgian crisis   days...</td>\n",
       "      <td>b georgia confict could set back russia s us r...</td>\n",
       "      <td>b war in the caucasus is as much the product o...</td>\n",
       "      <td>b  non media  photos of south ossetia georgia ...</td>\n",
       "      <td>b georgian tv reporter shot by russian sniper ...</td>\n",
       "      <td>b saudi arabia  mother moves to block child ma...</td>\n",
       "      <td>b taliban wages war on humanitarian aid workers</td>\n",
       "      <td>b russia  world   can forget about  georgia  s...</td>\n",
       "      <td>b darfur rebels accuse sudan of mounting major...</td>\n",
       "      <td>b philippines   peace advocate say muslims nee...</td>\n",
       "    </tr>\n",
       "  </tbody>\n",
       "</table>\n",
       "<p>5 rows × 27 columns</p>\n",
       "</div>"
      ],
      "text/plain": [
       "         Date  Label                                               Top1  \\\n",
       "0                  0  b georgia  downs two russian warplanes  as cou...   \n",
       "1                  1  b why wont america and nato help us  if they w...   \n",
       "2                  0  b remember that adorable   year old who sang a...   \n",
       "3                  0  b  u s  refuses israel weapons to attack iran ...   \n",
       "4                  1  b all the experts admit that we should legalis...   \n",
       "\n",
       "                                                Top2  \\\n",
       "0            b breaking  musharraf to be impeached     \n",
       "1        b bush puts foot down on georgian conflict    \n",
       "2                 b russia  ends georgia operation     \n",
       "3  b when the president ordered to attack tskhinv...   \n",
       "4  b war in south osetia      pictures made by a ...   \n",
       "\n",
       "                                                Top3  \\\n",
       "0  b russia today  columns of troops roll into so...   \n",
       "1  b jewish georgian minister  thanks to israeli ...   \n",
       "2  b  if we had no sexual harassment we would hav...   \n",
       "3  b  israel clears troops who killed reuters cam...   \n",
       "4  b swedish wrestler ara abrahamian throws away ...   \n",
       "\n",
       "                                                Top4  \\\n",
       "0  b russian tanks are moving towards the capital...   \n",
       "1  b georgian army flees in disarray as russians ...   \n",
       "2  b al qa eda is losing support in iraq because ...   \n",
       "3  b britain  s policy of being tough on drugs is...   \n",
       "4  b russia exaggerated the death toll in south o...   \n",
       "\n",
       "                                                Top5  \\\n",
       "0  b afghan children raped with  impunity   u n  ...   \n",
       "1      b olympic opening ceremony fireworks  faked     \n",
       "2  b ceasefire in georgia  putin outmaneuvers the...   \n",
       "3  b body of    year old found in trunk  latest  ...   \n",
       "4  b missile that killed   inside pakistan may ha...   \n",
       "\n",
       "                                                Top6  \\\n",
       "0  b     russian tanks have entered south ossetia...   \n",
       "1  b what were the mossad with fraudulent new zea...   \n",
       "2  b why microsoft and intel tried to kill the xo...   \n",
       "3  b china has moved     million  quake survivors...   \n",
       "4  b rushdie condemns random house s refusal to p...   \n",
       "\n",
       "                                                Top7  \\\n",
       "0  b breaking  georgia invades south ossetia  rus...   \n",
       "1  b russia angered by israeli military sale to g...   \n",
       "2  b stratfor  the russo georgian war and the bal...   \n",
       "3  b bush announces operation get all up in russi...   \n",
       "4  b poland and us agree to missle defense deal  ...   \n",
       "\n",
       "                                                Top8  ...  \\\n",
       "0  b the  enemy combatent  trials are nothing but...  ...   \n",
       "1  b an american citizen living in s ossetia blam...  ...   \n",
       "2  b i m trying to get a sense of this whole geor...  ...   \n",
       "3             b russian forces sink georgian ships    ...   \n",
       "4  b will the russians conquer tblisi  bet on it ...  ...   \n",
       "\n",
       "                                               Top16  \\\n",
       "0  b georgia invades south ossetia   if russia ge...   \n",
       "1  b israel and the us behind the georgian aggres...   \n",
       "2  b u s  troops still in georgia  did you know t...   \n",
       "3                      b elephants extinct by          \n",
       "4  b bank analyst forecast georgian crisis   days...   \n",
       "\n",
       "                                               Top17  \\\n",
       "0                b al qaeda faces islamist backlash    \n",
       "1  b  do not believe tv  neither russian nor geor...   \n",
       "2       b why russias response to georgia was right    \n",
       "3  b us humanitarian missions soon in georgia   i...   \n",
       "4  b georgia confict could set back russia s us r...   \n",
       "\n",
       "                                               Top18  \\\n",
       "0  b condoleezza rice   the us would not act to p...   \n",
       "1  b riots are still going on in montreal  canada...   \n",
       "2  b gorbachev accuses u s  of making a  serious ...   \n",
       "3             b georgia s ddos came from us sources    \n",
       "4  b war in the caucasus is as much the product o...   \n",
       "\n",
       "                                               Top19  \\\n",
       "0  b this is a busy day   the european union has ...   \n",
       "1    b china to overtake us as largest manufacturer    \n",
       "2         b russia  georgia  and nato  cold war two    \n",
       "3  b russian convoy heads into georgia  violating...   \n",
       "4  b  non media  photos of south ossetia georgia ...   \n",
       "\n",
       "                                               Top20  \\\n",
       "0  b georgia will withdraw       soldiers from ir...   \n",
       "1                     b war in south ossetia  pics     \n",
       "2  b remember that adorable    year old who led y...   \n",
       "3  b israeli defence minister  us against strike ...   \n",
       "4  b georgian tv reporter shot by russian sniper ...   \n",
       "\n",
       "                                               Top21  \\\n",
       "0  b why the pentagon thinks attacking iran is a ...   \n",
       "1  b israeli physicians group condemns state tort...   \n",
       "2          b war in georgia  the israeli connection    \n",
       "3                     b gorbachev  we had no choice    \n",
       "4  b saudi arabia  mother moves to block child ma...   \n",
       "\n",
       "                                               Top22  \\\n",
       "0  b caucasus in crisis  georgia invades south os...   \n",
       "1  b  russia has just beaten the united states ov...   \n",
       "2  b all signs point to the us encouraging georgi...   \n",
       "3  b witness  russian forces head towards tbilisi...   \n",
       "4   b taliban wages war on humanitarian aid workers    \n",
       "\n",
       "                                               Top23  \\\n",
       "0  b indian shoe manufactory    and again in a se...   \n",
       "1  b perhaps  the  question about the georgia   r...   \n",
       "2  b christopher king argues that the us and nato...   \n",
       "3  b  quarter of russians blame u s  for conflict...   \n",
       "4  b russia  world   can forget about  georgia  s...   \n",
       "\n",
       "                                               Top24  \\\n",
       "0  b visitors suffering from mental illnesses ban...   \n",
       "1                 b russia is so much better at war    \n",
       "2                        b america  the new mexico     \n",
       "3  b georgian president  says us military will ta...   \n",
       "4  b darfur rebels accuse sudan of mounting major...   \n",
       "\n",
       "                                               Top25  \n",
       "0           b no help for mexico s kidnapping surge   \n",
       "1  b so this is what it s come to  trading sex fo...  \n",
       "2  b bbc news   asia pacific   extinction  by man...  \n",
       "3  b       nobel laureate aleksander solzhenitsyn...  \n",
       "4  b philippines   peace advocate say muslims nee...  \n",
       "\n",
       "[5 rows x 27 columns]"
      ]
     },
     "execution_count": 5,
     "metadata": {},
     "output_type": "execute_result"
    }
   ],
   "source": [
    "# removing punctuations and changing all the letters to lowercase for both train and test\n",
    "\n",
    "all_data = [train,test]\n",
    "\n",
    "for df in all_data:\n",
    "    df.replace(\"[^a-zA-Z]\",\" \",regex=True, inplace=True)\n",
    "    for i in df.columns:\n",
    "        if i=='Date':\n",
    "            continue\n",
    "        if i=='Label':\n",
    "            continue\n",
    "        df[i] = df[i].str.lower()\n",
    "\n",
    "train.head()"
   ]
  },
  {
   "cell_type": "code",
   "execution_count": 6,
   "metadata": {
    "execution": {
     "iopub.execute_input": "2020-10-29T04:54:49.691108Z",
     "iopub.status.busy": "2020-10-29T04:54:49.685847Z",
     "iopub.status.idle": "2020-10-29T04:54:50.114141Z",
     "shell.execute_reply": "2020-10-29T04:54:50.113423Z"
    },
    "id": "OzpyMEfMx3s9",
    "outputId": "ba650cf5-f648-4c61-b841-6fd998cab42c",
    "papermill": {
     "duration": 0.472132,
     "end_time": "2020-10-29T04:54:50.114256",
     "exception": false,
     "start_time": "2020-10-29T04:54:49.642124",
     "status": "completed"
    },
    "tags": []
   },
   "outputs": [
    {
     "data": {
      "text/plain": [
       "'b georgia  downs two russian warplanes  as countries move to brink of war  b breaking  musharraf to be impeached   b russia today  columns of troops roll into south ossetia  footage from fighting  youtube   b russian tanks are moving towards the capital of south ossetia  which has reportedly been completely destroyed by georgian artillery fire  b afghan children raped with  impunity   u n  official says   this is sick  a three year old was raped and they do nothing  b     russian tanks have entered south ossetia whilst georgia shoots down two russian jets   b breaking  georgia invades south ossetia  russia warned it would intervene on so s side  b the  enemy combatent  trials are nothing but a sham  salim haman has been sentenced to       years  but will be kept longer anyway just because they feel like it   b georgian troops retreat from s  osettain capital  presumably leaving several hundred people killed   video   b did the u s  prep georgia for war with russia   b rice gives green light for israel to attack iran  says u s  has no veto over israeli military ops  b announcing class action lawsuit on behalf of american public against the fbi  b so   russia and georgia are at war and the nyt s top story is opening ceremonies of the olympics   what a fucking disgrace and yet further proof of the decline of journalism   b china tells bush to stay out of other countries  affairs  b did world war iii start today   b georgia invades south ossetia   if russia gets involved  will nato absorb georgia and unleash a full scale war   b al qaeda faces islamist backlash  b condoleezza rice   the us would not act to prevent an israeli strike on iran   israeli defense minister ehud barak   israel is prepared for uncompromising victory in the case of military hostilities    b this is a busy day   the european union has approved new sanctions against iran in protest at its nuclear programme   b georgia will withdraw       soldiers from iraq to help fight off russian forces in georgia s breakaway region of south ossetia  b why the pentagon thinks attacking iran is a bad idea   us news  amp  world report  b caucasus in crisis  georgia invades south ossetia  b indian shoe manufactory    and again in a series of  you do not like your work    b visitors suffering from mental illnesses banned from olympics  b no help for mexico s kidnapping surge '"
      ]
     },
     "execution_count": 6,
     "metadata": {},
     "output_type": "execute_result"
    }
   ],
   "source": [
    "# combining all the headlines in train data into one and appending them into a list \n",
    "\n",
    "headlines = []\n",
    "for row in range(0,len(train.index)):\n",
    "    headlines.append(' '.join(str(x) for x in train.iloc[row,2:]))\n",
    "headlines[0]"
   ]
  },
  {
   "cell_type": "code",
   "execution_count": 7,
   "metadata": {
    "execution": {
     "iopub.execute_input": "2020-10-29T04:54:50.195870Z",
     "iopub.status.busy": "2020-10-29T04:54:50.185814Z",
     "iopub.status.idle": "2020-10-29T04:54:50.348261Z",
     "shell.execute_reply": "2020-10-29T04:54:50.347646Z"
    },
    "id": "rawwemdUx3tQ",
    "papermill": {
     "duration": 0.203178,
     "end_time": "2020-10-29T04:54:50.348384",
     "exception": false,
     "start_time": "2020-10-29T04:54:50.145206",
     "status": "completed"
    },
    "tags": []
   },
   "outputs": [],
   "source": [
    "# combining all the headlines in test data into one and appending them into a list \n",
    "\n",
    "test_transform= []\n",
    "for row in range(0,len(test.index)):\n",
    "    test_transform.append(' '.join(str(x) for x in test.iloc[row,2:27]))"
   ]
  },
  {
   "cell_type": "code",
   "execution_count": 8,
   "metadata": {},
   "outputs": [
    {
     "data": {
      "text/plain": [
       "'most cases of cancer are the result of sheer bad luck rather than unhealthy lifestyles  diet or even inherited genes  new research suggests  random mutations that occur in dna when cells divide are responsible for two thirds of adult cancers across a wide range of tissues  iran dismissed united states efforts to fight islamic state as a ploy to advance u s  policies in the region   the reality is that the united states is not acting to eliminate daesh  they are not even interested in weakening daesh  they are only interested in managing it  poll  one in   germans would join anti muslim marches uk royal family s prince andrew named in us lawsuit over underage sex allegations some    asylum seekers refused to leave the bus when they arrived at their destination in rural northern sweden  demanding that they be taken back to malm or  some big city   pakistani boat blows self up after india navy chase  all four people on board the vessel from near the pakistani port city of karachi are believed to have been killed in the dramatic episode in the arabian sea on new year s eve  according to india s defence ministry  sweden hit by third mosque arson attack in a week     cars set alight during french new year salaries for top ceos rose twice as fast as average canadian since recession  study norway violated equal pay law  judge says  judge finds consulate employee was unjustly paid         less than her male counterpart imam wants radical recruiters of muslim youth in canada identified and dealt with saudi arabia beheaded    people in       the most in years  a living hell  for slaves on remote south korean islands   slavery thrives on this chain of rural islands off south korea s rugged southwest coast  nurtured by a long history of exploitation and the demands of trying to squeeze a living from the sea  worlds     richest get richer  adding    bn in      rental car stereos infringe copyright  music rights group says ukrainian minister threatens tv channel with closure for airing russian entertainers palestinian president mahmoud abbas has entered into his most serious confrontation yet with israel by signing onto the international criminal court  his decision on wednesday gives the court jurisdiction over crimes committed in palestinian lands  israeli security center publishes names of    killed terrorists  concealed by hamas  the year      was the deadliest year yet in syria s four year conflict  with over        killed a secret underground complex built by the nazis that may have been used for the development of wmds  including a nuclear bomb  has been uncovered in austria  restrictions on web freedom a major global issue in      austrian journalist erich mchel delivered a presentation in hamburg at the annual meeting of the chaos computer club on monday december     detailing the various locations where the us nsa has been actively collecting and processing electronic intelligence in vienna  thousands of ukraine nationalists march in kiev chinas new years resolution  no more harvesting executed prisoners organs authorities pull plug on russia s last politically independent tv station'"
      ]
     },
     "execution_count": 8,
     "metadata": {},
     "output_type": "execute_result"
    }
   ],
   "source": [
    "test_transform[0]"
   ]
  },
  {
   "cell_type": "markdown",
   "metadata": {
    "papermill": {
     "duration": 0.029988,
     "end_time": "2020-10-29T04:54:50.408581",
     "exception": false,
     "start_time": "2020-10-29T04:54:50.378593",
     "status": "completed"
    },
    "tags": []
   },
   "source": [
    "## <font color='darkred'>Applying Machine Learning Algorithms (Random forest , XGBOOST and CATBoost)</font>"
   ]
  },
  {
   "cell_type": "code",
   "execution_count": 9,
   "metadata": {
    "execution": {
     "iopub.execute_input": "2020-10-29T04:54:50.489543Z",
     "iopub.status.busy": "2020-10-29T04:54:50.484515Z",
     "iopub.status.idle": "2020-10-29T04:55:06.869806Z",
     "shell.execute_reply": "2020-10-29T04:55:06.869249Z"
    },
    "id": "QHPZUDSpx3tr",
    "outputId": "5e3e9d5b-b39c-43e1-b880-c4b719caa486",
    "papermill": {
     "duration": 16.430918,
     "end_time": "2020-10-29T04:55:06.869953",
     "exception": false,
     "start_time": "2020-10-29T04:54:50.439035",
     "status": "completed"
    },
    "tags": []
   },
   "outputs": [
    {
     "data": {
      "text/plain": [
       "RandomForestClassifier(criterion='entropy', n_estimators=200)"
      ]
     },
     "execution_count": 9,
     "metadata": {},
     "output_type": "execute_result"
    }
   ],
   "source": [
    "# Applying countvectorizer on headlines list that we created before and max features is set to 100009\n",
    "\n",
    "countvector=CountVectorizer(ngram_range=(2,2),max_features=100009)\n",
    "traindataset=countvector.fit_transform(headlines)\n",
    "\n",
    "randomclassifier=RandomForestClassifier(n_estimators=200,criterion='entropy')\n",
    "randomclassifier.fit(traindataset,train['Label'])"
   ]
  },
  {
   "cell_type": "code",
   "execution_count": 18,
   "metadata": {},
   "outputs": [
    {
     "data": {
      "text/html": [
       "<div>\n",
       "<style scoped>\n",
       "    .dataframe tbody tr th:only-of-type {\n",
       "        vertical-align: middle;\n",
       "    }\n",
       "\n",
       "    .dataframe tbody tr th {\n",
       "        vertical-align: top;\n",
       "    }\n",
       "\n",
       "    .dataframe thead th {\n",
       "        text-align: right;\n",
       "    }\n",
       "</style>\n",
       "<table border=\"1\" class=\"dataframe\">\n",
       "  <thead>\n",
       "    <tr style=\"text-align: right;\">\n",
       "      <th></th>\n",
       "      <th>aaa credit</th>\n",
       "      <th>aaa rating</th>\n",
       "      <th>aadmi party</th>\n",
       "      <th>aam aadmi</th>\n",
       "      <th>aamer the</th>\n",
       "      <th>aap party</th>\n",
       "      <th>abandon iran</th>\n",
       "      <th>abandon its</th>\n",
       "      <th>abandon military</th>\n",
       "      <th>abandon net</th>\n",
       "      <th>...</th>\n",
       "      <th>zone the</th>\n",
       "      <th>zone to</th>\n",
       "      <th>zone will</th>\n",
       "      <th>zone with</th>\n",
       "      <th>zones and</th>\n",
       "      <th>zoo in</th>\n",
       "      <th>zoologists hunting</th>\n",
       "      <th>zoos into</th>\n",
       "      <th>zoos npr</th>\n",
       "      <th>zu guttenberg</th>\n",
       "    </tr>\n",
       "  </thead>\n",
       "  <tbody>\n",
       "    <tr>\n",
       "      <th>0</th>\n",
       "      <td>0</td>\n",
       "      <td>0</td>\n",
       "      <td>0</td>\n",
       "      <td>0</td>\n",
       "      <td>0</td>\n",
       "      <td>0</td>\n",
       "      <td>0</td>\n",
       "      <td>0</td>\n",
       "      <td>0</td>\n",
       "      <td>0</td>\n",
       "      <td>...</td>\n",
       "      <td>0</td>\n",
       "      <td>0</td>\n",
       "      <td>0</td>\n",
       "      <td>0</td>\n",
       "      <td>0</td>\n",
       "      <td>0</td>\n",
       "      <td>0</td>\n",
       "      <td>0</td>\n",
       "      <td>0</td>\n",
       "      <td>0</td>\n",
       "    </tr>\n",
       "    <tr>\n",
       "      <th>1</th>\n",
       "      <td>0</td>\n",
       "      <td>0</td>\n",
       "      <td>0</td>\n",
       "      <td>0</td>\n",
       "      <td>0</td>\n",
       "      <td>0</td>\n",
       "      <td>0</td>\n",
       "      <td>0</td>\n",
       "      <td>0</td>\n",
       "      <td>0</td>\n",
       "      <td>...</td>\n",
       "      <td>0</td>\n",
       "      <td>0</td>\n",
       "      <td>0</td>\n",
       "      <td>0</td>\n",
       "      <td>0</td>\n",
       "      <td>0</td>\n",
       "      <td>0</td>\n",
       "      <td>0</td>\n",
       "      <td>0</td>\n",
       "      <td>0</td>\n",
       "    </tr>\n",
       "    <tr>\n",
       "      <th>2</th>\n",
       "      <td>0</td>\n",
       "      <td>0</td>\n",
       "      <td>0</td>\n",
       "      <td>0</td>\n",
       "      <td>0</td>\n",
       "      <td>0</td>\n",
       "      <td>0</td>\n",
       "      <td>0</td>\n",
       "      <td>0</td>\n",
       "      <td>0</td>\n",
       "      <td>...</td>\n",
       "      <td>0</td>\n",
       "      <td>0</td>\n",
       "      <td>0</td>\n",
       "      <td>0</td>\n",
       "      <td>0</td>\n",
       "      <td>0</td>\n",
       "      <td>0</td>\n",
       "      <td>0</td>\n",
       "      <td>0</td>\n",
       "      <td>0</td>\n",
       "    </tr>\n",
       "    <tr>\n",
       "      <th>3</th>\n",
       "      <td>0</td>\n",
       "      <td>0</td>\n",
       "      <td>0</td>\n",
       "      <td>0</td>\n",
       "      <td>0</td>\n",
       "      <td>0</td>\n",
       "      <td>0</td>\n",
       "      <td>0</td>\n",
       "      <td>0</td>\n",
       "      <td>0</td>\n",
       "      <td>...</td>\n",
       "      <td>0</td>\n",
       "      <td>0</td>\n",
       "      <td>0</td>\n",
       "      <td>0</td>\n",
       "      <td>0</td>\n",
       "      <td>0</td>\n",
       "      <td>0</td>\n",
       "      <td>0</td>\n",
       "      <td>0</td>\n",
       "      <td>0</td>\n",
       "    </tr>\n",
       "    <tr>\n",
       "      <th>4</th>\n",
       "      <td>0</td>\n",
       "      <td>0</td>\n",
       "      <td>0</td>\n",
       "      <td>0</td>\n",
       "      <td>0</td>\n",
       "      <td>0</td>\n",
       "      <td>0</td>\n",
       "      <td>0</td>\n",
       "      <td>0</td>\n",
       "      <td>0</td>\n",
       "      <td>...</td>\n",
       "      <td>0</td>\n",
       "      <td>0</td>\n",
       "      <td>0</td>\n",
       "      <td>0</td>\n",
       "      <td>0</td>\n",
       "      <td>0</td>\n",
       "      <td>0</td>\n",
       "      <td>0</td>\n",
       "      <td>0</td>\n",
       "      <td>0</td>\n",
       "    </tr>\n",
       "    <tr>\n",
       "      <th>...</th>\n",
       "      <td>...</td>\n",
       "      <td>...</td>\n",
       "      <td>...</td>\n",
       "      <td>...</td>\n",
       "      <td>...</td>\n",
       "      <td>...</td>\n",
       "      <td>...</td>\n",
       "      <td>...</td>\n",
       "      <td>...</td>\n",
       "      <td>...</td>\n",
       "      <td>...</td>\n",
       "      <td>...</td>\n",
       "      <td>...</td>\n",
       "      <td>...</td>\n",
       "      <td>...</td>\n",
       "      <td>...</td>\n",
       "      <td>...</td>\n",
       "      <td>...</td>\n",
       "      <td>...</td>\n",
       "      <td>...</td>\n",
       "      <td>...</td>\n",
       "    </tr>\n",
       "    <tr>\n",
       "      <th>1858</th>\n",
       "      <td>0</td>\n",
       "      <td>0</td>\n",
       "      <td>0</td>\n",
       "      <td>0</td>\n",
       "      <td>0</td>\n",
       "      <td>0</td>\n",
       "      <td>0</td>\n",
       "      <td>0</td>\n",
       "      <td>0</td>\n",
       "      <td>0</td>\n",
       "      <td>...</td>\n",
       "      <td>0</td>\n",
       "      <td>0</td>\n",
       "      <td>0</td>\n",
       "      <td>0</td>\n",
       "      <td>0</td>\n",
       "      <td>0</td>\n",
       "      <td>0</td>\n",
       "      <td>0</td>\n",
       "      <td>0</td>\n",
       "      <td>0</td>\n",
       "    </tr>\n",
       "    <tr>\n",
       "      <th>1859</th>\n",
       "      <td>0</td>\n",
       "      <td>0</td>\n",
       "      <td>0</td>\n",
       "      <td>0</td>\n",
       "      <td>0</td>\n",
       "      <td>0</td>\n",
       "      <td>0</td>\n",
       "      <td>0</td>\n",
       "      <td>0</td>\n",
       "      <td>0</td>\n",
       "      <td>...</td>\n",
       "      <td>0</td>\n",
       "      <td>0</td>\n",
       "      <td>0</td>\n",
       "      <td>0</td>\n",
       "      <td>0</td>\n",
       "      <td>0</td>\n",
       "      <td>0</td>\n",
       "      <td>0</td>\n",
       "      <td>0</td>\n",
       "      <td>0</td>\n",
       "    </tr>\n",
       "    <tr>\n",
       "      <th>1860</th>\n",
       "      <td>0</td>\n",
       "      <td>0</td>\n",
       "      <td>0</td>\n",
       "      <td>0</td>\n",
       "      <td>0</td>\n",
       "      <td>0</td>\n",
       "      <td>0</td>\n",
       "      <td>0</td>\n",
       "      <td>0</td>\n",
       "      <td>0</td>\n",
       "      <td>...</td>\n",
       "      <td>0</td>\n",
       "      <td>0</td>\n",
       "      <td>0</td>\n",
       "      <td>0</td>\n",
       "      <td>0</td>\n",
       "      <td>0</td>\n",
       "      <td>0</td>\n",
       "      <td>0</td>\n",
       "      <td>0</td>\n",
       "      <td>0</td>\n",
       "    </tr>\n",
       "    <tr>\n",
       "      <th>1861</th>\n",
       "      <td>0</td>\n",
       "      <td>0</td>\n",
       "      <td>0</td>\n",
       "      <td>0</td>\n",
       "      <td>0</td>\n",
       "      <td>0</td>\n",
       "      <td>0</td>\n",
       "      <td>0</td>\n",
       "      <td>0</td>\n",
       "      <td>0</td>\n",
       "      <td>...</td>\n",
       "      <td>0</td>\n",
       "      <td>0</td>\n",
       "      <td>0</td>\n",
       "      <td>0</td>\n",
       "      <td>0</td>\n",
       "      <td>0</td>\n",
       "      <td>0</td>\n",
       "      <td>0</td>\n",
       "      <td>0</td>\n",
       "      <td>0</td>\n",
       "    </tr>\n",
       "    <tr>\n",
       "      <th>1862</th>\n",
       "      <td>0</td>\n",
       "      <td>0</td>\n",
       "      <td>0</td>\n",
       "      <td>0</td>\n",
       "      <td>0</td>\n",
       "      <td>0</td>\n",
       "      <td>0</td>\n",
       "      <td>0</td>\n",
       "      <td>0</td>\n",
       "      <td>0</td>\n",
       "      <td>...</td>\n",
       "      <td>0</td>\n",
       "      <td>0</td>\n",
       "      <td>0</td>\n",
       "      <td>0</td>\n",
       "      <td>0</td>\n",
       "      <td>0</td>\n",
       "      <td>0</td>\n",
       "      <td>0</td>\n",
       "      <td>0</td>\n",
       "      <td>0</td>\n",
       "    </tr>\n",
       "  </tbody>\n",
       "</table>\n",
       "<p>1863 rows × 100009 columns</p>\n",
       "</div>"
      ],
      "text/plain": [
       "      aaa credit  aaa rating  aadmi party  aam aadmi  aamer the  aap party  \\\n",
       "0              0           0            0          0          0          0   \n",
       "1              0           0            0          0          0          0   \n",
       "2              0           0            0          0          0          0   \n",
       "3              0           0            0          0          0          0   \n",
       "4              0           0            0          0          0          0   \n",
       "...          ...         ...          ...        ...        ...        ...   \n",
       "1858           0           0            0          0          0          0   \n",
       "1859           0           0            0          0          0          0   \n",
       "1860           0           0            0          0          0          0   \n",
       "1861           0           0            0          0          0          0   \n",
       "1862           0           0            0          0          0          0   \n",
       "\n",
       "      abandon iran  abandon its  abandon military  abandon net  ...  zone the  \\\n",
       "0                0            0                 0            0  ...         0   \n",
       "1                0            0                 0            0  ...         0   \n",
       "2                0            0                 0            0  ...         0   \n",
       "3                0            0                 0            0  ...         0   \n",
       "4                0            0                 0            0  ...         0   \n",
       "...            ...          ...               ...          ...  ...       ...   \n",
       "1858             0            0                 0            0  ...         0   \n",
       "1859             0            0                 0            0  ...         0   \n",
       "1860             0            0                 0            0  ...         0   \n",
       "1861             0            0                 0            0  ...         0   \n",
       "1862             0            0                 0            0  ...         0   \n",
       "\n",
       "      zone to  zone will  zone with  zones and  zoo in  zoologists hunting  \\\n",
       "0           0          0          0          0       0                   0   \n",
       "1           0          0          0          0       0                   0   \n",
       "2           0          0          0          0       0                   0   \n",
       "3           0          0          0          0       0                   0   \n",
       "4           0          0          0          0       0                   0   \n",
       "...       ...        ...        ...        ...     ...                 ...   \n",
       "1858        0          0          0          0       0                   0   \n",
       "1859        0          0          0          0       0                   0   \n",
       "1860        0          0          0          0       0                   0   \n",
       "1861        0          0          0          0       0                   0   \n",
       "1862        0          0          0          0       0                   0   \n",
       "\n",
       "      zoos into  zoos npr  zu guttenberg  \n",
       "0             0         0              0  \n",
       "1             0         0              0  \n",
       "2             0         0              0  \n",
       "3             0         0              0  \n",
       "4             0         0              0  \n",
       "...         ...       ...            ...  \n",
       "1858          0         0              0  \n",
       "1859          0         0              0  \n",
       "1860          0         0              0  \n",
       "1861          0         0              0  \n",
       "1862          0         0              0  \n",
       "\n",
       "[1863 rows x 100009 columns]"
      ]
     },
     "execution_count": 18,
     "metadata": {},
     "output_type": "execute_result"
    }
   ],
   "source": [
    "traindataset_df = pd.DataFrame(traindataset.toarray(),columns=countvector.get_feature_names())\n",
    "traindataset_df"
   ]
  },
  {
   "cell_type": "code",
   "execution_count": 29,
   "metadata": {},
   "outputs": [
    {
     "data": {
      "text/plain": [
       "Index(['of the', 'in the', 'to the', 'to be', 'on the', 'the world', 'for the',\n",
       "       'has been', 'north korea', 'by the',\n",
       "       ...\n",
       "       'meth produced', 'being developed', 'meth use', 'meth was',\n",
       "       'methane alarm', 'computers detaining', 'methane catastrophe',\n",
       "       'housemaid accused', 'households into', 'microwaves police'],\n",
       "      dtype='object', length=100009)"
      ]
     },
     "execution_count": 29,
     "metadata": {},
     "output_type": "execute_result"
    }
   ],
   "source": [
    "traindataset_df.sum(axis=0).sort_values(ascending=False).index"
   ]
  },
  {
   "cell_type": "code",
   "execution_count": 35,
   "metadata": {},
   "outputs": [
    {
     "data": {
      "text/plain": [
       "Text(0.5, 1.0, 'Most repeated words in the headlines(training set)')"
      ]
     },
     "execution_count": 35,
     "metadata": {},
     "output_type": "execute_result"
    },
    {
     "data": {
      "image/png": "[encoded data removed]",
      "text/plain": [
       "<Figure size 432x288 with 1 Axes>"
      ]
     },
     "metadata": {
      "needs_background": "light"
     },
     "output_type": "display_data"
    }
   ],
   "source": [
    "import seaborn as sns\n",
    "sns.barplot(traindataset_df.sum(axis=0).sort_values(ascending=False).index[:5],traindataset_df.sum(axis=0).sort_values(ascending=False)[:5]).set_title('Most repeated words in the headlines(training set)')"
   ]
  },
  {
   "cell_type": "markdown",
   "metadata": {
    "papermill": {
     "duration": 0.03433,
     "end_time": "2020-10-29T04:55:06.935060",
     "exception": false,
     "start_time": "2020-10-29T04:55:06.900730",
     "status": "completed"
    },
    "tags": []
   },
   "source": [
    "\n",
    "\n",
    "<font color='darkblue'>The maximum features for countvectorizer is set to 100009 because, i tried many other numbers for maximum features and for 100009 i got the best accuracy, with lowest False positive values ( you can see below in the confusion matrix you can try other values and check it yourself, if you find the best accuracy with other maximum features then comment below</font>"
   ]
  },
  {
   "cell_type": "markdown",
   "metadata": {
    "papermill": {
     "duration": 0.029927,
     "end_time": "2020-10-29T04:55:06.995670",
     "exception": false,
     "start_time": "2020-10-29T04:55:06.965743",
     "status": "completed"
    },
    "tags": []
   },
   "source": [
    "### <font color='darkred'>Random forest without hyperparameter tuning</font>"
   ]
  },
  {
   "cell_type": "code",
   "execution_count": 37,
   "metadata": {
    "execution": {
     "iopub.execute_input": "2020-10-29T04:55:07.076392Z",
     "iopub.status.busy": "2020-10-29T04:55:07.066097Z",
     "iopub.status.idle": "2020-10-29T04:55:07.804089Z",
     "shell.execute_reply": "2020-10-29T04:55:07.802961Z"
    },
    "id": "LzP9OFK1x3tx",
    "papermill": {
     "duration": 0.777955,
     "end_time": "2020-10-29T04:55:07.804229",
     "exception": false,
     "start_time": "2020-10-29T04:55:07.026274",
     "status": "completed"
    },
    "tags": []
   },
   "outputs": [],
   "source": [
    "# Applying countvectorizer on test_transform list that we created before \n",
    "\n",
    "test_dataset = countvector.transform(test_transform)\n",
    "predictions = randomclassifier.predict(test_dataset)"
   ]
  },
  {
   "cell_type": "code",
   "execution_count": 38,
   "metadata": {},
   "outputs": [
    {
     "data": {
      "text/html": [
       "<div>\n",
       "<style scoped>\n",
       "    .dataframe tbody tr th:only-of-type {\n",
       "        vertical-align: middle;\n",
       "    }\n",
       "\n",
       "    .dataframe tbody tr th {\n",
       "        vertical-align: top;\n",
       "    }\n",
       "\n",
       "    .dataframe thead th {\n",
       "        text-align: right;\n",
       "    }\n",
       "</style>\n",
       "<table border=\"1\" class=\"dataframe\">\n",
       "  <thead>\n",
       "    <tr style=\"text-align: right;\">\n",
       "      <th></th>\n",
       "      <th>aaa credit</th>\n",
       "      <th>aaa rating</th>\n",
       "      <th>aadmi party</th>\n",
       "      <th>aam aadmi</th>\n",
       "      <th>aamer the</th>\n",
       "      <th>aap party</th>\n",
       "      <th>abandon iran</th>\n",
       "      <th>abandon its</th>\n",
       "      <th>abandon military</th>\n",
       "      <th>abandon net</th>\n",
       "      <th>...</th>\n",
       "      <th>zone the</th>\n",
       "      <th>zone to</th>\n",
       "      <th>zone will</th>\n",
       "      <th>zone with</th>\n",
       "      <th>zones and</th>\n",
       "      <th>zoo in</th>\n",
       "      <th>zoologists hunting</th>\n",
       "      <th>zoos into</th>\n",
       "      <th>zoos npr</th>\n",
       "      <th>zu guttenberg</th>\n",
       "    </tr>\n",
       "  </thead>\n",
       "  <tbody>\n",
       "    <tr>\n",
       "      <th>0</th>\n",
       "      <td>0</td>\n",
       "      <td>0</td>\n",
       "      <td>0</td>\n",
       "      <td>0</td>\n",
       "      <td>0</td>\n",
       "      <td>0</td>\n",
       "      <td>0</td>\n",
       "      <td>0</td>\n",
       "      <td>0</td>\n",
       "      <td>0</td>\n",
       "      <td>...</td>\n",
       "      <td>0</td>\n",
       "      <td>0</td>\n",
       "      <td>0</td>\n",
       "      <td>0</td>\n",
       "      <td>0</td>\n",
       "      <td>0</td>\n",
       "      <td>0</td>\n",
       "      <td>0</td>\n",
       "      <td>0</td>\n",
       "      <td>0</td>\n",
       "    </tr>\n",
       "    <tr>\n",
       "      <th>1</th>\n",
       "      <td>0</td>\n",
       "      <td>0</td>\n",
       "      <td>0</td>\n",
       "      <td>0</td>\n",
       "      <td>0</td>\n",
       "      <td>0</td>\n",
       "      <td>0</td>\n",
       "      <td>0</td>\n",
       "      <td>0</td>\n",
       "      <td>0</td>\n",
       "      <td>...</td>\n",
       "      <td>0</td>\n",
       "      <td>0</td>\n",
       "      <td>0</td>\n",
       "      <td>0</td>\n",
       "      <td>0</td>\n",
       "      <td>0</td>\n",
       "      <td>0</td>\n",
       "      <td>0</td>\n",
       "      <td>0</td>\n",
       "      <td>0</td>\n",
       "    </tr>\n",
       "    <tr>\n",
       "      <th>2</th>\n",
       "      <td>0</td>\n",
       "      <td>0</td>\n",
       "      <td>0</td>\n",
       "      <td>0</td>\n",
       "      <td>0</td>\n",
       "      <td>0</td>\n",
       "      <td>0</td>\n",
       "      <td>0</td>\n",
       "      <td>0</td>\n",
       "      <td>0</td>\n",
       "      <td>...</td>\n",
       "      <td>0</td>\n",
       "      <td>0</td>\n",
       "      <td>0</td>\n",
       "      <td>0</td>\n",
       "      <td>0</td>\n",
       "      <td>0</td>\n",
       "      <td>0</td>\n",
       "      <td>0</td>\n",
       "      <td>0</td>\n",
       "      <td>0</td>\n",
       "    </tr>\n",
       "    <tr>\n",
       "      <th>3</th>\n",
       "      <td>0</td>\n",
       "      <td>0</td>\n",
       "      <td>0</td>\n",
       "      <td>0</td>\n",
       "      <td>0</td>\n",
       "      <td>0</td>\n",
       "      <td>0</td>\n",
       "      <td>0</td>\n",
       "      <td>0</td>\n",
       "      <td>0</td>\n",
       "      <td>...</td>\n",
       "      <td>0</td>\n",
       "      <td>0</td>\n",
       "      <td>0</td>\n",
       "      <td>0</td>\n",
       "      <td>0</td>\n",
       "      <td>0</td>\n",
       "      <td>0</td>\n",
       "      <td>0</td>\n",
       "      <td>0</td>\n",
       "      <td>0</td>\n",
       "    </tr>\n",
       "    <tr>\n",
       "      <th>4</th>\n",
       "      <td>0</td>\n",
       "      <td>0</td>\n",
       "      <td>0</td>\n",
       "      <td>0</td>\n",
       "      <td>0</td>\n",
       "      <td>0</td>\n",
       "      <td>0</td>\n",
       "      <td>0</td>\n",
       "      <td>0</td>\n",
       "      <td>0</td>\n",
       "      <td>...</td>\n",
       "      <td>0</td>\n",
       "      <td>0</td>\n",
       "      <td>0</td>\n",
       "      <td>0</td>\n",
       "      <td>0</td>\n",
       "      <td>0</td>\n",
       "      <td>0</td>\n",
       "      <td>0</td>\n",
       "      <td>0</td>\n",
       "      <td>0</td>\n",
       "    </tr>\n",
       "    <tr>\n",
       "      <th>...</th>\n",
       "      <td>...</td>\n",
       "      <td>...</td>\n",
       "      <td>...</td>\n",
       "      <td>...</td>\n",
       "      <td>...</td>\n",
       "      <td>...</td>\n",
       "      <td>...</td>\n",
       "      <td>...</td>\n",
       "      <td>...</td>\n",
       "      <td>...</td>\n",
       "      <td>...</td>\n",
       "      <td>...</td>\n",
       "      <td>...</td>\n",
       "      <td>...</td>\n",
       "      <td>...</td>\n",
       "      <td>...</td>\n",
       "      <td>...</td>\n",
       "      <td>...</td>\n",
       "      <td>...</td>\n",
       "      <td>...</td>\n",
       "      <td>...</td>\n",
       "    </tr>\n",
       "    <tr>\n",
       "      <th>373</th>\n",
       "      <td>0</td>\n",
       "      <td>0</td>\n",
       "      <td>0</td>\n",
       "      <td>0</td>\n",
       "      <td>0</td>\n",
       "      <td>0</td>\n",
       "      <td>0</td>\n",
       "      <td>0</td>\n",
       "      <td>0</td>\n",
       "      <td>0</td>\n",
       "      <td>...</td>\n",
       "      <td>0</td>\n",
       "      <td>0</td>\n",
       "      <td>0</td>\n",
       "      <td>0</td>\n",
       "      <td>0</td>\n",
       "      <td>0</td>\n",
       "      <td>0</td>\n",
       "      <td>0</td>\n",
       "      <td>0</td>\n",
       "      <td>0</td>\n",
       "    </tr>\n",
       "    <tr>\n",
       "      <th>374</th>\n",
       "      <td>0</td>\n",
       "      <td>0</td>\n",
       "      <td>0</td>\n",
       "      <td>0</td>\n",
       "      <td>0</td>\n",
       "      <td>0</td>\n",
       "      <td>0</td>\n",
       "      <td>0</td>\n",
       "      <td>0</td>\n",
       "      <td>0</td>\n",
       "      <td>...</td>\n",
       "      <td>0</td>\n",
       "      <td>0</td>\n",
       "      <td>0</td>\n",
       "      <td>0</td>\n",
       "      <td>0</td>\n",
       "      <td>0</td>\n",
       "      <td>0</td>\n",
       "      <td>0</td>\n",
       "      <td>0</td>\n",
       "      <td>0</td>\n",
       "    </tr>\n",
       "    <tr>\n",
       "      <th>375</th>\n",
       "      <td>0</td>\n",
       "      <td>0</td>\n",
       "      <td>0</td>\n",
       "      <td>0</td>\n",
       "      <td>0</td>\n",
       "      <td>0</td>\n",
       "      <td>0</td>\n",
       "      <td>0</td>\n",
       "      <td>0</td>\n",
       "      <td>0</td>\n",
       "      <td>...</td>\n",
       "      <td>0</td>\n",
       "      <td>0</td>\n",
       "      <td>0</td>\n",
       "      <td>0</td>\n",
       "      <td>0</td>\n",
       "      <td>0</td>\n",
       "      <td>0</td>\n",
       "      <td>0</td>\n",
       "      <td>0</td>\n",
       "      <td>0</td>\n",
       "    </tr>\n",
       "    <tr>\n",
       "      <th>376</th>\n",
       "      <td>0</td>\n",
       "      <td>0</td>\n",
       "      <td>0</td>\n",
       "      <td>0</td>\n",
       "      <td>0</td>\n",
       "      <td>0</td>\n",
       "      <td>0</td>\n",
       "      <td>0</td>\n",
       "      <td>0</td>\n",
       "      <td>0</td>\n",
       "      <td>...</td>\n",
       "      <td>0</td>\n",
       "      <td>0</td>\n",
       "      <td>0</td>\n",
       "      <td>0</td>\n",
       "      <td>0</td>\n",
       "      <td>0</td>\n",
       "      <td>0</td>\n",
       "      <td>0</td>\n",
       "      <td>0</td>\n",
       "      <td>0</td>\n",
       "    </tr>\n",
       "    <tr>\n",
       "      <th>377</th>\n",
       "      <td>0</td>\n",
       "      <td>0</td>\n",
       "      <td>0</td>\n",
       "      <td>0</td>\n",
       "      <td>0</td>\n",
       "      <td>0</td>\n",
       "      <td>0</td>\n",
       "      <td>0</td>\n",
       "      <td>0</td>\n",
       "      <td>0</td>\n",
       "      <td>...</td>\n",
       "      <td>0</td>\n",
       "      <td>0</td>\n",
       "      <td>0</td>\n",
       "      <td>0</td>\n",
       "      <td>0</td>\n",
       "      <td>0</td>\n",
       "      <td>0</td>\n",
       "      <td>0</td>\n",
       "      <td>0</td>\n",
       "      <td>0</td>\n",
       "    </tr>\n",
       "  </tbody>\n",
       "</table>\n",
       "<p>378 rows × 100009 columns</p>\n",
       "</div>"
      ],
      "text/plain": [
       "     aaa credit  aaa rating  aadmi party  aam aadmi  aamer the  aap party  \\\n",
       "0             0           0            0          0          0          0   \n",
       "1             0           0            0          0          0          0   \n",
       "2             0           0            0          0          0          0   \n",
       "3             0           0            0          0          0          0   \n",
       "4             0           0            0          0          0          0   \n",
       "..          ...         ...          ...        ...        ...        ...   \n",
       "373           0           0            0          0          0          0   \n",
       "374           0           0            0          0          0          0   \n",
       "375           0           0            0          0          0          0   \n",
       "376           0           0            0          0          0          0   \n",
       "377           0           0            0          0          0          0   \n",
       "\n",
       "     abandon iran  abandon its  abandon military  abandon net  ...  zone the  \\\n",
       "0               0            0                 0            0  ...         0   \n",
       "1               0            0                 0            0  ...         0   \n",
       "2               0            0                 0            0  ...         0   \n",
       "3               0            0                 0            0  ...         0   \n",
       "4               0            0                 0            0  ...         0   \n",
       "..            ...          ...               ...          ...  ...       ...   \n",
       "373             0            0                 0            0  ...         0   \n",
       "374             0            0                 0            0  ...         0   \n",
       "375             0            0                 0            0  ...         0   \n",
       "376             0            0                 0            0  ...         0   \n",
       "377             0            0                 0            0  ...         0   \n",
       "\n",
       "     zone to  zone will  zone with  zones and  zoo in  zoologists hunting  \\\n",
       "0          0          0          0          0       0                   0   \n",
       "1          0          0          0          0       0                   0   \n",
       "2          0          0          0          0       0                   0   \n",
       "3          0          0          0          0       0                   0   \n",
       "4          0          0          0          0       0                   0   \n",
       "..       ...        ...        ...        ...     ...                 ...   \n",
       "373        0          0          0          0       0                   0   \n",
       "374        0          0          0          0       0                   0   \n",
       "375        0          0          0          0       0                   0   \n",
       "376        0          0          0          0       0                   0   \n",
       "377        0          0          0          0       0                   0   \n",
       "\n",
       "     zoos into  zoos npr  zu guttenberg  \n",
       "0            0         0              0  \n",
       "1            0         0              0  \n",
       "2            0         0              0  \n",
       "3            0         0              0  \n",
       "4            0         0              0  \n",
       "..         ...       ...            ...  \n",
       "373          0         0              0  \n",
       "374          0         0              0  \n",
       "375          0         0              0  \n",
       "376          0         0              0  \n",
       "377          0         0              0  \n",
       "\n",
       "[378 rows x 100009 columns]"
      ]
     },
     "execution_count": 38,
     "metadata": {},
     "output_type": "execute_result"
    }
   ],
   "source": [
    "testdataset_df = pd.DataFrame(test_dataset.toarray(),columns=countvector.get_feature_names())\n",
    "testdataset_df"
   ]
  },
  {
   "cell_type": "code",
   "execution_count": 39,
   "metadata": {},
   "outputs": [
    {
     "data": {
      "text/plain": [
       "Text(0.5, 1.0, 'Most repeated words in the headlines(test set)')"
      ]
     },
     "execution_count": 39,
     "metadata": {},
     "output_type": "execute_result"
    },
    {
     "data": {
      "image/png": "[encoded data removed]",
      "text/plain": [
       "<Figure size 432x288 with 1 Axes>"
      ]
     },
     "metadata": {
      "needs_background": "light"
     },
     "output_type": "display_data"
    }
   ],
   "source": [
    "sns.barplot(testdataset_df.sum(axis=0).sort_values(ascending=False).index[:5],testdataset_df.sum(axis=0).sort_values(ascending=False)[:5]).set_title('Most repeated words in the headlines(test set)')"
   ]
  },
  {
   "cell_type": "code",
   "execution_count": 10,
   "metadata": {
    "execution": {
     "iopub.execute_input": "2020-10-29T04:55:07.871697Z",
     "iopub.status.busy": "2020-10-29T04:55:07.871000Z",
     "iopub.status.idle": "2020-10-29T04:55:07.880977Z",
     "shell.execute_reply": "2020-10-29T04:55:07.881871Z"
    },
    "id": "_am2frIIx3t1",
    "outputId": "1e79c5cc-3779-4ec5-ef85-e35438d43e4d",
    "papermill": {
     "duration": 0.046929,
     "end_time": "2020-10-29T04:55:07.882115",
     "exception": false,
     "start_time": "2020-10-29T04:55:07.835186",
     "status": "completed"
    },
    "tags": []
   },
   "outputs": [
    {
     "name": "stdout",
     "output_type": "stream",
     "text": [
      "[[132  54]\n",
      " [  6 186]]\n"
     ]
    }
   ],
   "source": [
    "# confusion matrix  \n",
    "\n",
    "matrix=confusion_matrix(test['Label'],predictions)\n",
    "print(matrix)"
   ]
  },
  {
   "cell_type": "code",
   "execution_count": 11,
   "metadata": {
    "execution": {
     "iopub.execute_input": "2020-10-29T04:55:07.988594Z",
     "iopub.status.busy": "2020-10-29T04:55:07.987529Z",
     "iopub.status.idle": "2020-10-29T04:55:07.993424Z",
     "shell.execute_reply": "2020-10-29T04:55:07.992643Z"
    },
    "id": "PY7cJPtLx3t7",
    "outputId": "090c4831-9ccd-4ef7-9a12-ed6ec81b1d1a",
    "papermill": {
     "duration": 0.06417,
     "end_time": "2020-10-29T04:55:07.993595",
     "exception": false,
     "start_time": "2020-10-29T04:55:07.929425",
     "status": "completed"
    },
    "tags": []
   },
   "outputs": [
    {
     "name": "stdout",
     "output_type": "stream",
     "text": [
      "0.8412698412698413\n"
     ]
    }
   ],
   "source": [
    "# accuracy score (compared test daset original output values with predictions)\n",
    "\n",
    "score=accuracy_score(test['Label'],predictions)\n",
    "print(score)"
   ]
  },
  {
   "cell_type": "markdown",
   "metadata": {
    "papermill": {
     "duration": 0.031675,
     "end_time": "2020-10-29T04:55:08.059106",
     "exception": false,
     "start_time": "2020-10-29T04:55:08.027431",
     "status": "completed"
    },
    "tags": []
   },
   "source": [
    "<font color='darkblue'>Lets apply XGBoost , and will also try different numbers of max features for countvectorizer and see which number gives us the maximum accuracy</font>\n",
    "\n",
    "\n",
    "\n",
    "\n",
    "### <font color='darkred'>XGBoost without hyperparameter tuning</font>"
   ]
  },
  {
   "cell_type": "code",
   "execution_count": 12,
   "metadata": {
    "execution": {
     "iopub.execute_input": "2020-10-29T04:55:08.192749Z",
     "iopub.status.busy": "2020-10-29T04:55:08.191842Z",
     "iopub.status.idle": "2020-10-29T04:58:46.480158Z",
     "shell.execute_reply": "2020-10-29T04:58:46.480894Z"
    },
    "papermill": {
     "duration": 218.389547,
     "end_time": "2020-10-29T04:58:46.481078",
     "exception": false,
     "start_time": "2020-10-29T04:55:08.091531",
     "status": "completed"
    },
    "scrolled": false,
    "tags": []
   },
   "outputs": [
    {
     "name": "stdout",
     "output_type": "stream",
     "text": [
      "max number of features used : 500\n",
      "ngram_range (1,1)\n",
      "0.843915343915344\n",
      "confusion matrix : [[156  30]\n",
      " [ 29 163]]\n",
      "===============================\n",
      "max number of features used : 500\n",
      "ngram_range (2,2)\n",
      "0.843915343915344\n",
      "confusion matrix : [[149  37]\n",
      " [ 22 170]]\n",
      "===============================\n",
      "max number of features used : 500\n",
      "ngram_range (3,3)\n",
      "0.753968253968254\n",
      "confusion matrix : [[130  56]\n",
      " [ 37 155]]\n",
      "===============================\n",
      "max number of features used : 500\n",
      "ngram_range (4,4)\n",
      "0.6349206349206349\n",
      "confusion matrix : [[ 82 104]\n",
      " [ 34 158]]\n",
      "===============================\n",
      "max number of features used : 500\n",
      "ngram_range (5,5)\n",
      "0.5502645502645502\n",
      "confusion matrix : [[ 31 155]\n",
      " [ 15 177]]\n",
      "===============================\n",
      "max number of features used : 600\n",
      "ngram_range (1,1)\n",
      "0.843915343915344\n",
      "confusion matrix : [[156  30]\n",
      " [ 29 163]]\n",
      "===============================\n",
      "max number of features used : 600\n",
      "ngram_range (2,2)\n",
      "0.8227513227513228\n",
      "confusion matrix : [[153  33]\n",
      " [ 34 158]]\n",
      "===============================\n",
      "max number of features used : 600\n",
      "ngram_range (3,3)\n",
      "0.7380952380952381\n",
      "confusion matrix : [[128  58]\n",
      " [ 41 151]]\n",
      "===============================\n",
      "max number of features used : 600\n",
      "ngram_range (4,4)\n",
      "0.6428571428571429\n",
      "confusion matrix : [[ 76 110]\n",
      " [ 25 167]]\n",
      "===============================\n",
      "max number of features used : 600\n",
      "ngram_range (5,5)\n",
      "0.5502645502645502\n",
      "confusion matrix : [[ 31 155]\n",
      " [ 15 177]]\n",
      "===============================\n",
      "max number of features used : 700\n",
      "ngram_range (1,1)\n",
      "0.8518518518518519\n",
      "confusion matrix : [[155  31]\n",
      " [ 25 167]]\n",
      "===============================\n",
      "max number of features used : 700\n",
      "ngram_range (2,2)\n",
      "0.8465608465608465\n",
      "confusion matrix : [[157  29]\n",
      " [ 29 163]]\n",
      "===============================\n",
      "max number of features used : 700\n",
      "ngram_range (3,3)\n",
      "0.7275132275132276\n",
      "confusion matrix : [[122  64]\n",
      " [ 39 153]]\n",
      "===============================\n",
      "max number of features used : 700\n",
      "ngram_range (4,4)\n",
      "0.6349206349206349\n",
      "confusion matrix : [[ 73 113]\n",
      " [ 25 167]]\n",
      "===============================\n",
      "max number of features used : 700\n",
      "ngram_range (5,5)\n",
      "0.5502645502645502\n",
      "confusion matrix : [[ 31 155]\n",
      " [ 15 177]]\n",
      "===============================\n",
      "max number of features used : 800\n",
      "ngram_range (1,1)\n",
      "0.8359788359788359\n",
      "confusion matrix : [[154  32]\n",
      " [ 30 162]]\n",
      "===============================\n",
      "max number of features used : 800\n",
      "ngram_range (2,2)\n",
      "0.8650793650793651\n",
      "confusion matrix : [[161  25]\n",
      " [ 26 166]]\n",
      "===============================\n",
      "max number of features used : 800\n",
      "ngram_range (3,3)\n",
      "0.7380952380952381\n",
      "confusion matrix : [[126  60]\n",
      " [ 39 153]]\n",
      "===============================\n",
      "max number of features used : 800\n",
      "ngram_range (4,4)\n",
      "0.6587301587301587\n",
      "confusion matrix : [[ 82 104]\n",
      " [ 25 167]]\n",
      "===============================\n",
      "max number of features used : 800\n",
      "ngram_range (5,5)\n",
      "0.5502645502645502\n",
      "confusion matrix : [[ 31 155]\n",
      " [ 15 177]]\n",
      "===============================\n",
      "max number of features used : 900\n",
      "ngram_range (1,1)\n",
      "0.843915343915344\n",
      "confusion matrix : [[154  32]\n",
      " [ 27 165]]\n",
      "===============================\n",
      "max number of features used : 900\n",
      "ngram_range (2,2)\n",
      "0.8465608465608465\n",
      "confusion matrix : [[158  28]\n",
      " [ 30 162]]\n",
      "===============================\n",
      "max number of features used : 900\n",
      "ngram_range (3,3)\n",
      "0.7486772486772487\n",
      "confusion matrix : [[127  59]\n",
      " [ 36 156]]\n",
      "===============================\n",
      "max number of features used : 900\n",
      "ngram_range (4,4)\n",
      "0.6666666666666666\n",
      "confusion matrix : [[ 83 103]\n",
      " [ 23 169]]\n",
      "===============================\n",
      "max number of features used : 900\n",
      "ngram_range (5,5)\n",
      "0.5502645502645502\n",
      "confusion matrix : [[ 31 155]\n",
      " [ 15 177]]\n",
      "===============================\n",
      "max number of features used : 1000\n",
      "ngram_range (1,1)\n",
      "0.8571428571428571\n",
      "confusion matrix : [[160  26]\n",
      " [ 28 164]]\n",
      "===============================\n",
      "max number of features used : 1000\n",
      "ngram_range (2,2)\n",
      "0.8518518518518519\n",
      "confusion matrix : [[159  27]\n",
      " [ 29 163]]\n",
      "===============================\n",
      "max number of features used : 1000\n",
      "ngram_range (3,3)\n",
      "0.7486772486772487\n",
      "confusion matrix : [[130  56]\n",
      " [ 39 153]]\n",
      "===============================\n",
      "max number of features used : 1000\n",
      "ngram_range (4,4)\n",
      "0.6666666666666666\n",
      "confusion matrix : [[ 83 103]\n",
      " [ 23 169]]\n",
      "===============================\n",
      "max number of features used : 1000\n",
      "ngram_range (5,5)\n",
      "0.5502645502645502\n",
      "confusion matrix : [[ 31 155]\n",
      " [ 15 177]]\n",
      "===============================\n"
     ]
    }
   ],
   "source": [
    "max_features_num = [500,600,700,800,900,1000]\n",
    "ngram = [1,2,3,4,5]\n",
    "for i in max_features_num:\n",
    "    for j in ngram:\n",
    "        countvector=CountVectorizer(ngram_range=(j,j),max_features=i)\n",
    "        traindataset=countvector.fit_transform(headlines)\n",
    "        test_dataset = countvector.transform(test_transform)\n",
    "\n",
    "        xgb = XGBClassifier(random_state =1)\n",
    "        xgb.fit(pd.DataFrame(traindataset.todense(), columns=countvector.get_feature_names()),train['Label'])\n",
    "        predictions = xgb.predict(pd.DataFrame(test_dataset.todense(), columns=countvector.get_feature_names()))\n",
    "        score=accuracy_score(test['Label'],predictions)\n",
    "        print('max number of features used : {}'.format(i))\n",
    "        print('ngram_range ({},{})'.format(j,j))\n",
    "        print(score)\n",
    "        matrix=confusion_matrix(test['Label'],predictions)\n",
    "        print('confusion matrix : {}'.format(matrix))\n",
    "        print('===============================')"
   ]
  },
  {
   "cell_type": "markdown",
   "metadata": {
    "papermill": {
     "duration": 0.052287,
     "end_time": "2020-10-29T04:58:46.586110",
     "exception": false,
     "start_time": "2020-10-29T04:58:46.533823",
     "status": "completed"
    },
    "tags": []
   },
   "source": [
    "<font color='darkblue'>Maximum accuracy :</font>\n",
    "\n",
    "max number of features used : 800\n",
    "\n",
    "ngram_range (2,2)\n",
    "\n",
    "0.8650793650793651\n",
    "\n",
    "confusion matrix : [[161  25]\n",
    " [ 26 166]]"
   ]
  },
  {
   "cell_type": "code",
   "execution_count": 13,
   "metadata": {
    "execution": {
     "iopub.execute_input": "2020-10-29T04:58:46.771852Z",
     "iopub.status.busy": "2020-10-29T04:58:46.766824Z",
     "iopub.status.idle": "2020-10-29T04:58:50.332847Z",
     "shell.execute_reply": "2020-10-29T04:58:50.333522Z"
    },
    "papermill": {
     "duration": 3.694918,
     "end_time": "2020-10-29T04:58:50.333685",
     "exception": false,
     "start_time": "2020-10-29T04:58:46.638767",
     "status": "completed"
    },
    "tags": []
   },
   "outputs": [],
   "source": [
    "countvector=CountVectorizer(ngram_range=(1,1),max_features=800)\n",
    "traindataset=countvector.fit_transform(headlines)\n",
    "test_dataset = countvector.transform(test_transform)\n",
    "\n",
    "\n",
    "xgb = XGBClassifier(random_state =1)\n",
    "xgb.fit(pd.DataFrame(traindataset.todense(), columns=countvector.get_feature_names()),train['Label'])\n",
    "predictions = xgb.predict(pd.DataFrame(test_dataset.todense(), columns=countvector.get_feature_names()))"
   ]
  },
  {
   "cell_type": "code",
   "execution_count": 14,
   "metadata": {
    "execution": {
     "iopub.execute_input": "2020-10-29T04:58:50.443545Z",
     "iopub.status.busy": "2020-10-29T04:58:50.442784Z",
     "iopub.status.idle": "2020-10-29T04:58:50.448218Z",
     "shell.execute_reply": "2020-10-29T04:58:50.448770Z"
    },
    "papermill": {
     "duration": 0.062706,
     "end_time": "2020-10-29T04:58:50.448935",
     "exception": false,
     "start_time": "2020-10-29T04:58:50.386229",
     "status": "completed"
    },
    "tags": []
   },
   "outputs": [
    {
     "data": {
      "text/plain": [
       "array([1, 0, 0, 1, 1, 0, 0, 0, 0, 0, 1, 1, 1, 1, 0, 1, 0, 0, 1, 0, 1, 1,\n",
       "       1, 1, 0, 0, 1, 0, 1, 1, 1, 0, 0, 1, 0, 1, 1, 0, 0, 1, 0, 0, 1, 0,\n",
       "       1, 0, 0, 1, 0, 1, 0, 1, 0, 1, 0, 0, 0, 0, 1, 1, 0, 0, 1, 1, 0, 1,\n",
       "       1, 1, 0, 1, 1, 0, 0, 1, 0, 1, 1, 1, 0, 1, 0, 0, 1, 1, 0, 0, 1, 1,\n",
       "       0, 0, 0, 1, 1, 1, 1, 0, 1, 0, 0, 1, 0, 0, 1, 0, 1, 0, 0, 0, 0, 1,\n",
       "       1, 0, 0, 1, 1, 1, 0, 1, 1, 0, 0, 1, 0, 1, 1, 0, 0, 1, 0, 1, 1, 1,\n",
       "       1, 0, 1, 0, 1, 0, 0, 0, 0, 0, 1, 1, 0, 0, 0, 0, 0, 0, 0, 1, 0, 0,\n",
       "       1, 1, 1, 0, 0, 0, 0, 0, 0, 1, 1, 0, 0, 0, 1, 1, 0, 1, 0, 1, 1, 0,\n",
       "       1, 1, 0, 0, 1, 0, 0, 0, 1, 0, 1, 1, 0, 1, 1, 1, 1, 1, 1, 1, 0, 0,\n",
       "       1, 1, 1, 0, 0, 1, 1, 0, 0, 1, 0, 0, 1, 1, 0, 0, 1, 0, 1, 0, 0, 0,\n",
       "       1, 1, 1, 0, 1, 0, 1, 1, 0, 0, 1, 0, 0, 1, 0, 0, 0, 1, 0, 1, 1, 1,\n",
       "       0, 0, 1, 1, 1, 0, 0, 1, 0, 0, 0, 1, 1, 1, 1, 0, 1, 0, 1, 1, 1, 0,\n",
       "       1, 1, 0, 1, 0, 1, 1, 1, 0, 1, 1, 1, 1, 0, 1, 1, 0, 0, 1, 1, 0, 0,\n",
       "       1, 0, 0, 1, 0, 0, 0, 1, 0, 1, 0, 1, 1, 1, 1, 0, 0, 0, 1, 1, 0, 0,\n",
       "       1, 1, 1, 0, 1, 1, 0, 0, 1, 0, 0, 1, 1, 0, 0, 1, 1, 1, 0, 1, 0, 1,\n",
       "       1, 0, 1, 0, 1, 0, 1, 1, 0, 1, 1, 1, 0, 0, 1, 1, 1, 0, 0, 1, 0, 0,\n",
       "       1, 0, 0, 0, 1, 1, 1, 1, 1, 1, 0, 0, 1, 1, 0, 1, 1, 0, 1, 1, 0, 0,\n",
       "       0, 0, 1, 1])"
      ]
     },
     "execution_count": 14,
     "metadata": {},
     "output_type": "execute_result"
    }
   ],
   "source": [
    "predictions"
   ]
  },
  {
   "cell_type": "markdown",
   "metadata": {
    "papermill": {
     "duration": 0.046815,
     "end_time": "2020-10-29T04:58:50.548433",
     "exception": false,
     "start_time": "2020-10-29T04:58:50.501618",
     "status": "completed"
    },
    "tags": []
   },
   "source": [
    "### <font color='darkred'>CATBoost without hyperparameter tuning</font>"
   ]
  },
  {
   "cell_type": "code",
   "execution_count": 15,
   "metadata": {
    "execution": {
     "iopub.execute_input": "2020-10-29T04:58:50.645044Z",
     "iopub.status.busy": "2020-10-29T04:58:50.644402Z",
     "iopub.status.idle": "2020-10-29T04:59:06.267269Z",
     "shell.execute_reply": "2020-10-29T04:59:06.267842Z"
    },
    "papermill": {
     "duration": 15.675604,
     "end_time": "2020-10-29T04:59:06.268032",
     "exception": false,
     "start_time": "2020-10-29T04:58:50.592428",
     "status": "completed"
    },
    "tags": []
   },
   "outputs": [
    {
     "name": "stdout",
     "output_type": "stream",
     "text": [
      "Learning rate set to 0.013437\n",
      "0:\tlearn: 0.6924865\ttotal: 73.2ms\tremaining: 1m 13s\n",
      "1:\tlearn: 0.6919839\ttotal: 89.2ms\tremaining: 44.5s\n",
      "2:\tlearn: 0.6916499\ttotal: 112ms\tremaining: 37.3s\n",
      "3:\tlearn: 0.6910524\ttotal: 133ms\tremaining: 33.2s\n",
      "4:\tlearn: 0.6907999\ttotal: 151ms\tremaining: 30s\n",
      "5:\tlearn: 0.6905346\ttotal: 173ms\tremaining: 28.7s\n",
      "6:\tlearn: 0.6899405\ttotal: 195ms\tremaining: 27.6s\n",
      "7:\tlearn: 0.6895518\ttotal: 214ms\tremaining: 26.6s\n",
      "8:\tlearn: 0.6889756\ttotal: 238ms\tremaining: 26.2s\n",
      "9:\tlearn: 0.6886122\ttotal: 257ms\tremaining: 25.5s\n",
      "10:\tlearn: 0.6880976\ttotal: 282ms\tremaining: 25.4s\n",
      "11:\tlearn: 0.6876442\ttotal: 301ms\tremaining: 24.8s\n",
      "12:\tlearn: 0.6874357\ttotal: 315ms\tremaining: 23.9s\n",
      "13:\tlearn: 0.6870072\ttotal: 331ms\tremaining: 23.3s\n",
      "14:\tlearn: 0.6866757\ttotal: 345ms\tremaining: 22.6s\n",
      "15:\tlearn: 0.6861929\ttotal: 360ms\tremaining: 22.1s\n",
      "16:\tlearn: 0.6859367\ttotal: 375ms\tremaining: 21.7s\n",
      "17:\tlearn: 0.6855844\ttotal: 390ms\tremaining: 21.3s\n",
      "18:\tlearn: 0.6851102\ttotal: 408ms\tremaining: 21.1s\n",
      "19:\tlearn: 0.6847931\ttotal: 423ms\tremaining: 20.7s\n",
      "20:\tlearn: 0.6846007\ttotal: 438ms\tremaining: 20.4s\n",
      "21:\tlearn: 0.6843410\ttotal: 453ms\tremaining: 20.2s\n",
      "22:\tlearn: 0.6840232\ttotal: 468ms\tremaining: 19.9s\n",
      "23:\tlearn: 0.6837506\ttotal: 482ms\tremaining: 19.6s\n",
      "24:\tlearn: 0.6833820\ttotal: 498ms\tremaining: 19.4s\n",
      "25:\tlearn: 0.6831545\ttotal: 511ms\tremaining: 19.1s\n",
      "26:\tlearn: 0.6828511\ttotal: 525ms\tremaining: 18.9s\n",
      "27:\tlearn: 0.6826755\ttotal: 538ms\tremaining: 18.7s\n",
      "28:\tlearn: 0.6823429\ttotal: 552ms\tremaining: 18.5s\n",
      "29:\tlearn: 0.6820118\ttotal: 565ms\tremaining: 18.3s\n",
      "30:\tlearn: 0.6817139\ttotal: 579ms\tremaining: 18.1s\n",
      "31:\tlearn: 0.6813710\ttotal: 593ms\tremaining: 17.9s\n",
      "32:\tlearn: 0.6809260\ttotal: 608ms\tremaining: 17.8s\n",
      "33:\tlearn: 0.6805082\ttotal: 625ms\tremaining: 17.8s\n",
      "34:\tlearn: 0.6801258\ttotal: 640ms\tremaining: 17.6s\n",
      "35:\tlearn: 0.6797661\ttotal: 654ms\tremaining: 17.5s\n",
      "36:\tlearn: 0.6796045\ttotal: 667ms\tremaining: 17.4s\n",
      "37:\tlearn: 0.6791721\ttotal: 681ms\tremaining: 17.2s\n",
      "38:\tlearn: 0.6789065\ttotal: 693ms\tremaining: 17.1s\n",
      "39:\tlearn: 0.6785829\ttotal: 707ms\tremaining: 17s\n",
      "40:\tlearn: 0.6783696\ttotal: 720ms\tremaining: 16.8s\n",
      "41:\tlearn: 0.6780961\ttotal: 733ms\tremaining: 16.7s\n",
      "42:\tlearn: 0.6779145\ttotal: 747ms\tremaining: 16.6s\n",
      "43:\tlearn: 0.6777557\ttotal: 762ms\tremaining: 16.5s\n",
      "44:\tlearn: 0.6775128\ttotal: 775ms\tremaining: 16.5s\n",
      "45:\tlearn: 0.6773375\ttotal: 788ms\tremaining: 16.3s\n",
      "46:\tlearn: 0.6769695\ttotal: 801ms\tremaining: 16.2s\n",
      "47:\tlearn: 0.6765711\ttotal: 822ms\tremaining: 16.3s\n",
      "48:\tlearn: 0.6763017\ttotal: 837ms\tremaining: 16.2s\n",
      "49:\tlearn: 0.6759758\ttotal: 850ms\tremaining: 16.2s\n",
      "50:\tlearn: 0.6757391\ttotal: 863ms\tremaining: 16.1s\n",
      "51:\tlearn: 0.6751290\ttotal: 877ms\tremaining: 16s\n",
      "52:\tlearn: 0.6747743\ttotal: 890ms\tremaining: 15.9s\n",
      "53:\tlearn: 0.6745029\ttotal: 904ms\tremaining: 15.8s\n",
      "54:\tlearn: 0.6738892\ttotal: 918ms\tremaining: 15.8s\n",
      "55:\tlearn: 0.6736640\ttotal: 931ms\tremaining: 15.7s\n",
      "56:\tlearn: 0.6730664\ttotal: 946ms\tremaining: 15.6s\n",
      "57:\tlearn: 0.6727286\ttotal: 960ms\tremaining: 15.6s\n",
      "58:\tlearn: 0.6724365\ttotal: 973ms\tremaining: 15.5s\n",
      "59:\tlearn: 0.6722914\ttotal: 985ms\tremaining: 15.4s\n",
      "60:\tlearn: 0.6719638\ttotal: 998ms\tremaining: 15.4s\n",
      "61:\tlearn: 0.6717515\ttotal: 1.01s\tremaining: 15.3s\n",
      "62:\tlearn: 0.6715141\ttotal: 1.03s\tremaining: 15.3s\n",
      "63:\tlearn: 0.6711962\ttotal: 1.04s\tremaining: 15.2s\n",
      "64:\tlearn: 0.6707269\ttotal: 1.05s\tremaining: 15.1s\n",
      "65:\tlearn: 0.6703528\ttotal: 1.06s\tremaining: 15.1s\n",
      "66:\tlearn: 0.6700585\ttotal: 1.08s\tremaining: 15s\n",
      "67:\tlearn: 0.6699225\ttotal: 1.09s\tremaining: 14.9s\n",
      "68:\tlearn: 0.6695718\ttotal: 1.1s\tremaining: 14.9s\n",
      "69:\tlearn: 0.6693304\ttotal: 1.11s\tremaining: 14.8s\n",
      "70:\tlearn: 0.6690305\ttotal: 1.12s\tremaining: 14.7s\n",
      "71:\tlearn: 0.6686489\ttotal: 1.14s\tremaining: 14.7s\n",
      "72:\tlearn: 0.6681693\ttotal: 1.15s\tremaining: 14.6s\n",
      "73:\tlearn: 0.6679282\ttotal: 1.17s\tremaining: 14.6s\n",
      "74:\tlearn: 0.6677440\ttotal: 1.18s\tremaining: 14.6s\n",
      "75:\tlearn: 0.6673333\ttotal: 1.2s\tremaining: 14.5s\n",
      "76:\tlearn: 0.6666437\ttotal: 1.21s\tremaining: 14.5s\n",
      "77:\tlearn: 0.6664712\ttotal: 1.23s\tremaining: 14.5s\n",
      "78:\tlearn: 0.6661239\ttotal: 1.25s\tremaining: 14.5s\n",
      "79:\tlearn: 0.6660106\ttotal: 1.26s\tremaining: 14.5s\n",
      "80:\tlearn: 0.6657915\ttotal: 1.27s\tremaining: 14.5s\n",
      "81:\tlearn: 0.6656086\ttotal: 1.29s\tremaining: 14.4s\n",
      "82:\tlearn: 0.6653240\ttotal: 1.3s\tremaining: 14.4s\n",
      "83:\tlearn: 0.6649049\ttotal: 1.31s\tremaining: 14.3s\n",
      "84:\tlearn: 0.6647396\ttotal: 1.33s\tremaining: 14.3s\n",
      "85:\tlearn: 0.6645092\ttotal: 1.34s\tremaining: 14.2s\n",
      "86:\tlearn: 0.6642173\ttotal: 1.35s\tremaining: 14.2s\n",
      "87:\tlearn: 0.6639743\ttotal: 1.37s\tremaining: 14.2s\n",
      "88:\tlearn: 0.6635401\ttotal: 1.38s\tremaining: 14.2s\n",
      "89:\tlearn: 0.6628853\ttotal: 1.4s\tremaining: 14.1s\n",
      "90:\tlearn: 0.6625515\ttotal: 1.42s\tremaining: 14.1s\n",
      "91:\tlearn: 0.6623793\ttotal: 1.43s\tremaining: 14.1s\n",
      "92:\tlearn: 0.6620260\ttotal: 1.45s\tremaining: 14.1s\n",
      "93:\tlearn: 0.6618422\ttotal: 1.46s\tremaining: 14.1s\n",
      "94:\tlearn: 0.6615205\ttotal: 1.48s\tremaining: 14.1s\n",
      "95:\tlearn: 0.6612266\ttotal: 1.49s\tremaining: 14.1s\n",
      "96:\tlearn: 0.6608074\ttotal: 1.51s\tremaining: 14s\n",
      "97:\tlearn: 0.6606052\ttotal: 1.52s\tremaining: 14s\n",
      "98:\tlearn: 0.6602030\ttotal: 1.53s\tremaining: 14s\n",
      "99:\tlearn: 0.6597910\ttotal: 1.55s\tremaining: 13.9s\n",
      "100:\tlearn: 0.6594684\ttotal: 1.56s\tremaining: 13.9s\n",
      "101:\tlearn: 0.6588879\ttotal: 1.58s\tremaining: 13.9s\n",
      "102:\tlearn: 0.6586045\ttotal: 1.59s\tremaining: 13.9s\n",
      "103:\tlearn: 0.6583693\ttotal: 1.61s\tremaining: 13.9s\n",
      "104:\tlearn: 0.6579627\ttotal: 1.62s\tremaining: 13.8s\n",
      "105:\tlearn: 0.6574107\ttotal: 1.64s\tremaining: 13.8s\n",
      "106:\tlearn: 0.6570291\ttotal: 1.66s\tremaining: 13.8s\n",
      "107:\tlearn: 0.6567355\ttotal: 1.67s\tremaining: 13.8s\n",
      "108:\tlearn: 0.6565113\ttotal: 1.68s\tremaining: 13.8s\n",
      "109:\tlearn: 0.6562343\ttotal: 1.7s\tremaining: 13.8s\n",
      "110:\tlearn: 0.6559803\ttotal: 1.71s\tremaining: 13.7s\n",
      "111:\tlearn: 0.6556499\ttotal: 1.73s\tremaining: 13.7s\n",
      "112:\tlearn: 0.6552892\ttotal: 1.74s\tremaining: 13.7s\n",
      "113:\tlearn: 0.6548945\ttotal: 1.76s\tremaining: 13.7s\n",
      "114:\tlearn: 0.6546603\ttotal: 1.77s\tremaining: 13.6s\n",
      "115:\tlearn: 0.6542656\ttotal: 1.79s\tremaining: 13.6s\n",
      "116:\tlearn: 0.6538337\ttotal: 1.8s\tremaining: 13.6s\n",
      "117:\tlearn: 0.6536616\ttotal: 1.82s\tremaining: 13.6s\n",
      "118:\tlearn: 0.6531737\ttotal: 1.83s\tremaining: 13.6s\n",
      "119:\tlearn: 0.6526521\ttotal: 1.86s\tremaining: 13.6s\n",
      "120:\tlearn: 0.6521519\ttotal: 1.87s\tremaining: 13.6s\n",
      "121:\tlearn: 0.6517377\ttotal: 1.89s\tremaining: 13.6s\n",
      "122:\tlearn: 0.6513480\ttotal: 1.9s\tremaining: 13.6s\n",
      "123:\tlearn: 0.6508574\ttotal: 1.92s\tremaining: 13.5s\n",
      "124:\tlearn: 0.6505553\ttotal: 1.93s\tremaining: 13.5s\n",
      "125:\tlearn: 0.6500934\ttotal: 1.95s\tremaining: 13.5s\n",
      "126:\tlearn: 0.6495628\ttotal: 1.96s\tremaining: 13.5s\n",
      "127:\tlearn: 0.6491110\ttotal: 1.98s\tremaining: 13.5s\n",
      "128:\tlearn: 0.6486221\ttotal: 1.99s\tremaining: 13.5s\n",
      "129:\tlearn: 0.6483045\ttotal: 2.01s\tremaining: 13.4s\n",
      "130:\tlearn: 0.6481221\ttotal: 2.02s\tremaining: 13.4s\n",
      "131:\tlearn: 0.6477531\ttotal: 2.04s\tremaining: 13.4s\n",
      "132:\tlearn: 0.6474108\ttotal: 2.05s\tremaining: 13.4s\n",
      "133:\tlearn: 0.6469556\ttotal: 2.07s\tremaining: 13.4s\n",
      "134:\tlearn: 0.6468355\ttotal: 2.09s\tremaining: 13.4s\n",
      "135:\tlearn: 0.6465287\ttotal: 2.1s\tremaining: 13.4s\n",
      "136:\tlearn: 0.6460416\ttotal: 2.12s\tremaining: 13.3s\n",
      "137:\tlearn: 0.6457924\ttotal: 2.13s\tremaining: 13.3s\n",
      "138:\tlearn: 0.6455123\ttotal: 2.15s\tremaining: 13.3s\n",
      "139:\tlearn: 0.6451318\ttotal: 2.16s\tremaining: 13.3s\n",
      "140:\tlearn: 0.6449223\ttotal: 2.18s\tremaining: 13.3s\n",
      "141:\tlearn: 0.6448072\ttotal: 2.19s\tremaining: 13.2s\n",
      "142:\tlearn: 0.6446485\ttotal: 2.2s\tremaining: 13.2s\n",
      "143:\tlearn: 0.6441731\ttotal: 2.21s\tremaining: 13.2s\n",
      "144:\tlearn: 0.6438541\ttotal: 2.23s\tremaining: 13.1s\n",
      "145:\tlearn: 0.6434381\ttotal: 2.24s\tremaining: 13.1s\n",
      "146:\tlearn: 0.6430653\ttotal: 2.26s\tremaining: 13.1s\n",
      "147:\tlearn: 0.6424363\ttotal: 2.27s\tremaining: 13.1s\n",
      "148:\tlearn: 0.6422549\ttotal: 2.29s\tremaining: 13.1s\n",
      "149:\tlearn: 0.6420768\ttotal: 2.3s\tremaining: 13s\n",
      "150:\tlearn: 0.6415712\ttotal: 2.32s\tremaining: 13s\n",
      "151:\tlearn: 0.6411893\ttotal: 2.33s\tremaining: 13s\n",
      "152:\tlearn: 0.6409481\ttotal: 2.35s\tremaining: 13s\n",
      "153:\tlearn: 0.6408004\ttotal: 2.36s\tremaining: 13s\n",
      "154:\tlearn: 0.6407078\ttotal: 2.37s\tremaining: 12.9s\n",
      "155:\tlearn: 0.6404156\ttotal: 2.39s\tremaining: 12.9s\n",
      "156:\tlearn: 0.6401409\ttotal: 2.4s\tremaining: 12.9s\n",
      "157:\tlearn: 0.6398310\ttotal: 2.42s\tremaining: 12.9s\n",
      "158:\tlearn: 0.6394293\ttotal: 2.43s\tremaining: 12.9s\n",
      "159:\tlearn: 0.6392006\ttotal: 2.44s\tremaining: 12.8s\n",
      "160:\tlearn: 0.6389716\ttotal: 2.46s\tremaining: 12.8s\n",
      "161:\tlearn: 0.6387965\ttotal: 2.47s\tremaining: 12.8s\n",
      "162:\tlearn: 0.6382520\ttotal: 2.48s\tremaining: 12.7s\n",
      "163:\tlearn: 0.6377981\ttotal: 2.5s\tremaining: 12.7s\n",
      "164:\tlearn: 0.6376006\ttotal: 2.51s\tremaining: 12.7s\n",
      "165:\tlearn: 0.6373344\ttotal: 2.53s\tremaining: 12.7s\n",
      "166:\tlearn: 0.6369855\ttotal: 2.54s\tremaining: 12.7s\n",
      "167:\tlearn: 0.6368500\ttotal: 2.55s\tremaining: 12.7s\n",
      "168:\tlearn: 0.6365026\ttotal: 2.57s\tremaining: 12.6s\n",
      "169:\tlearn: 0.6361421\ttotal: 2.58s\tremaining: 12.6s\n",
      "170:\tlearn: 0.6357451\ttotal: 2.6s\tremaining: 12.6s\n",
      "171:\tlearn: 0.6354961\ttotal: 2.61s\tremaining: 12.6s\n",
      "172:\tlearn: 0.6350439\ttotal: 2.62s\tremaining: 12.5s\n",
      "173:\tlearn: 0.6349115\ttotal: 2.63s\tremaining: 12.5s\n",
      "174:\tlearn: 0.6347469\ttotal: 2.65s\tremaining: 12.5s\n",
      "175:\tlearn: 0.6343416\ttotal: 2.66s\tremaining: 12.5s\n",
      "176:\tlearn: 0.6338974\ttotal: 2.67s\tremaining: 12.4s\n",
      "177:\tlearn: 0.6336797\ttotal: 2.69s\tremaining: 12.4s\n",
      "178:\tlearn: 0.6333254\ttotal: 2.71s\tremaining: 12.4s\n",
      "179:\tlearn: 0.6332239\ttotal: 2.72s\tremaining: 12.4s\n",
      "180:\tlearn: 0.6328607\ttotal: 2.74s\tremaining: 12.4s\n",
      "181:\tlearn: 0.6326619\ttotal: 2.75s\tremaining: 12.4s\n",
      "182:\tlearn: 0.6321175\ttotal: 2.76s\tremaining: 12.3s\n",
      "183:\tlearn: 0.6318439\ttotal: 2.78s\tremaining: 12.3s\n",
      "184:\tlearn: 0.6315309\ttotal: 2.79s\tremaining: 12.3s\n",
      "185:\tlearn: 0.6312783\ttotal: 2.81s\tremaining: 12.3s\n",
      "186:\tlearn: 0.6309528\ttotal: 2.83s\tremaining: 12.3s\n",
      "187:\tlearn: 0.6306675\ttotal: 2.84s\tremaining: 12.3s\n",
      "188:\tlearn: 0.6305588\ttotal: 2.85s\tremaining: 12.2s\n",
      "189:\tlearn: 0.6302675\ttotal: 2.87s\tremaining: 12.2s\n",
      "190:\tlearn: 0.6299833\ttotal: 2.88s\tremaining: 12.2s\n",
      "191:\tlearn: 0.6298146\ttotal: 2.89s\tremaining: 12.2s\n",
      "192:\tlearn: 0.6294250\ttotal: 2.92s\tremaining: 12.2s\n",
      "193:\tlearn: 0.6291621\ttotal: 2.93s\tremaining: 12.2s\n",
      "194:\tlearn: 0.6288727\ttotal: 2.95s\tremaining: 12.2s\n",
      "195:\tlearn: 0.6286522\ttotal: 2.96s\tremaining: 12.1s\n",
      "196:\tlearn: 0.6283263\ttotal: 2.97s\tremaining: 12.1s\n",
      "197:\tlearn: 0.6280412\ttotal: 2.99s\tremaining: 12.1s\n",
      "198:\tlearn: 0.6278237\ttotal: 3s\tremaining: 12.1s\n",
      "199:\tlearn: 0.6274277\ttotal: 3.02s\tremaining: 12.1s\n",
      "200:\tlearn: 0.6271418\ttotal: 3.04s\tremaining: 12.1s\n",
      "201:\tlearn: 0.6268980\ttotal: 3.05s\tremaining: 12.1s\n",
      "202:\tlearn: 0.6266644\ttotal: 3.06s\tremaining: 12s\n",
      "203:\tlearn: 0.6264363\ttotal: 3.08s\tremaining: 12s\n",
      "204:\tlearn: 0.6261348\ttotal: 3.09s\tremaining: 12s\n",
      "205:\tlearn: 0.6257097\ttotal: 3.11s\tremaining: 12s\n",
      "206:\tlearn: 0.6253687\ttotal: 3.13s\tremaining: 12s\n",
      "207:\tlearn: 0.6252295\ttotal: 3.15s\tremaining: 12s\n",
      "208:\tlearn: 0.6249899\ttotal: 3.16s\tremaining: 12s\n",
      "209:\tlearn: 0.6245091\ttotal: 3.17s\tremaining: 11.9s\n",
      "210:\tlearn: 0.6242142\ttotal: 3.19s\tremaining: 11.9s\n",
      "211:\tlearn: 0.6239263\ttotal: 3.21s\tremaining: 11.9s\n",
      "212:\tlearn: 0.6234900\ttotal: 3.22s\tremaining: 11.9s\n",
      "213:\tlearn: 0.6232220\ttotal: 3.24s\tremaining: 11.9s\n",
      "214:\tlearn: 0.6229973\ttotal: 3.25s\tremaining: 11.9s\n",
      "215:\tlearn: 0.6227661\ttotal: 3.27s\tremaining: 11.9s\n",
      "216:\tlearn: 0.6226025\ttotal: 3.28s\tremaining: 11.8s\n",
      "217:\tlearn: 0.6224835\ttotal: 3.3s\tremaining: 11.8s\n",
      "218:\tlearn: 0.6221513\ttotal: 3.31s\tremaining: 11.8s\n",
      "219:\tlearn: 0.6220406\ttotal: 3.33s\tremaining: 11.8s\n",
      "220:\tlearn: 0.6216742\ttotal: 3.34s\tremaining: 11.8s\n",
      "221:\tlearn: 0.6214280\ttotal: 3.36s\tremaining: 11.8s\n",
      "222:\tlearn: 0.6212648\ttotal: 3.37s\tremaining: 11.8s\n",
      "223:\tlearn: 0.6210223\ttotal: 3.39s\tremaining: 11.7s\n",
      "224:\tlearn: 0.6208316\ttotal: 3.4s\tremaining: 11.7s\n",
      "225:\tlearn: 0.6204429\ttotal: 3.42s\tremaining: 11.7s\n",
      "226:\tlearn: 0.6202387\ttotal: 3.43s\tremaining: 11.7s\n",
      "227:\tlearn: 0.6199887\ttotal: 3.45s\tremaining: 11.7s\n",
      "228:\tlearn: 0.6195585\ttotal: 3.46s\tremaining: 11.7s\n",
      "229:\tlearn: 0.6192706\ttotal: 3.48s\tremaining: 11.7s\n",
      "230:\tlearn: 0.6189068\ttotal: 3.5s\tremaining: 11.6s\n",
      "231:\tlearn: 0.6185888\ttotal: 3.51s\tremaining: 11.6s\n",
      "232:\tlearn: 0.6182926\ttotal: 3.53s\tremaining: 11.6s\n",
      "233:\tlearn: 0.6181832\ttotal: 3.54s\tremaining: 11.6s\n",
      "234:\tlearn: 0.6176564\ttotal: 3.56s\tremaining: 11.6s\n",
      "235:\tlearn: 0.6173032\ttotal: 3.58s\tremaining: 11.6s\n",
      "236:\tlearn: 0.6170561\ttotal: 3.59s\tremaining: 11.6s\n",
      "237:\tlearn: 0.6167139\ttotal: 3.6s\tremaining: 11.5s\n",
      "238:\tlearn: 0.6164363\ttotal: 3.62s\tremaining: 11.5s\n",
      "239:\tlearn: 0.6161978\ttotal: 3.63s\tremaining: 11.5s\n",
      "240:\tlearn: 0.6157662\ttotal: 3.65s\tremaining: 11.5s\n",
      "241:\tlearn: 0.6155029\ttotal: 3.66s\tremaining: 11.5s\n",
      "242:\tlearn: 0.6151680\ttotal: 3.68s\tremaining: 11.5s\n",
      "243:\tlearn: 0.6147606\ttotal: 3.69s\tremaining: 11.4s\n",
      "244:\tlearn: 0.6143238\ttotal: 3.71s\tremaining: 11.4s\n",
      "245:\tlearn: 0.6140081\ttotal: 3.72s\tremaining: 11.4s\n",
      "246:\tlearn: 0.6138090\ttotal: 3.74s\tremaining: 11.4s\n",
      "247:\tlearn: 0.6136310\ttotal: 3.75s\tremaining: 11.4s\n",
      "248:\tlearn: 0.6130847\ttotal: 3.77s\tremaining: 11.4s\n",
      "249:\tlearn: 0.6127331\ttotal: 3.79s\tremaining: 11.4s\n",
      "250:\tlearn: 0.6123934\ttotal: 3.8s\tremaining: 11.3s\n",
      "251:\tlearn: 0.6121899\ttotal: 3.81s\tremaining: 11.3s\n",
      "252:\tlearn: 0.6119269\ttotal: 3.83s\tremaining: 11.3s\n",
      "253:\tlearn: 0.6115911\ttotal: 3.85s\tremaining: 11.3s\n",
      "254:\tlearn: 0.6112759\ttotal: 3.86s\tremaining: 11.3s\n",
      "255:\tlearn: 0.6109577\ttotal: 3.88s\tremaining: 11.3s\n",
      "256:\tlearn: 0.6107861\ttotal: 3.89s\tremaining: 11.2s\n",
      "257:\tlearn: 0.6103218\ttotal: 3.9s\tremaining: 11.2s\n",
      "258:\tlearn: 0.6100842\ttotal: 3.92s\tremaining: 11.2s\n",
      "259:\tlearn: 0.6098776\ttotal: 3.93s\tremaining: 11.2s\n",
      "260:\tlearn: 0.6095763\ttotal: 3.95s\tremaining: 11.2s\n",
      "261:\tlearn: 0.6092599\ttotal: 3.96s\tremaining: 11.2s\n",
      "262:\tlearn: 0.6089557\ttotal: 3.98s\tremaining: 11.2s\n",
      "263:\tlearn: 0.6085960\ttotal: 4s\tremaining: 11.1s\n",
      "264:\tlearn: 0.6082050\ttotal: 4.01s\tremaining: 11.1s\n",
      "265:\tlearn: 0.6078192\ttotal: 4.03s\tremaining: 11.1s\n",
      "266:\tlearn: 0.6074773\ttotal: 4.04s\tremaining: 11.1s\n",
      "267:\tlearn: 0.6072473\ttotal: 4.06s\tremaining: 11.1s\n",
      "268:\tlearn: 0.6069295\ttotal: 4.07s\tremaining: 11.1s\n",
      "269:\tlearn: 0.6064060\ttotal: 4.09s\tremaining: 11s\n",
      "270:\tlearn: 0.6059571\ttotal: 4.1s\tremaining: 11s\n",
      "271:\tlearn: 0.6058056\ttotal: 4.11s\tremaining: 11s\n",
      "272:\tlearn: 0.6055661\ttotal: 4.13s\tremaining: 11s\n",
      "273:\tlearn: 0.6052891\ttotal: 4.14s\tremaining: 11s\n",
      "274:\tlearn: 0.6051349\ttotal: 4.16s\tremaining: 11s\n",
      "275:\tlearn: 0.6050097\ttotal: 4.18s\tremaining: 11s\n",
      "276:\tlearn: 0.6048819\ttotal: 4.19s\tremaining: 10.9s\n",
      "277:\tlearn: 0.6046613\ttotal: 4.21s\tremaining: 10.9s\n",
      "278:\tlearn: 0.6043196\ttotal: 4.22s\tremaining: 10.9s\n",
      "279:\tlearn: 0.6040225\ttotal: 4.23s\tremaining: 10.9s\n",
      "280:\tlearn: 0.6037730\ttotal: 4.25s\tremaining: 10.9s\n",
      "281:\tlearn: 0.6032856\ttotal: 4.26s\tremaining: 10.9s\n",
      "282:\tlearn: 0.6029717\ttotal: 4.28s\tremaining: 10.8s\n",
      "283:\tlearn: 0.6026587\ttotal: 4.3s\tremaining: 10.8s\n",
      "284:\tlearn: 0.6023918\ttotal: 4.31s\tremaining: 10.8s\n",
      "285:\tlearn: 0.6021235\ttotal: 4.33s\tremaining: 10.8s\n",
      "286:\tlearn: 0.6017324\ttotal: 4.34s\tremaining: 10.8s\n",
      "287:\tlearn: 0.6014753\ttotal: 4.36s\tremaining: 10.8s\n",
      "288:\tlearn: 0.6012977\ttotal: 4.37s\tremaining: 10.8s\n",
      "289:\tlearn: 0.6009561\ttotal: 4.39s\tremaining: 10.7s\n",
      "290:\tlearn: 0.6006463\ttotal: 4.4s\tremaining: 10.7s\n",
      "291:\tlearn: 0.6004752\ttotal: 4.42s\tremaining: 10.7s\n",
      "292:\tlearn: 0.5999800\ttotal: 4.43s\tremaining: 10.7s\n",
      "293:\tlearn: 0.5995401\ttotal: 4.45s\tremaining: 10.7s\n",
      "294:\tlearn: 0.5992393\ttotal: 4.46s\tremaining: 10.7s\n",
      "295:\tlearn: 0.5989871\ttotal: 4.48s\tremaining: 10.7s\n",
      "296:\tlearn: 0.5984750\ttotal: 4.5s\tremaining: 10.6s\n",
      "297:\tlearn: 0.5980899\ttotal: 4.51s\tremaining: 10.6s\n",
      "298:\tlearn: 0.5977846\ttotal: 4.53s\tremaining: 10.6s\n",
      "299:\tlearn: 0.5974408\ttotal: 4.54s\tremaining: 10.6s\n",
      "300:\tlearn: 0.5972586\ttotal: 4.55s\tremaining: 10.6s\n",
      "301:\tlearn: 0.5968195\ttotal: 4.57s\tremaining: 10.6s\n",
      "302:\tlearn: 0.5964502\ttotal: 4.58s\tremaining: 10.5s\n",
      "303:\tlearn: 0.5963844\ttotal: 4.59s\tremaining: 10.5s\n",
      "304:\tlearn: 0.5960363\ttotal: 4.61s\tremaining: 10.5s\n",
      "305:\tlearn: 0.5957933\ttotal: 4.62s\tremaining: 10.5s\n",
      "306:\tlearn: 0.5955310\ttotal: 4.63s\tremaining: 10.5s\n",
      "307:\tlearn: 0.5953020\ttotal: 4.64s\tremaining: 10.4s\n",
      "308:\tlearn: 0.5951618\ttotal: 4.66s\tremaining: 10.4s\n",
      "309:\tlearn: 0.5949564\ttotal: 4.67s\tremaining: 10.4s\n",
      "310:\tlearn: 0.5947352\ttotal: 4.69s\tremaining: 10.4s\n",
      "311:\tlearn: 0.5943890\ttotal: 4.7s\tremaining: 10.4s\n",
      "312:\tlearn: 0.5941679\ttotal: 4.72s\tremaining: 10.4s\n",
      "313:\tlearn: 0.5939338\ttotal: 4.73s\tremaining: 10.3s\n",
      "314:\tlearn: 0.5937611\ttotal: 4.74s\tremaining: 10.3s\n",
      "315:\tlearn: 0.5934690\ttotal: 4.76s\tremaining: 10.3s\n",
      "316:\tlearn: 0.5931807\ttotal: 4.77s\tremaining: 10.3s\n",
      "317:\tlearn: 0.5930391\ttotal: 4.79s\tremaining: 10.3s\n",
      "318:\tlearn: 0.5926997\ttotal: 4.8s\tremaining: 10.3s\n",
      "319:\tlearn: 0.5923242\ttotal: 4.82s\tremaining: 10.2s\n",
      "320:\tlearn: 0.5919370\ttotal: 4.83s\tremaining: 10.2s\n",
      "321:\tlearn: 0.5916299\ttotal: 4.84s\tremaining: 10.2s\n",
      "322:\tlearn: 0.5911908\ttotal: 4.86s\tremaining: 10.2s\n",
      "323:\tlearn: 0.5907564\ttotal: 4.88s\tremaining: 10.2s\n",
      "324:\tlearn: 0.5906517\ttotal: 4.89s\tremaining: 10.1s\n",
      "325:\tlearn: 0.5905054\ttotal: 4.9s\tremaining: 10.1s\n",
      "326:\tlearn: 0.5902384\ttotal: 4.91s\tremaining: 10.1s\n",
      "327:\tlearn: 0.5897689\ttotal: 4.92s\tremaining: 10.1s\n",
      "328:\tlearn: 0.5894894\ttotal: 4.94s\tremaining: 10.1s\n",
      "329:\tlearn: 0.5893017\ttotal: 4.95s\tremaining: 10.1s\n",
      "330:\tlearn: 0.5890573\ttotal: 4.97s\tremaining: 10s\n",
      "331:\tlearn: 0.5885721\ttotal: 4.98s\tremaining: 10s\n",
      "332:\tlearn: 0.5884747\ttotal: 5s\tremaining: 10s\n",
      "333:\tlearn: 0.5882246\ttotal: 5.01s\tremaining: 10s\n",
      "334:\tlearn: 0.5880337\ttotal: 5.03s\tremaining: 9.98s\n",
      "335:\tlearn: 0.5878735\ttotal: 5.04s\tremaining: 9.97s\n",
      "336:\tlearn: 0.5876937\ttotal: 5.06s\tremaining: 9.95s\n",
      "337:\tlearn: 0.5874001\ttotal: 5.07s\tremaining: 9.93s\n",
      "338:\tlearn: 0.5870127\ttotal: 5.09s\tremaining: 9.92s\n",
      "339:\tlearn: 0.5867116\ttotal: 5.1s\tremaining: 9.9s\n",
      "340:\tlearn: 0.5865220\ttotal: 5.11s\tremaining: 9.88s\n",
      "341:\tlearn: 0.5862598\ttotal: 5.13s\tremaining: 9.87s\n",
      "342:\tlearn: 0.5859927\ttotal: 5.14s\tremaining: 9.85s\n",
      "343:\tlearn: 0.5857280\ttotal: 5.16s\tremaining: 9.84s\n",
      "344:\tlearn: 0.5853726\ttotal: 5.17s\tremaining: 9.82s\n",
      "345:\tlearn: 0.5852287\ttotal: 5.19s\tremaining: 9.8s\n",
      "346:\tlearn: 0.5850934\ttotal: 5.2s\tremaining: 9.79s\n",
      "347:\tlearn: 0.5848326\ttotal: 5.22s\tremaining: 9.78s\n",
      "348:\tlearn: 0.5843748\ttotal: 5.24s\tremaining: 9.77s\n",
      "349:\tlearn: 0.5840494\ttotal: 5.26s\tremaining: 9.77s\n",
      "350:\tlearn: 0.5839193\ttotal: 5.28s\tremaining: 9.76s\n",
      "351:\tlearn: 0.5837404\ttotal: 5.29s\tremaining: 9.75s\n",
      "352:\tlearn: 0.5834223\ttotal: 5.31s\tremaining: 9.74s\n",
      "353:\tlearn: 0.5832859\ttotal: 5.33s\tremaining: 9.72s\n",
      "354:\tlearn: 0.5827785\ttotal: 5.35s\tremaining: 9.72s\n",
      "355:\tlearn: 0.5825765\ttotal: 5.36s\tremaining: 9.71s\n",
      "356:\tlearn: 0.5823422\ttotal: 5.38s\tremaining: 9.7s\n",
      "357:\tlearn: 0.5820969\ttotal: 5.4s\tremaining: 9.68s\n",
      "358:\tlearn: 0.5818509\ttotal: 5.41s\tremaining: 9.67s\n",
      "359:\tlearn: 0.5815017\ttotal: 5.43s\tremaining: 9.66s\n",
      "360:\tlearn: 0.5813232\ttotal: 5.45s\tremaining: 9.64s\n",
      "361:\tlearn: 0.5809802\ttotal: 5.46s\tremaining: 9.62s\n",
      "362:\tlearn: 0.5803909\ttotal: 5.47s\tremaining: 9.61s\n",
      "363:\tlearn: 0.5800018\ttotal: 5.49s\tremaining: 9.59s\n",
      "364:\tlearn: 0.5796277\ttotal: 5.5s\tremaining: 9.57s\n",
      "365:\tlearn: 0.5794184\ttotal: 5.51s\tremaining: 9.55s\n",
      "366:\tlearn: 0.5792347\ttotal: 5.53s\tremaining: 9.53s\n",
      "367:\tlearn: 0.5790973\ttotal: 5.54s\tremaining: 9.51s\n",
      "368:\tlearn: 0.5789163\ttotal: 5.55s\tremaining: 9.5s\n",
      "369:\tlearn: 0.5787004\ttotal: 5.57s\tremaining: 9.48s\n",
      "370:\tlearn: 0.5785764\ttotal: 5.58s\tremaining: 9.46s\n",
      "371:\tlearn: 0.5782381\ttotal: 5.59s\tremaining: 9.45s\n",
      "372:\tlearn: 0.5780225\ttotal: 5.61s\tremaining: 9.43s\n",
      "373:\tlearn: 0.5777799\ttotal: 5.62s\tremaining: 9.41s\n",
      "374:\tlearn: 0.5772554\ttotal: 5.64s\tremaining: 9.4s\n",
      "375:\tlearn: 0.5770751\ttotal: 5.65s\tremaining: 9.38s\n",
      "376:\tlearn: 0.5768478\ttotal: 5.67s\tremaining: 9.36s\n",
      "377:\tlearn: 0.5765905\ttotal: 5.68s\tremaining: 9.35s\n",
      "378:\tlearn: 0.5764114\ttotal: 5.69s\tremaining: 9.33s\n",
      "379:\tlearn: 0.5761403\ttotal: 5.71s\tremaining: 9.31s\n",
      "380:\tlearn: 0.5759449\ttotal: 5.72s\tremaining: 9.29s\n",
      "381:\tlearn: 0.5756336\ttotal: 5.73s\tremaining: 9.28s\n",
      "382:\tlearn: 0.5753709\ttotal: 5.75s\tremaining: 9.26s\n",
      "383:\tlearn: 0.5749345\ttotal: 5.76s\tremaining: 9.24s\n",
      "384:\tlearn: 0.5746803\ttotal: 5.77s\tremaining: 9.22s\n",
      "385:\tlearn: 0.5744215\ttotal: 5.79s\tremaining: 9.21s\n",
      "386:\tlearn: 0.5740993\ttotal: 5.8s\tremaining: 9.19s\n",
      "387:\tlearn: 0.5737049\ttotal: 5.82s\tremaining: 9.17s\n",
      "388:\tlearn: 0.5734071\ttotal: 5.83s\tremaining: 9.15s\n",
      "389:\tlearn: 0.5730450\ttotal: 5.84s\tremaining: 9.14s\n",
      "390:\tlearn: 0.5727928\ttotal: 5.86s\tremaining: 9.12s\n",
      "391:\tlearn: 0.5724797\ttotal: 5.87s\tremaining: 9.11s\n",
      "392:\tlearn: 0.5719364\ttotal: 5.88s\tremaining: 9.09s\n",
      "393:\tlearn: 0.5716615\ttotal: 5.9s\tremaining: 9.07s\n",
      "394:\tlearn: 0.5714134\ttotal: 5.91s\tremaining: 9.05s\n",
      "395:\tlearn: 0.5711185\ttotal: 5.92s\tremaining: 9.04s\n",
      "396:\tlearn: 0.5709653\ttotal: 5.94s\tremaining: 9.02s\n",
      "397:\tlearn: 0.5707202\ttotal: 5.95s\tremaining: 9s\n",
      "398:\tlearn: 0.5703095\ttotal: 5.96s\tremaining: 8.98s\n",
      "399:\tlearn: 0.5702184\ttotal: 5.98s\tremaining: 8.97s\n",
      "400:\tlearn: 0.5699352\ttotal: 5.99s\tremaining: 8.95s\n",
      "401:\tlearn: 0.5697703\ttotal: 6s\tremaining: 8.93s\n",
      "402:\tlearn: 0.5694116\ttotal: 6.02s\tremaining: 8.93s\n",
      "403:\tlearn: 0.5689424\ttotal: 6.05s\tremaining: 8.92s\n",
      "404:\tlearn: 0.5687205\ttotal: 6.07s\tremaining: 8.91s\n",
      "405:\tlearn: 0.5684489\ttotal: 6.09s\tremaining: 8.9s\n",
      "406:\tlearn: 0.5682454\ttotal: 6.11s\tremaining: 8.9s\n",
      "407:\tlearn: 0.5678851\ttotal: 6.13s\tremaining: 8.89s\n",
      "408:\tlearn: 0.5675535\ttotal: 6.16s\tremaining: 8.9s\n",
      "409:\tlearn: 0.5672501\ttotal: 6.18s\tremaining: 8.89s\n",
      "410:\tlearn: 0.5670631\ttotal: 6.2s\tremaining: 8.88s\n",
      "411:\tlearn: 0.5668723\ttotal: 6.21s\tremaining: 8.87s\n",
      "412:\tlearn: 0.5667247\ttotal: 6.23s\tremaining: 8.85s\n",
      "413:\tlearn: 0.5663727\ttotal: 6.26s\tremaining: 8.86s\n",
      "414:\tlearn: 0.5659771\ttotal: 6.28s\tremaining: 8.85s\n",
      "415:\tlearn: 0.5657768\ttotal: 6.3s\tremaining: 8.84s\n",
      "416:\tlearn: 0.5655553\ttotal: 6.32s\tremaining: 8.83s\n",
      "417:\tlearn: 0.5652710\ttotal: 6.33s\tremaining: 8.82s\n",
      "418:\tlearn: 0.5650229\ttotal: 6.35s\tremaining: 8.8s\n",
      "419:\tlearn: 0.5648053\ttotal: 6.37s\tremaining: 8.8s\n",
      "420:\tlearn: 0.5645456\ttotal: 6.39s\tremaining: 8.79s\n",
      "421:\tlearn: 0.5643076\ttotal: 6.41s\tremaining: 8.78s\n",
      "422:\tlearn: 0.5640718\ttotal: 6.43s\tremaining: 8.77s\n",
      "423:\tlearn: 0.5637725\ttotal: 6.44s\tremaining: 8.75s\n",
      "424:\tlearn: 0.5634837\ttotal: 6.46s\tremaining: 8.74s\n",
      "425:\tlearn: 0.5631113\ttotal: 6.48s\tremaining: 8.74s\n",
      "426:\tlearn: 0.5628467\ttotal: 6.5s\tremaining: 8.73s\n",
      "427:\tlearn: 0.5625905\ttotal: 6.53s\tremaining: 8.72s\n",
      "428:\tlearn: 0.5623910\ttotal: 6.54s\tremaining: 8.71s\n",
      "429:\tlearn: 0.5619574\ttotal: 6.56s\tremaining: 8.7s\n",
      "430:\tlearn: 0.5617391\ttotal: 6.58s\tremaining: 8.69s\n",
      "431:\tlearn: 0.5615102\ttotal: 6.6s\tremaining: 8.67s\n",
      "432:\tlearn: 0.5612755\ttotal: 6.62s\tremaining: 8.66s\n",
      "433:\tlearn: 0.5607255\ttotal: 6.63s\tremaining: 8.65s\n",
      "434:\tlearn: 0.5603940\ttotal: 6.65s\tremaining: 8.63s\n",
      "435:\tlearn: 0.5601367\ttotal: 6.66s\tremaining: 8.62s\n",
      "436:\tlearn: 0.5600239\ttotal: 6.68s\tremaining: 8.61s\n",
      "437:\tlearn: 0.5598257\ttotal: 6.7s\tremaining: 8.59s\n",
      "438:\tlearn: 0.5594722\ttotal: 6.71s\tremaining: 8.57s\n",
      "439:\tlearn: 0.5592256\ttotal: 6.72s\tremaining: 8.55s\n",
      "440:\tlearn: 0.5588516\ttotal: 6.73s\tremaining: 8.54s\n",
      "441:\tlearn: 0.5585626\ttotal: 6.75s\tremaining: 8.52s\n",
      "442:\tlearn: 0.5582313\ttotal: 6.76s\tremaining: 8.5s\n",
      "443:\tlearn: 0.5581842\ttotal: 6.77s\tremaining: 8.48s\n",
      "444:\tlearn: 0.5578567\ttotal: 6.79s\tremaining: 8.47s\n",
      "445:\tlearn: 0.5575461\ttotal: 6.81s\tremaining: 8.46s\n",
      "446:\tlearn: 0.5573118\ttotal: 6.83s\tremaining: 8.44s\n",
      "447:\tlearn: 0.5570710\ttotal: 6.84s\tremaining: 8.43s\n",
      "448:\tlearn: 0.5567124\ttotal: 6.86s\tremaining: 8.42s\n",
      "449:\tlearn: 0.5563834\ttotal: 6.88s\tremaining: 8.41s\n",
      "450:\tlearn: 0.5560974\ttotal: 6.89s\tremaining: 8.39s\n",
      "451:\tlearn: 0.5557417\ttotal: 6.91s\tremaining: 8.37s\n",
      "452:\tlearn: 0.5553731\ttotal: 6.92s\tremaining: 8.36s\n",
      "453:\tlearn: 0.5550473\ttotal: 6.93s\tremaining: 8.34s\n",
      "454:\tlearn: 0.5548433\ttotal: 6.95s\tremaining: 8.32s\n",
      "455:\tlearn: 0.5545581\ttotal: 6.96s\tremaining: 8.3s\n",
      "456:\tlearn: 0.5540988\ttotal: 6.97s\tremaining: 8.29s\n",
      "457:\tlearn: 0.5539616\ttotal: 6.99s\tremaining: 8.27s\n",
      "458:\tlearn: 0.5537146\ttotal: 7s\tremaining: 8.26s\n",
      "459:\tlearn: 0.5534692\ttotal: 7.02s\tremaining: 8.24s\n",
      "460:\tlearn: 0.5530897\ttotal: 7.04s\tremaining: 8.22s\n",
      "461:\tlearn: 0.5527258\ttotal: 7.05s\tremaining: 8.21s\n",
      "462:\tlearn: 0.5525052\ttotal: 7.07s\tremaining: 8.2s\n",
      "463:\tlearn: 0.5522926\ttotal: 7.08s\tremaining: 8.18s\n",
      "464:\tlearn: 0.5520207\ttotal: 7.1s\tremaining: 8.17s\n",
      "465:\tlearn: 0.5517615\ttotal: 7.12s\tremaining: 8.15s\n",
      "466:\tlearn: 0.5513872\ttotal: 7.13s\tremaining: 8.14s\n",
      "467:\tlearn: 0.5509742\ttotal: 7.15s\tremaining: 8.12s\n",
      "468:\tlearn: 0.5507938\ttotal: 7.16s\tremaining: 8.11s\n",
      "469:\tlearn: 0.5505230\ttotal: 7.18s\tremaining: 8.1s\n",
      "470:\tlearn: 0.5502722\ttotal: 7.2s\tremaining: 8.08s\n",
      "471:\tlearn: 0.5500831\ttotal: 7.21s\tremaining: 8.06s\n",
      "472:\tlearn: 0.5498746\ttotal: 7.22s\tremaining: 8.05s\n",
      "473:\tlearn: 0.5495809\ttotal: 7.24s\tremaining: 8.03s\n",
      "474:\tlearn: 0.5492221\ttotal: 7.25s\tremaining: 8.02s\n",
      "475:\tlearn: 0.5489371\ttotal: 7.27s\tremaining: 8s\n",
      "476:\tlearn: 0.5486388\ttotal: 7.29s\tremaining: 7.99s\n",
      "477:\tlearn: 0.5483483\ttotal: 7.3s\tremaining: 7.97s\n",
      "478:\tlearn: 0.5482693\ttotal: 7.31s\tremaining: 7.95s\n",
      "479:\tlearn: 0.5477300\ttotal: 7.33s\tremaining: 7.94s\n",
      "480:\tlearn: 0.5474237\ttotal: 7.34s\tremaining: 7.92s\n",
      "481:\tlearn: 0.5471662\ttotal: 7.35s\tremaining: 7.9s\n",
      "482:\tlearn: 0.5467880\ttotal: 7.37s\tremaining: 7.88s\n",
      "483:\tlearn: 0.5466078\ttotal: 7.38s\tremaining: 7.87s\n",
      "484:\tlearn: 0.5463092\ttotal: 7.4s\tremaining: 7.85s\n",
      "485:\tlearn: 0.5460596\ttotal: 7.41s\tremaining: 7.84s\n",
      "486:\tlearn: 0.5457216\ttotal: 7.43s\tremaining: 7.82s\n",
      "487:\tlearn: 0.5452756\ttotal: 7.44s\tremaining: 7.81s\n",
      "488:\tlearn: 0.5451594\ttotal: 7.46s\tremaining: 7.79s\n",
      "489:\tlearn: 0.5447369\ttotal: 7.47s\tremaining: 7.78s\n",
      "490:\tlearn: 0.5443746\ttotal: 7.49s\tremaining: 7.76s\n",
      "491:\tlearn: 0.5440290\ttotal: 7.5s\tremaining: 7.75s\n",
      "492:\tlearn: 0.5436285\ttotal: 7.52s\tremaining: 7.73s\n",
      "493:\tlearn: 0.5433544\ttotal: 7.53s\tremaining: 7.72s\n",
      "494:\tlearn: 0.5430984\ttotal: 7.55s\tremaining: 7.7s\n",
      "495:\tlearn: 0.5428240\ttotal: 7.56s\tremaining: 7.68s\n",
      "496:\tlearn: 0.5423659\ttotal: 7.57s\tremaining: 7.67s\n",
      "497:\tlearn: 0.5420635\ttotal: 7.59s\tremaining: 7.65s\n",
      "498:\tlearn: 0.5417743\ttotal: 7.6s\tremaining: 7.63s\n",
      "499:\tlearn: 0.5415227\ttotal: 7.61s\tremaining: 7.61s\n",
      "500:\tlearn: 0.5412267\ttotal: 7.63s\tremaining: 7.6s\n",
      "501:\tlearn: 0.5410591\ttotal: 7.64s\tremaining: 7.58s\n",
      "502:\tlearn: 0.5407077\ttotal: 7.66s\tremaining: 7.57s\n",
      "503:\tlearn: 0.5404547\ttotal: 7.67s\tremaining: 7.55s\n",
      "504:\tlearn: 0.5400907\ttotal: 7.69s\tremaining: 7.54s\n",
      "505:\tlearn: 0.5398453\ttotal: 7.71s\tremaining: 7.52s\n",
      "506:\tlearn: 0.5395963\ttotal: 7.72s\tremaining: 7.51s\n",
      "507:\tlearn: 0.5393427\ttotal: 7.74s\tremaining: 7.49s\n",
      "508:\tlearn: 0.5389965\ttotal: 7.75s\tremaining: 7.48s\n",
      "509:\tlearn: 0.5387089\ttotal: 7.77s\tremaining: 7.46s\n",
      "510:\tlearn: 0.5384296\ttotal: 7.78s\tremaining: 7.45s\n",
      "511:\tlearn: 0.5380351\ttotal: 7.8s\tremaining: 7.43s\n",
      "512:\tlearn: 0.5375298\ttotal: 7.82s\tremaining: 7.42s\n",
      "513:\tlearn: 0.5370170\ttotal: 7.83s\tremaining: 7.41s\n",
      "514:\tlearn: 0.5367333\ttotal: 7.85s\tremaining: 7.39s\n",
      "515:\tlearn: 0.5363624\ttotal: 7.87s\tremaining: 7.38s\n",
      "516:\tlearn: 0.5361798\ttotal: 7.88s\tremaining: 7.36s\n",
      "517:\tlearn: 0.5359927\ttotal: 7.9s\tremaining: 7.35s\n",
      "518:\tlearn: 0.5357129\ttotal: 7.91s\tremaining: 7.33s\n",
      "519:\tlearn: 0.5351586\ttotal: 7.93s\tremaining: 7.32s\n",
      "520:\tlearn: 0.5347158\ttotal: 7.95s\tremaining: 7.31s\n",
      "521:\tlearn: 0.5343489\ttotal: 7.96s\tremaining: 7.29s\n",
      "522:\tlearn: 0.5340324\ttotal: 7.98s\tremaining: 7.28s\n",
      "523:\tlearn: 0.5337281\ttotal: 7.99s\tremaining: 7.26s\n",
      "524:\tlearn: 0.5332621\ttotal: 8.01s\tremaining: 7.25s\n",
      "525:\tlearn: 0.5329802\ttotal: 8.03s\tremaining: 7.23s\n",
      "526:\tlearn: 0.5325993\ttotal: 8.04s\tremaining: 7.22s\n",
      "527:\tlearn: 0.5322246\ttotal: 8.06s\tremaining: 7.2s\n",
      "528:\tlearn: 0.5318994\ttotal: 8.07s\tremaining: 7.19s\n",
      "529:\tlearn: 0.5315745\ttotal: 8.09s\tremaining: 7.17s\n",
      "530:\tlearn: 0.5312162\ttotal: 8.11s\tremaining: 7.16s\n",
      "531:\tlearn: 0.5305729\ttotal: 8.13s\tremaining: 7.15s\n",
      "532:\tlearn: 0.5304309\ttotal: 8.14s\tremaining: 7.13s\n",
      "533:\tlearn: 0.5302858\ttotal: 8.15s\tremaining: 7.12s\n",
      "534:\tlearn: 0.5300408\ttotal: 8.17s\tremaining: 7.1s\n",
      "535:\tlearn: 0.5296804\ttotal: 8.19s\tremaining: 7.09s\n",
      "536:\tlearn: 0.5294570\ttotal: 8.2s\tremaining: 7.07s\n",
      "537:\tlearn: 0.5291470\ttotal: 8.22s\tremaining: 7.06s\n",
      "538:\tlearn: 0.5286837\ttotal: 8.23s\tremaining: 7.04s\n",
      "539:\tlearn: 0.5283483\ttotal: 8.25s\tremaining: 7.03s\n",
      "540:\tlearn: 0.5280440\ttotal: 8.27s\tremaining: 7.01s\n",
      "541:\tlearn: 0.5276170\ttotal: 8.28s\tremaining: 7s\n",
      "542:\tlearn: 0.5272404\ttotal: 8.3s\tremaining: 6.98s\n",
      "543:\tlearn: 0.5270382\ttotal: 8.32s\tremaining: 6.97s\n",
      "544:\tlearn: 0.5266523\ttotal: 8.33s\tremaining: 6.96s\n",
      "545:\tlearn: 0.5265002\ttotal: 8.35s\tremaining: 6.94s\n",
      "546:\tlearn: 0.5262074\ttotal: 8.36s\tremaining: 6.92s\n",
      "547:\tlearn: 0.5257793\ttotal: 8.38s\tremaining: 6.91s\n",
      "548:\tlearn: 0.5254413\ttotal: 8.39s\tremaining: 6.9s\n",
      "549:\tlearn: 0.5251244\ttotal: 8.41s\tremaining: 6.88s\n",
      "550:\tlearn: 0.5249066\ttotal: 8.43s\tremaining: 6.87s\n",
      "551:\tlearn: 0.5247865\ttotal: 8.44s\tremaining: 6.85s\n",
      "552:\tlearn: 0.5244559\ttotal: 8.45s\tremaining: 6.83s\n",
      "553:\tlearn: 0.5241748\ttotal: 8.47s\tremaining: 6.82s\n",
      "554:\tlearn: 0.5238479\ttotal: 8.48s\tremaining: 6.8s\n",
      "555:\tlearn: 0.5234996\ttotal: 8.5s\tremaining: 6.79s\n",
      "556:\tlearn: 0.5230569\ttotal: 8.51s\tremaining: 6.77s\n",
      "557:\tlearn: 0.5228362\ttotal: 8.53s\tremaining: 6.76s\n",
      "558:\tlearn: 0.5224626\ttotal: 8.54s\tremaining: 6.74s\n",
      "559:\tlearn: 0.5221046\ttotal: 8.56s\tremaining: 6.72s\n",
      "560:\tlearn: 0.5217070\ttotal: 8.57s\tremaining: 6.71s\n",
      "561:\tlearn: 0.5213717\ttotal: 8.58s\tremaining: 6.69s\n",
      "562:\tlearn: 0.5210991\ttotal: 8.6s\tremaining: 6.67s\n",
      "563:\tlearn: 0.5207622\ttotal: 8.61s\tremaining: 6.65s\n",
      "564:\tlearn: 0.5203398\ttotal: 8.62s\tremaining: 6.64s\n",
      "565:\tlearn: 0.5199171\ttotal: 8.63s\tremaining: 6.62s\n",
      "566:\tlearn: 0.5195600\ttotal: 8.65s\tremaining: 6.6s\n",
      "567:\tlearn: 0.5191528\ttotal: 8.66s\tremaining: 6.59s\n",
      "568:\tlearn: 0.5188562\ttotal: 8.68s\tremaining: 6.57s\n",
      "569:\tlearn: 0.5185563\ttotal: 8.69s\tremaining: 6.56s\n",
      "570:\tlearn: 0.5181235\ttotal: 8.71s\tremaining: 6.54s\n",
      "571:\tlearn: 0.5177586\ttotal: 8.73s\tremaining: 6.53s\n",
      "572:\tlearn: 0.5174951\ttotal: 8.74s\tremaining: 6.52s\n",
      "573:\tlearn: 0.5171573\ttotal: 8.76s\tremaining: 6.5s\n",
      "574:\tlearn: 0.5167431\ttotal: 8.78s\tremaining: 6.49s\n",
      "575:\tlearn: 0.5165130\ttotal: 8.79s\tremaining: 6.47s\n",
      "576:\tlearn: 0.5160320\ttotal: 8.8s\tremaining: 6.45s\n",
      "577:\tlearn: 0.5157263\ttotal: 8.82s\tremaining: 6.44s\n",
      "578:\tlearn: 0.5154205\ttotal: 8.83s\tremaining: 6.42s\n",
      "579:\tlearn: 0.5149772\ttotal: 8.85s\tremaining: 6.41s\n",
      "580:\tlearn: 0.5146252\ttotal: 8.86s\tremaining: 6.39s\n",
      "581:\tlearn: 0.5143962\ttotal: 8.88s\tremaining: 6.38s\n",
      "582:\tlearn: 0.5141687\ttotal: 8.89s\tremaining: 6.36s\n",
      "583:\tlearn: 0.5137934\ttotal: 8.91s\tremaining: 6.34s\n",
      "584:\tlearn: 0.5134020\ttotal: 8.92s\tremaining: 6.33s\n",
      "585:\tlearn: 0.5130805\ttotal: 8.94s\tremaining: 6.32s\n",
      "586:\tlearn: 0.5126674\ttotal: 8.96s\tremaining: 6.3s\n",
      "587:\tlearn: 0.5125068\ttotal: 8.97s\tremaining: 6.29s\n",
      "588:\tlearn: 0.5121029\ttotal: 8.99s\tremaining: 6.27s\n",
      "589:\tlearn: 0.5118688\ttotal: 9s\tremaining: 6.25s\n",
      "590:\tlearn: 0.5113669\ttotal: 9.02s\tremaining: 6.24s\n",
      "591:\tlearn: 0.5111038\ttotal: 9.03s\tremaining: 6.22s\n",
      "592:\tlearn: 0.5109152\ttotal: 9.05s\tremaining: 6.21s\n",
      "593:\tlearn: 0.5103257\ttotal: 9.06s\tremaining: 6.19s\n",
      "594:\tlearn: 0.5101874\ttotal: 9.08s\tremaining: 6.18s\n",
      "595:\tlearn: 0.5097494\ttotal: 9.09s\tremaining: 6.16s\n",
      "596:\tlearn: 0.5095547\ttotal: 9.11s\tremaining: 6.15s\n",
      "597:\tlearn: 0.5090217\ttotal: 9.12s\tremaining: 6.13s\n",
      "598:\tlearn: 0.5085953\ttotal: 9.14s\tremaining: 6.12s\n",
      "599:\tlearn: 0.5083624\ttotal: 9.15s\tremaining: 6.1s\n",
      "600:\tlearn: 0.5080671\ttotal: 9.17s\tremaining: 6.09s\n",
      "601:\tlearn: 0.5076801\ttotal: 9.19s\tremaining: 6.07s\n",
      "602:\tlearn: 0.5073874\ttotal: 9.2s\tremaining: 6.06s\n",
      "603:\tlearn: 0.5069352\ttotal: 9.21s\tremaining: 6.04s\n",
      "604:\tlearn: 0.5065158\ttotal: 9.23s\tremaining: 6.03s\n",
      "605:\tlearn: 0.5062794\ttotal: 9.24s\tremaining: 6.01s\n",
      "606:\tlearn: 0.5058441\ttotal: 9.26s\tremaining: 6s\n",
      "607:\tlearn: 0.5054507\ttotal: 9.28s\tremaining: 5.98s\n",
      "608:\tlearn: 0.5053015\ttotal: 9.29s\tremaining: 5.97s\n",
      "609:\tlearn: 0.5048615\ttotal: 9.31s\tremaining: 5.95s\n",
      "610:\tlearn: 0.5045015\ttotal: 9.32s\tremaining: 5.93s\n",
      "611:\tlearn: 0.5042765\ttotal: 9.34s\tremaining: 5.92s\n",
      "612:\tlearn: 0.5040290\ttotal: 9.35s\tremaining: 5.9s\n",
      "613:\tlearn: 0.5037527\ttotal: 9.37s\tremaining: 5.89s\n",
      "614:\tlearn: 0.5034943\ttotal: 9.38s\tremaining: 5.87s\n",
      "615:\tlearn: 0.5029889\ttotal: 9.4s\tremaining: 5.86s\n",
      "616:\tlearn: 0.5026563\ttotal: 9.42s\tremaining: 5.84s\n",
      "617:\tlearn: 0.5023187\ttotal: 9.43s\tremaining: 5.83s\n",
      "618:\tlearn: 0.5020256\ttotal: 9.45s\tremaining: 5.81s\n",
      "619:\tlearn: 0.5015107\ttotal: 9.46s\tremaining: 5.8s\n",
      "620:\tlearn: 0.5011700\ttotal: 9.48s\tremaining: 5.78s\n",
      "621:\tlearn: 0.5008398\ttotal: 9.49s\tremaining: 5.77s\n",
      "622:\tlearn: 0.5003300\ttotal: 9.51s\tremaining: 5.75s\n",
      "623:\tlearn: 0.5000323\ttotal: 9.52s\tremaining: 5.74s\n",
      "624:\tlearn: 0.4996003\ttotal: 9.54s\tremaining: 5.72s\n",
      "625:\tlearn: 0.4993680\ttotal: 9.55s\tremaining: 5.71s\n",
      "626:\tlearn: 0.4990960\ttotal: 9.56s\tremaining: 5.69s\n",
      "627:\tlearn: 0.4988190\ttotal: 9.58s\tremaining: 5.68s\n",
      "628:\tlearn: 0.4984518\ttotal: 9.6s\tremaining: 5.66s\n",
      "629:\tlearn: 0.4982413\ttotal: 9.61s\tremaining: 5.64s\n",
      "630:\tlearn: 0.4976921\ttotal: 9.63s\tremaining: 5.63s\n",
      "631:\tlearn: 0.4974382\ttotal: 9.64s\tremaining: 5.62s\n",
      "632:\tlearn: 0.4970226\ttotal: 9.66s\tremaining: 5.6s\n",
      "633:\tlearn: 0.4965879\ttotal: 9.68s\tremaining: 5.59s\n",
      "634:\tlearn: 0.4962835\ttotal: 9.69s\tremaining: 5.57s\n",
      "635:\tlearn: 0.4958788\ttotal: 9.71s\tremaining: 5.56s\n",
      "636:\tlearn: 0.4953026\ttotal: 9.72s\tremaining: 5.54s\n",
      "637:\tlearn: 0.4949553\ttotal: 9.74s\tremaining: 5.53s\n",
      "638:\tlearn: 0.4945490\ttotal: 9.76s\tremaining: 5.51s\n",
      "639:\tlearn: 0.4941799\ttotal: 9.77s\tremaining: 5.5s\n",
      "640:\tlearn: 0.4938214\ttotal: 9.79s\tremaining: 5.49s\n",
      "641:\tlearn: 0.4934284\ttotal: 9.81s\tremaining: 5.47s\n",
      "642:\tlearn: 0.4931968\ttotal: 9.82s\tremaining: 5.45s\n",
      "643:\tlearn: 0.4928937\ttotal: 9.84s\tremaining: 5.44s\n",
      "644:\tlearn: 0.4923548\ttotal: 9.85s\tremaining: 5.42s\n",
      "645:\tlearn: 0.4921130\ttotal: 9.87s\tremaining: 5.41s\n",
      "646:\tlearn: 0.4917741\ttotal: 9.88s\tremaining: 5.39s\n",
      "647:\tlearn: 0.4913489\ttotal: 9.89s\tremaining: 5.38s\n",
      "648:\tlearn: 0.4909055\ttotal: 9.91s\tremaining: 5.36s\n",
      "649:\tlearn: 0.4904274\ttotal: 9.92s\tremaining: 5.34s\n",
      "650:\tlearn: 0.4898977\ttotal: 9.94s\tremaining: 5.33s\n",
      "651:\tlearn: 0.4895940\ttotal: 9.95s\tremaining: 5.31s\n",
      "652:\tlearn: 0.4893458\ttotal: 9.96s\tremaining: 5.29s\n",
      "653:\tlearn: 0.4889963\ttotal: 9.98s\tremaining: 5.28s\n",
      "654:\tlearn: 0.4885476\ttotal: 9.99s\tremaining: 5.26s\n",
      "655:\tlearn: 0.4882020\ttotal: 10s\tremaining: 5.25s\n",
      "656:\tlearn: 0.4878373\ttotal: 10s\tremaining: 5.23s\n",
      "657:\tlearn: 0.4871491\ttotal: 10s\tremaining: 5.22s\n",
      "658:\tlearn: 0.4867437\ttotal: 10.1s\tremaining: 5.2s\n",
      "659:\tlearn: 0.4863300\ttotal: 10.1s\tremaining: 5.19s\n",
      "660:\tlearn: 0.4860563\ttotal: 10.1s\tremaining: 5.17s\n",
      "661:\tlearn: 0.4856892\ttotal: 10.1s\tremaining: 5.16s\n",
      "662:\tlearn: 0.4852976\ttotal: 10.1s\tremaining: 5.14s\n",
      "663:\tlearn: 0.4848899\ttotal: 10.1s\tremaining: 5.13s\n",
      "664:\tlearn: 0.4843761\ttotal: 10.1s\tremaining: 5.11s\n",
      "665:\tlearn: 0.4841059\ttotal: 10.2s\tremaining: 5.1s\n",
      "666:\tlearn: 0.4838048\ttotal: 10.2s\tremaining: 5.08s\n",
      "667:\tlearn: 0.4835662\ttotal: 10.2s\tremaining: 5.07s\n",
      "668:\tlearn: 0.4832072\ttotal: 10.2s\tremaining: 5.05s\n",
      "669:\tlearn: 0.4829919\ttotal: 10.2s\tremaining: 5.04s\n",
      "670:\tlearn: 0.4825325\ttotal: 10.3s\tremaining: 5.03s\n",
      "671:\tlearn: 0.4819266\ttotal: 10.3s\tremaining: 5.01s\n",
      "672:\tlearn: 0.4813134\ttotal: 10.3s\tremaining: 5s\n",
      "673:\tlearn: 0.4808666\ttotal: 10.3s\tremaining: 4.98s\n",
      "674:\tlearn: 0.4805385\ttotal: 10.3s\tremaining: 4.97s\n",
      "675:\tlearn: 0.4801467\ttotal: 10.3s\tremaining: 4.95s\n",
      "676:\tlearn: 0.4796592\ttotal: 10.3s\tremaining: 4.94s\n",
      "677:\tlearn: 0.4792269\ttotal: 10.4s\tremaining: 4.92s\n",
      "678:\tlearn: 0.4788945\ttotal: 10.4s\tremaining: 4.91s\n",
      "679:\tlearn: 0.4785376\ttotal: 10.4s\tremaining: 4.89s\n",
      "680:\tlearn: 0.4780886\ttotal: 10.4s\tremaining: 4.88s\n",
      "681:\tlearn: 0.4776823\ttotal: 10.4s\tremaining: 4.86s\n",
      "682:\tlearn: 0.4774028\ttotal: 10.4s\tremaining: 4.85s\n",
      "683:\tlearn: 0.4770552\ttotal: 10.5s\tremaining: 4.83s\n",
      "684:\tlearn: 0.4766628\ttotal: 10.5s\tremaining: 4.82s\n",
      "685:\tlearn: 0.4760946\ttotal: 10.5s\tremaining: 4.8s\n",
      "686:\tlearn: 0.4757130\ttotal: 10.5s\tremaining: 4.78s\n",
      "687:\tlearn: 0.4752462\ttotal: 10.5s\tremaining: 4.77s\n",
      "688:\tlearn: 0.4749672\ttotal: 10.5s\tremaining: 4.75s\n",
      "689:\tlearn: 0.4747363\ttotal: 10.5s\tremaining: 4.74s\n",
      "690:\tlearn: 0.4744676\ttotal: 10.6s\tremaining: 4.72s\n",
      "691:\tlearn: 0.4740833\ttotal: 10.6s\tremaining: 4.71s\n",
      "692:\tlearn: 0.4738843\ttotal: 10.6s\tremaining: 4.69s\n",
      "693:\tlearn: 0.4734490\ttotal: 10.6s\tremaining: 4.67s\n",
      "694:\tlearn: 0.4731080\ttotal: 10.6s\tremaining: 4.66s\n",
      "695:\tlearn: 0.4725719\ttotal: 10.6s\tremaining: 4.64s\n",
      "696:\tlearn: 0.4722769\ttotal: 10.6s\tremaining: 4.63s\n",
      "697:\tlearn: 0.4718728\ttotal: 10.7s\tremaining: 4.61s\n",
      "698:\tlearn: 0.4715158\ttotal: 10.7s\tremaining: 4.6s\n",
      "699:\tlearn: 0.4712599\ttotal: 10.7s\tremaining: 4.58s\n",
      "700:\tlearn: 0.4708257\ttotal: 10.7s\tremaining: 4.57s\n",
      "701:\tlearn: 0.4704595\ttotal: 10.7s\tremaining: 4.55s\n",
      "702:\tlearn: 0.4701116\ttotal: 10.7s\tremaining: 4.53s\n",
      "703:\tlearn: 0.4698655\ttotal: 10.7s\tremaining: 4.52s\n",
      "704:\tlearn: 0.4694292\ttotal: 10.8s\tremaining: 4.5s\n",
      "705:\tlearn: 0.4690344\ttotal: 10.8s\tremaining: 4.49s\n",
      "706:\tlearn: 0.4686910\ttotal: 10.8s\tremaining: 4.47s\n",
      "707:\tlearn: 0.4680677\ttotal: 10.8s\tremaining: 4.45s\n",
      "708:\tlearn: 0.4676218\ttotal: 10.8s\tremaining: 4.44s\n",
      "709:\tlearn: 0.4672876\ttotal: 10.8s\tremaining: 4.42s\n",
      "710:\tlearn: 0.4667507\ttotal: 10.8s\tremaining: 4.41s\n",
      "711:\tlearn: 0.4663433\ttotal: 10.9s\tremaining: 4.39s\n",
      "712:\tlearn: 0.4658441\ttotal: 10.9s\tremaining: 4.38s\n",
      "713:\tlearn: 0.4655050\ttotal: 10.9s\tremaining: 4.36s\n",
      "714:\tlearn: 0.4650732\ttotal: 10.9s\tremaining: 4.34s\n",
      "715:\tlearn: 0.4648788\ttotal: 10.9s\tremaining: 4.33s\n",
      "716:\tlearn: 0.4645379\ttotal: 10.9s\tremaining: 4.31s\n",
      "717:\tlearn: 0.4640226\ttotal: 10.9s\tremaining: 4.3s\n",
      "718:\tlearn: 0.4634190\ttotal: 11s\tremaining: 4.29s\n",
      "719:\tlearn: 0.4630889\ttotal: 11s\tremaining: 4.27s\n",
      "720:\tlearn: 0.4628564\ttotal: 11s\tremaining: 4.26s\n",
      "721:\tlearn: 0.4622997\ttotal: 11s\tremaining: 4.24s\n",
      "722:\tlearn: 0.4619037\ttotal: 11s\tremaining: 4.23s\n",
      "723:\tlearn: 0.4613720\ttotal: 11.1s\tremaining: 4.21s\n",
      "724:\tlearn: 0.4611006\ttotal: 11.1s\tremaining: 4.2s\n",
      "725:\tlearn: 0.4607145\ttotal: 11.1s\tremaining: 4.19s\n",
      "726:\tlearn: 0.4601707\ttotal: 11.1s\tremaining: 4.17s\n",
      "727:\tlearn: 0.4598953\ttotal: 11.1s\tremaining: 4.16s\n",
      "728:\tlearn: 0.4594730\ttotal: 11.1s\tremaining: 4.14s\n",
      "729:\tlearn: 0.4591082\ttotal: 11.2s\tremaining: 4.13s\n",
      "730:\tlearn: 0.4586712\ttotal: 11.2s\tremaining: 4.11s\n",
      "731:\tlearn: 0.4582441\ttotal: 11.2s\tremaining: 4.1s\n",
      "732:\tlearn: 0.4578707\ttotal: 11.2s\tremaining: 4.08s\n",
      "733:\tlearn: 0.4575693\ttotal: 11.2s\tremaining: 4.07s\n",
      "734:\tlearn: 0.4572799\ttotal: 11.2s\tremaining: 4.05s\n",
      "735:\tlearn: 0.4570274\ttotal: 11.2s\tremaining: 4.03s\n",
      "736:\tlearn: 0.4566645\ttotal: 11.3s\tremaining: 4.02s\n",
      "737:\tlearn: 0.4564557\ttotal: 11.3s\tremaining: 4s\n",
      "738:\tlearn: 0.4561171\ttotal: 11.3s\tremaining: 3.99s\n",
      "739:\tlearn: 0.4557745\ttotal: 11.3s\tremaining: 3.97s\n",
      "740:\tlearn: 0.4552951\ttotal: 11.3s\tremaining: 3.96s\n",
      "741:\tlearn: 0.4549617\ttotal: 11.3s\tremaining: 3.94s\n",
      "742:\tlearn: 0.4547184\ttotal: 11.4s\tremaining: 3.93s\n",
      "743:\tlearn: 0.4542953\ttotal: 11.4s\tremaining: 3.91s\n",
      "744:\tlearn: 0.4539511\ttotal: 11.4s\tremaining: 3.9s\n",
      "745:\tlearn: 0.4535403\ttotal: 11.4s\tremaining: 3.88s\n",
      "746:\tlearn: 0.4533212\ttotal: 11.4s\tremaining: 3.87s\n",
      "747:\tlearn: 0.4529363\ttotal: 11.4s\tremaining: 3.85s\n",
      "748:\tlearn: 0.4525336\ttotal: 11.4s\tremaining: 3.83s\n",
      "749:\tlearn: 0.4521304\ttotal: 11.5s\tremaining: 3.82s\n",
      "750:\tlearn: 0.4516181\ttotal: 11.5s\tremaining: 3.81s\n",
      "751:\tlearn: 0.4512668\ttotal: 11.5s\tremaining: 3.79s\n",
      "752:\tlearn: 0.4507957\ttotal: 11.5s\tremaining: 3.77s\n",
      "753:\tlearn: 0.4504420\ttotal: 11.5s\tremaining: 3.76s\n",
      "754:\tlearn: 0.4501196\ttotal: 11.5s\tremaining: 3.74s\n",
      "755:\tlearn: 0.4497863\ttotal: 11.6s\tremaining: 3.73s\n",
      "756:\tlearn: 0.4493748\ttotal: 11.6s\tremaining: 3.71s\n",
      "757:\tlearn: 0.4489816\ttotal: 11.6s\tremaining: 3.7s\n",
      "758:\tlearn: 0.4485559\ttotal: 11.6s\tremaining: 3.68s\n",
      "759:\tlearn: 0.4481251\ttotal: 11.6s\tremaining: 3.67s\n",
      "760:\tlearn: 0.4476580\ttotal: 11.6s\tremaining: 3.65s\n",
      "761:\tlearn: 0.4472632\ttotal: 11.6s\tremaining: 3.63s\n",
      "762:\tlearn: 0.4466992\ttotal: 11.7s\tremaining: 3.62s\n",
      "763:\tlearn: 0.4462211\ttotal: 11.7s\tremaining: 3.6s\n",
      "764:\tlearn: 0.4458174\ttotal: 11.7s\tremaining: 3.59s\n",
      "765:\tlearn: 0.4453493\ttotal: 11.7s\tremaining: 3.58s\n",
      "766:\tlearn: 0.4450867\ttotal: 11.7s\tremaining: 3.56s\n",
      "767:\tlearn: 0.4449790\ttotal: 11.7s\tremaining: 3.54s\n",
      "768:\tlearn: 0.4445172\ttotal: 11.8s\tremaining: 3.53s\n",
      "769:\tlearn: 0.4442126\ttotal: 11.8s\tremaining: 3.51s\n",
      "770:\tlearn: 0.4439301\ttotal: 11.8s\tremaining: 3.5s\n",
      "771:\tlearn: 0.4436524\ttotal: 11.8s\tremaining: 3.48s\n",
      "772:\tlearn: 0.4433003\ttotal: 11.8s\tremaining: 3.47s\n",
      "773:\tlearn: 0.4429370\ttotal: 11.8s\tremaining: 3.45s\n",
      "774:\tlearn: 0.4425923\ttotal: 11.8s\tremaining: 3.44s\n",
      "775:\tlearn: 0.4421808\ttotal: 11.8s\tremaining: 3.42s\n",
      "776:\tlearn: 0.4417331\ttotal: 11.9s\tremaining: 3.4s\n",
      "777:\tlearn: 0.4412448\ttotal: 11.9s\tremaining: 3.39s\n",
      "778:\tlearn: 0.4410516\ttotal: 11.9s\tremaining: 3.37s\n",
      "779:\tlearn: 0.4407110\ttotal: 11.9s\tremaining: 3.36s\n",
      "780:\tlearn: 0.4403219\ttotal: 11.9s\tremaining: 3.34s\n",
      "781:\tlearn: 0.4398687\ttotal: 11.9s\tremaining: 3.33s\n",
      "782:\tlearn: 0.4395009\ttotal: 12s\tremaining: 3.31s\n",
      "783:\tlearn: 0.4390709\ttotal: 12s\tremaining: 3.3s\n",
      "784:\tlearn: 0.4385783\ttotal: 12s\tremaining: 3.28s\n",
      "785:\tlearn: 0.4380577\ttotal: 12s\tremaining: 3.27s\n",
      "786:\tlearn: 0.4376713\ttotal: 12s\tremaining: 3.25s\n",
      "787:\tlearn: 0.4373828\ttotal: 12s\tremaining: 3.24s\n",
      "788:\tlearn: 0.4369885\ttotal: 12.1s\tremaining: 3.22s\n",
      "789:\tlearn: 0.4364741\ttotal: 12.1s\tremaining: 3.21s\n",
      "790:\tlearn: 0.4360604\ttotal: 12.1s\tremaining: 3.19s\n",
      "791:\tlearn: 0.4357139\ttotal: 12.1s\tremaining: 3.18s\n",
      "792:\tlearn: 0.4353831\ttotal: 12.1s\tremaining: 3.16s\n",
      "793:\tlearn: 0.4349949\ttotal: 12.1s\tremaining: 3.15s\n",
      "794:\tlearn: 0.4346182\ttotal: 12.1s\tremaining: 3.13s\n",
      "795:\tlearn: 0.4342749\ttotal: 12.1s\tremaining: 3.11s\n",
      "796:\tlearn: 0.4336863\ttotal: 12.2s\tremaining: 3.1s\n",
      "797:\tlearn: 0.4334377\ttotal: 12.2s\tremaining: 3.08s\n",
      "798:\tlearn: 0.4331203\ttotal: 12.2s\tremaining: 3.07s\n",
      "799:\tlearn: 0.4327544\ttotal: 12.2s\tremaining: 3.05s\n",
      "800:\tlearn: 0.4324412\ttotal: 12.2s\tremaining: 3.04s\n",
      "801:\tlearn: 0.4321518\ttotal: 12.2s\tremaining: 3.02s\n",
      "802:\tlearn: 0.4318134\ttotal: 12.2s\tremaining: 3s\n",
      "803:\tlearn: 0.4314703\ttotal: 12.3s\tremaining: 2.99s\n",
      "804:\tlearn: 0.4311079\ttotal: 12.3s\tremaining: 2.97s\n",
      "805:\tlearn: 0.4307002\ttotal: 12.3s\tremaining: 2.96s\n",
      "806:\tlearn: 0.4304023\ttotal: 12.3s\tremaining: 2.94s\n",
      "807:\tlearn: 0.4299050\ttotal: 12.3s\tremaining: 2.93s\n",
      "808:\tlearn: 0.4295035\ttotal: 12.3s\tremaining: 2.91s\n",
      "809:\tlearn: 0.4291981\ttotal: 12.3s\tremaining: 2.9s\n",
      "810:\tlearn: 0.4288647\ttotal: 12.4s\tremaining: 2.88s\n",
      "811:\tlearn: 0.4285073\ttotal: 12.4s\tremaining: 2.87s\n",
      "812:\tlearn: 0.4280838\ttotal: 12.4s\tremaining: 2.85s\n",
      "813:\tlearn: 0.4276495\ttotal: 12.4s\tremaining: 2.84s\n",
      "814:\tlearn: 0.4272931\ttotal: 12.4s\tremaining: 2.82s\n",
      "815:\tlearn: 0.4268248\ttotal: 12.4s\tremaining: 2.8s\n",
      "816:\tlearn: 0.4264286\ttotal: 12.5s\tremaining: 2.79s\n",
      "817:\tlearn: 0.4260320\ttotal: 12.5s\tremaining: 2.77s\n",
      "818:\tlearn: 0.4255927\ttotal: 12.5s\tremaining: 2.76s\n",
      "819:\tlearn: 0.4252739\ttotal: 12.5s\tremaining: 2.74s\n",
      "820:\tlearn: 0.4248507\ttotal: 12.5s\tremaining: 2.73s\n",
      "821:\tlearn: 0.4244492\ttotal: 12.5s\tremaining: 2.71s\n",
      "822:\tlearn: 0.4241875\ttotal: 12.5s\tremaining: 2.7s\n",
      "823:\tlearn: 0.4238472\ttotal: 12.6s\tremaining: 2.68s\n",
      "824:\tlearn: 0.4235713\ttotal: 12.6s\tremaining: 2.66s\n",
      "825:\tlearn: 0.4232945\ttotal: 12.6s\tremaining: 2.65s\n",
      "826:\tlearn: 0.4229778\ttotal: 12.6s\tremaining: 2.63s\n",
      "827:\tlearn: 0.4225908\ttotal: 12.6s\tremaining: 2.62s\n",
      "828:\tlearn: 0.4221028\ttotal: 12.6s\tremaining: 2.6s\n",
      "829:\tlearn: 0.4217197\ttotal: 12.6s\tremaining: 2.59s\n",
      "830:\tlearn: 0.4214889\ttotal: 12.7s\tremaining: 2.57s\n",
      "831:\tlearn: 0.4211253\ttotal: 12.7s\tremaining: 2.56s\n",
      "832:\tlearn: 0.4208014\ttotal: 12.7s\tremaining: 2.54s\n",
      "833:\tlearn: 0.4205036\ttotal: 12.7s\tremaining: 2.53s\n",
      "834:\tlearn: 0.4200805\ttotal: 12.7s\tremaining: 2.51s\n",
      "835:\tlearn: 0.4196968\ttotal: 12.7s\tremaining: 2.5s\n",
      "836:\tlearn: 0.4194141\ttotal: 12.7s\tremaining: 2.48s\n",
      "837:\tlearn: 0.4189560\ttotal: 12.7s\tremaining: 2.46s\n",
      "838:\tlearn: 0.4185991\ttotal: 12.8s\tremaining: 2.45s\n",
      "839:\tlearn: 0.4182923\ttotal: 12.8s\tremaining: 2.43s\n",
      "840:\tlearn: 0.4179332\ttotal: 12.8s\tremaining: 2.42s\n",
      "841:\tlearn: 0.4176618\ttotal: 12.8s\tremaining: 2.4s\n",
      "842:\tlearn: 0.4172207\ttotal: 12.8s\tremaining: 2.39s\n",
      "843:\tlearn: 0.4169611\ttotal: 12.8s\tremaining: 2.37s\n",
      "844:\tlearn: 0.4165342\ttotal: 12.8s\tremaining: 2.36s\n",
      "845:\tlearn: 0.4161182\ttotal: 12.9s\tremaining: 2.34s\n",
      "846:\tlearn: 0.4157842\ttotal: 12.9s\tremaining: 2.32s\n",
      "847:\tlearn: 0.4155428\ttotal: 12.9s\tremaining: 2.31s\n",
      "848:\tlearn: 0.4151204\ttotal: 12.9s\tremaining: 2.29s\n",
      "849:\tlearn: 0.4146769\ttotal: 12.9s\tremaining: 2.28s\n",
      "850:\tlearn: 0.4142022\ttotal: 12.9s\tremaining: 2.26s\n",
      "851:\tlearn: 0.4138650\ttotal: 12.9s\tremaining: 2.25s\n",
      "852:\tlearn: 0.4135368\ttotal: 12.9s\tremaining: 2.23s\n",
      "853:\tlearn: 0.4131851\ttotal: 13s\tremaining: 2.22s\n",
      "854:\tlearn: 0.4127675\ttotal: 13s\tremaining: 2.2s\n",
      "855:\tlearn: 0.4124960\ttotal: 13s\tremaining: 2.19s\n",
      "856:\tlearn: 0.4120720\ttotal: 13s\tremaining: 2.17s\n",
      "857:\tlearn: 0.4116891\ttotal: 13s\tremaining: 2.15s\n",
      "858:\tlearn: 0.4112192\ttotal: 13s\tremaining: 2.14s\n",
      "859:\tlearn: 0.4107573\ttotal: 13.1s\tremaining: 2.13s\n",
      "860:\tlearn: 0.4103768\ttotal: 13.1s\tremaining: 2.11s\n",
      "861:\tlearn: 0.4099413\ttotal: 13.1s\tremaining: 2.1s\n",
      "862:\tlearn: 0.4097153\ttotal: 13.1s\tremaining: 2.08s\n",
      "863:\tlearn: 0.4094184\ttotal: 13.1s\tremaining: 2.06s\n",
      "864:\tlearn: 0.4090527\ttotal: 13.1s\tremaining: 2.05s\n",
      "865:\tlearn: 0.4086653\ttotal: 13.1s\tremaining: 2.03s\n",
      "866:\tlearn: 0.4082914\ttotal: 13.2s\tremaining: 2.02s\n",
      "867:\tlearn: 0.4079904\ttotal: 13.2s\tremaining: 2s\n",
      "868:\tlearn: 0.4075928\ttotal: 13.2s\tremaining: 1.99s\n",
      "869:\tlearn: 0.4072520\ttotal: 13.2s\tremaining: 1.97s\n",
      "870:\tlearn: 0.4070728\ttotal: 13.2s\tremaining: 1.96s\n",
      "871:\tlearn: 0.4066977\ttotal: 13.2s\tremaining: 1.94s\n",
      "872:\tlearn: 0.4063999\ttotal: 13.2s\tremaining: 1.92s\n",
      "873:\tlearn: 0.4060741\ttotal: 13.2s\tremaining: 1.91s\n",
      "874:\tlearn: 0.4056948\ttotal: 13.3s\tremaining: 1.89s\n",
      "875:\tlearn: 0.4052448\ttotal: 13.3s\tremaining: 1.88s\n",
      "876:\tlearn: 0.4050794\ttotal: 13.3s\tremaining: 1.86s\n",
      "877:\tlearn: 0.4045742\ttotal: 13.3s\tremaining: 1.85s\n",
      "878:\tlearn: 0.4041555\ttotal: 13.3s\tremaining: 1.83s\n",
      "879:\tlearn: 0.4038965\ttotal: 13.3s\tremaining: 1.82s\n",
      "880:\tlearn: 0.4035845\ttotal: 13.3s\tremaining: 1.8s\n",
      "881:\tlearn: 0.4032409\ttotal: 13.4s\tremaining: 1.79s\n",
      "882:\tlearn: 0.4029570\ttotal: 13.4s\tremaining: 1.77s\n",
      "883:\tlearn: 0.4026344\ttotal: 13.4s\tremaining: 1.76s\n",
      "884:\tlearn: 0.4024053\ttotal: 13.4s\tremaining: 1.74s\n",
      "885:\tlearn: 0.4020119\ttotal: 13.4s\tremaining: 1.73s\n",
      "886:\tlearn: 0.4016534\ttotal: 13.4s\tremaining: 1.71s\n",
      "887:\tlearn: 0.4011477\ttotal: 13.5s\tremaining: 1.7s\n",
      "888:\tlearn: 0.4007789\ttotal: 13.5s\tremaining: 1.68s\n",
      "889:\tlearn: 0.4004489\ttotal: 13.5s\tremaining: 1.67s\n",
      "890:\tlearn: 0.4001655\ttotal: 13.5s\tremaining: 1.65s\n",
      "891:\tlearn: 0.3997198\ttotal: 13.5s\tremaining: 1.64s\n",
      "892:\tlearn: 0.3993729\ttotal: 13.5s\tremaining: 1.62s\n",
      "893:\tlearn: 0.3991614\ttotal: 13.6s\tremaining: 1.61s\n",
      "894:\tlearn: 0.3989454\ttotal: 13.6s\tremaining: 1.59s\n",
      "895:\tlearn: 0.3986409\ttotal: 13.6s\tremaining: 1.58s\n",
      "896:\tlearn: 0.3983338\ttotal: 13.6s\tremaining: 1.56s\n",
      "897:\tlearn: 0.3981799\ttotal: 13.6s\tremaining: 1.54s\n",
      "898:\tlearn: 0.3979935\ttotal: 13.6s\tremaining: 1.53s\n",
      "899:\tlearn: 0.3976442\ttotal: 13.6s\tremaining: 1.51s\n",
      "900:\tlearn: 0.3972665\ttotal: 13.6s\tremaining: 1.5s\n",
      "901:\tlearn: 0.3970812\ttotal: 13.7s\tremaining: 1.48s\n",
      "902:\tlearn: 0.3968015\ttotal: 13.7s\tremaining: 1.47s\n",
      "903:\tlearn: 0.3965485\ttotal: 13.7s\tremaining: 1.45s\n",
      "904:\tlearn: 0.3960440\ttotal: 13.7s\tremaining: 1.44s\n",
      "905:\tlearn: 0.3957882\ttotal: 13.7s\tremaining: 1.42s\n",
      "906:\tlearn: 0.3953658\ttotal: 13.7s\tremaining: 1.41s\n",
      "907:\tlearn: 0.3949969\ttotal: 13.8s\tremaining: 1.39s\n",
      "908:\tlearn: 0.3945776\ttotal: 13.8s\tremaining: 1.38s\n",
      "909:\tlearn: 0.3942068\ttotal: 13.8s\tremaining: 1.36s\n",
      "910:\tlearn: 0.3938531\ttotal: 13.8s\tremaining: 1.35s\n",
      "911:\tlearn: 0.3934786\ttotal: 13.8s\tremaining: 1.33s\n",
      "912:\tlearn: 0.3932326\ttotal: 13.8s\tremaining: 1.32s\n",
      "913:\tlearn: 0.3927970\ttotal: 13.8s\tremaining: 1.3s\n",
      "914:\tlearn: 0.3926268\ttotal: 13.9s\tremaining: 1.29s\n",
      "915:\tlearn: 0.3924054\ttotal: 13.9s\tremaining: 1.27s\n",
      "916:\tlearn: 0.3920832\ttotal: 13.9s\tremaining: 1.26s\n",
      "917:\tlearn: 0.3917624\ttotal: 13.9s\tremaining: 1.24s\n",
      "918:\tlearn: 0.3913766\ttotal: 13.9s\tremaining: 1.23s\n",
      "919:\tlearn: 0.3909979\ttotal: 13.9s\tremaining: 1.21s\n",
      "920:\tlearn: 0.3907243\ttotal: 14s\tremaining: 1.2s\n",
      "921:\tlearn: 0.3904108\ttotal: 14s\tremaining: 1.18s\n",
      "922:\tlearn: 0.3900941\ttotal: 14s\tremaining: 1.17s\n",
      "923:\tlearn: 0.3897068\ttotal: 14s\tremaining: 1.15s\n",
      "924:\tlearn: 0.3894077\ttotal: 14s\tremaining: 1.14s\n",
      "925:\tlearn: 0.3890499\ttotal: 14s\tremaining: 1.12s\n",
      "926:\tlearn: 0.3887173\ttotal: 14.1s\tremaining: 1.11s\n",
      "927:\tlearn: 0.3881465\ttotal: 14.1s\tremaining: 1.09s\n",
      "928:\tlearn: 0.3879049\ttotal: 14.1s\tremaining: 1.08s\n",
      "929:\tlearn: 0.3875282\ttotal: 14.1s\tremaining: 1.06s\n",
      "930:\tlearn: 0.3871752\ttotal: 14.1s\tremaining: 1.04s\n",
      "931:\tlearn: 0.3869303\ttotal: 14.1s\tremaining: 1.03s\n",
      "932:\tlearn: 0.3866011\ttotal: 14.1s\tremaining: 1.01s\n",
      "933:\tlearn: 0.3862886\ttotal: 14.2s\tremaining: 1s\n",
      "934:\tlearn: 0.3860217\ttotal: 14.2s\tremaining: 985ms\n",
      "935:\tlearn: 0.3857024\ttotal: 14.2s\tremaining: 970ms\n",
      "936:\tlearn: 0.3852552\ttotal: 14.2s\tremaining: 955ms\n",
      "937:\tlearn: 0.3849260\ttotal: 14.2s\tremaining: 940ms\n",
      "938:\tlearn: 0.3847320\ttotal: 14.2s\tremaining: 925ms\n",
      "939:\tlearn: 0.3842301\ttotal: 14.2s\tremaining: 909ms\n",
      "940:\tlearn: 0.3838434\ttotal: 14.3s\tremaining: 894ms\n",
      "941:\tlearn: 0.3836427\ttotal: 14.3s\tremaining: 879ms\n",
      "942:\tlearn: 0.3833716\ttotal: 14.3s\tremaining: 864ms\n",
      "943:\tlearn: 0.3831284\ttotal: 14.3s\tremaining: 849ms\n",
      "944:\tlearn: 0.3829640\ttotal: 14.3s\tremaining: 833ms\n",
      "945:\tlearn: 0.3827063\ttotal: 14.3s\tremaining: 818ms\n",
      "946:\tlearn: 0.3824736\ttotal: 14.3s\tremaining: 803ms\n",
      "947:\tlearn: 0.3822342\ttotal: 14.4s\tremaining: 788ms\n",
      "948:\tlearn: 0.3819580\ttotal: 14.4s\tremaining: 773ms\n",
      "949:\tlearn: 0.3817057\ttotal: 14.4s\tremaining: 758ms\n",
      "950:\tlearn: 0.3815573\ttotal: 14.4s\tremaining: 742ms\n",
      "951:\tlearn: 0.3811287\ttotal: 14.4s\tremaining: 727ms\n",
      "952:\tlearn: 0.3807366\ttotal: 14.4s\tremaining: 712ms\n",
      "953:\tlearn: 0.3804051\ttotal: 14.5s\tremaining: 697ms\n",
      "954:\tlearn: 0.3802045\ttotal: 14.5s\tremaining: 682ms\n",
      "955:\tlearn: 0.3800367\ttotal: 14.5s\tremaining: 667ms\n",
      "956:\tlearn: 0.3796149\ttotal: 14.5s\tremaining: 651ms\n",
      "957:\tlearn: 0.3792373\ttotal: 14.5s\tremaining: 636ms\n",
      "958:\tlearn: 0.3789656\ttotal: 14.5s\tremaining: 621ms\n",
      "959:\tlearn: 0.3785873\ttotal: 14.5s\tremaining: 606ms\n",
      "960:\tlearn: 0.3783647\ttotal: 14.6s\tremaining: 591ms\n",
      "961:\tlearn: 0.3779672\ttotal: 14.6s\tremaining: 576ms\n",
      "962:\tlearn: 0.3776430\ttotal: 14.6s\tremaining: 561ms\n",
      "963:\tlearn: 0.3773281\ttotal: 14.6s\tremaining: 546ms\n",
      "964:\tlearn: 0.3768849\ttotal: 14.6s\tremaining: 530ms\n",
      "965:\tlearn: 0.3765846\ttotal: 14.6s\tremaining: 515ms\n",
      "966:\tlearn: 0.3762405\ttotal: 14.7s\tremaining: 500ms\n",
      "967:\tlearn: 0.3759984\ttotal: 14.7s\tremaining: 485ms\n",
      "968:\tlearn: 0.3756811\ttotal: 14.7s\tremaining: 470ms\n",
      "969:\tlearn: 0.3753360\ttotal: 14.7s\tremaining: 455ms\n",
      "970:\tlearn: 0.3749614\ttotal: 14.7s\tremaining: 439ms\n",
      "971:\tlearn: 0.3745538\ttotal: 14.7s\tremaining: 424ms\n",
      "972:\tlearn: 0.3742787\ttotal: 14.7s\tremaining: 409ms\n",
      "973:\tlearn: 0.3740247\ttotal: 14.8s\tremaining: 394ms\n",
      "974:\tlearn: 0.3737418\ttotal: 14.8s\tremaining: 379ms\n",
      "975:\tlearn: 0.3735691\ttotal: 14.8s\tremaining: 364ms\n",
      "976:\tlearn: 0.3732664\ttotal: 14.8s\tremaining: 349ms\n",
      "977:\tlearn: 0.3728806\ttotal: 14.8s\tremaining: 333ms\n",
      "978:\tlearn: 0.3726821\ttotal: 14.8s\tremaining: 318ms\n",
      "979:\tlearn: 0.3724201\ttotal: 14.9s\tremaining: 303ms\n",
      "980:\tlearn: 0.3721283\ttotal: 14.9s\tremaining: 288ms\n",
      "981:\tlearn: 0.3717152\ttotal: 14.9s\tremaining: 273ms\n",
      "982:\tlearn: 0.3713948\ttotal: 14.9s\tremaining: 258ms\n",
      "983:\tlearn: 0.3712197\ttotal: 14.9s\tremaining: 242ms\n",
      "984:\tlearn: 0.3709290\ttotal: 14.9s\tremaining: 227ms\n",
      "985:\tlearn: 0.3706584\ttotal: 14.9s\tremaining: 212ms\n",
      "986:\tlearn: 0.3703809\ttotal: 15s\tremaining: 197ms\n",
      "987:\tlearn: 0.3700595\ttotal: 15s\tremaining: 182ms\n",
      "988:\tlearn: 0.3696547\ttotal: 15s\tremaining: 167ms\n",
      "989:\tlearn: 0.3693812\ttotal: 15s\tremaining: 152ms\n",
      "990:\tlearn: 0.3691616\ttotal: 15s\tremaining: 136ms\n",
      "991:\tlearn: 0.3687947\ttotal: 15s\tremaining: 121ms\n",
      "992:\tlearn: 0.3684187\ttotal: 15.1s\tremaining: 106ms\n",
      "993:\tlearn: 0.3681822\ttotal: 15.1s\tremaining: 91ms\n",
      "994:\tlearn: 0.3679117\ttotal: 15.1s\tremaining: 75.8ms\n",
      "995:\tlearn: 0.3674757\ttotal: 15.1s\tremaining: 60.6ms\n",
      "996:\tlearn: 0.3671808\ttotal: 15.1s\tremaining: 45.5ms\n",
      "997:\tlearn: 0.3669101\ttotal: 15.1s\tremaining: 30.3ms\n",
      "998:\tlearn: 0.3665377\ttotal: 15.1s\tremaining: 15.2ms\n",
      "999:\tlearn: 0.3662055\ttotal: 15.2s\tremaining: 0us\n",
      "0.8359788359788359\n",
      "===============\n",
      "[[154  32]\n",
      " [ 30 162]]\n"
     ]
    }
   ],
   "source": [
    "cb=CatBoostClassifier(random_state=1)\n",
    "cb.fit(pd.DataFrame(traindataset.todense(), columns=countvector.get_feature_names()),train['Label'])\n",
    "predictions = xgb.predict(pd.DataFrame(test_dataset.todense(), columns=countvector.get_feature_names()))\n",
    "matrix=confusion_matrix(test['Label'],predictions)\n",
    "score=accuracy_score(test['Label'],predictions)\n",
    "print(score)\n",
    "print('===============')\n",
    "print(matrix)"
   ]
  },
  {
   "cell_type": "markdown",
   "metadata": {
    "papermill": {
     "duration": 0.087721,
     "end_time": "2020-10-29T04:59:06.452266",
     "exception": false,
     "start_time": "2020-10-29T04:59:06.364545",
     "status": "completed"
    },
    "tags": []
   },
   "source": [
    "<font color='darkblue'>Catboost is giving the same results as xgboost\n",
    "\n",
    "Now lets use hyperparameters and see whether the model is improving or not \n",
    "    \n",
    "At first we will perform hyperparameter tuning for random forest</font>"
   ]
  },
  {
   "cell_type": "markdown",
   "metadata": {
    "papermill": {
     "duration": 0.069853,
     "end_time": "2020-10-29T04:59:06.591256",
     "exception": false,
     "start_time": "2020-10-29T04:59:06.521403",
     "status": "completed"
    },
    "tags": []
   },
   "source": [
    "###  <font color='darkred'>Random forest with hyperparameter tuning </font>"
   ]
  },
  {
   "cell_type": "code",
   "execution_count": 16,
   "metadata": {
    "execution": {
     "iopub.execute_input": "2020-10-29T04:59:06.741200Z",
     "iopub.status.busy": "2020-10-29T04:59:06.739294Z",
     "iopub.status.idle": "2020-10-29T05:56:58.851014Z",
     "shell.execute_reply": "2020-10-29T05:56:58.851514Z"
    },
    "papermill": {
     "duration": 3472.191489,
     "end_time": "2020-10-29T05:56:58.851673",
     "exception": false,
     "start_time": "2020-10-29T04:59:06.660184",
     "status": "completed"
    },
    "tags": []
   },
   "outputs": [
    {
     "name": "stdout",
     "output_type": "stream",
     "text": [
      "Fitting 5 folds for each of 648 candidates, totalling 3240 fits\n"
     ]
    },
    {
     "name": "stderr",
     "output_type": "stream",
     "text": [
      "[Parallel(n_jobs=-1)]: Using backend LokyBackend with 4 concurrent workers.\n",
      "[Parallel(n_jobs=-1)]: Done  42 tasks      | elapsed:  1.2min\n",
      "[Parallel(n_jobs=-1)]: Done 192 tasks      | elapsed:  4.1min\n",
      "[Parallel(n_jobs=-1)]: Done 442 tasks      | elapsed:  7.7min\n",
      "[Parallel(n_jobs=-1)]: Done 792 tasks      | elapsed: 12.8min\n",
      "[Parallel(n_jobs=-1)]: Done 1242 tasks      | elapsed: 20.9min\n",
      "[Parallel(n_jobs=-1)]: Done 1792 tasks      | elapsed: 31.1min\n",
      "[Parallel(n_jobs=-1)]: Done 2442 tasks      | elapsed: 42.3min\n",
      "[Parallel(n_jobs=-1)]: Done 3192 tasks      | elapsed: 57.3min\n",
      "[Parallel(n_jobs=-1)]: Done 3240 out of 3240 | elapsed: 57.8min finished\n"
     ]
    },
    {
     "name": "stdout",
     "output_type": "stream",
     "text": [
      "Random Forest\n",
      "Best Score: 0.5453544351235262\n",
      "Best Parameters: {'bootstrap': True, 'criterion': 'gini', 'max_depth': None, 'max_features': 'auto', 'min_samples_leaf': 2, 'min_samples_split': 2, 'n_estimators': 100}\n"
     ]
    }
   ],
   "source": [
    "def performance(classifier, model_name):\n",
    "    print(model_name)\n",
    "    print('Best Score: ' + str(classifier.best_score_))\n",
    "    print('Best Parameters: ' + str(classifier.best_params_))\n",
    "\n",
    "\n",
    "rf = RandomForestClassifier(random_state = 1)\n",
    "param_grid =  {'n_estimators': [100,300,400],\n",
    "               'criterion':['gini','entropy'],\n",
    "                                  'bootstrap': [True,False],\n",
    "                                  'max_depth': [None,15, 20],\n",
    "                                  'max_features': ['auto', 10],\n",
    "                                  'min_samples_leaf': [1,2,5],\n",
    "                                  'min_samples_split': [2,3,5]}\n",
    "\n",
    "clf_rf = GridSearchCV(rf,param_grid = param_grid, cv=5 , verbose = True, n_jobs = -1)\n",
    "best_clf_rf = clf_rf.fit(traindataset,train['Label'])\n",
    "performance(best_clf_rf,'Random Forest')"
   ]
  },
  {
   "cell_type": "code",
   "execution_count": 17,
   "metadata": {
    "execution": {
     "iopub.execute_input": "2020-10-29T05:56:59.009561Z",
     "iopub.status.busy": "2020-10-29T05:56:59.008711Z",
     "iopub.status.idle": "2020-10-29T05:56:59.012459Z",
     "shell.execute_reply": "2020-10-29T05:56:59.011793Z"
    },
    "papermill": {
     "duration": 0.084046,
     "end_time": "2020-10-29T05:56:59.012567",
     "exception": false,
     "start_time": "2020-10-29T05:56:58.928521",
     "status": "completed"
    },
    "tags": []
   },
   "outputs": [],
   "source": [
    "best_rf = best_clf_rf.best_estimator_"
   ]
  },
  {
   "cell_type": "code",
   "execution_count": 18,
   "metadata": {
    "execution": {
     "iopub.execute_input": "2020-10-29T05:56:59.193689Z",
     "iopub.status.busy": "2020-10-29T05:56:59.188524Z",
     "iopub.status.idle": "2020-10-29T05:57:06.908662Z",
     "shell.execute_reply": "2020-10-29T05:57:06.909215Z"
    },
    "papermill": {
     "duration": 7.817721,
     "end_time": "2020-10-29T05:57:06.909385",
     "exception": false,
     "start_time": "2020-10-29T05:56:59.091664",
     "status": "completed"
    },
    "tags": []
   },
   "outputs": [
    {
     "data": {
      "text/plain": [
       "array([1, 0, 0, 1, 1, 0, 0, 0, 0, 0, 1, 1, 1, 1, 0, 1, 0, 0, 1, 0, 1, 1,\n",
       "       1, 1, 0, 0, 1, 0, 1, 1, 1, 0, 0, 1, 0, 1, 1, 0, 0, 1, 0, 0, 1, 0,\n",
       "       1, 0, 0, 1, 0, 1, 0, 1, 0, 1, 0, 0, 0, 0, 1, 1, 0, 0, 1, 1, 0, 1,\n",
       "       1, 1, 0, 1, 1, 0, 0, 1, 0, 1, 1, 1, 0, 1, 0, 0, 1, 1, 0, 0, 1, 1,\n",
       "       0, 0, 0, 1, 1, 1, 1, 0, 1, 0, 0, 1, 0, 0, 1, 0, 1, 0, 0, 0, 0, 1,\n",
       "       1, 0, 0, 1, 1, 1, 0, 1, 1, 0, 0, 1, 0, 1, 1, 0, 0, 1, 0, 1, 1, 1,\n",
       "       1, 0, 1, 0, 1, 0, 0, 0, 0, 0, 1, 1, 0, 0, 0, 0, 0, 0, 0, 1, 0, 0,\n",
       "       1, 1, 1, 0, 0, 0, 0, 0, 0, 1, 1, 0, 0, 0, 1, 1, 0, 1, 0, 1, 1, 0,\n",
       "       1, 1, 0, 0, 1, 0, 0, 0, 1, 0, 1, 1, 0, 1, 1, 1, 1, 1, 1, 1, 0, 0,\n",
       "       1, 1, 1, 0, 0, 1, 1, 0, 0, 1, 0, 0, 1, 1, 0, 0, 1, 0, 1, 0, 0, 0,\n",
       "       1, 1, 1, 0, 1, 0, 1, 1, 0, 0, 1, 0, 0, 1, 0, 0, 0, 1, 0, 1, 1, 1,\n",
       "       0, 0, 1, 1, 1, 0, 0, 1, 0, 0, 1, 1, 1, 1, 1, 1, 1, 1, 1, 1, 1, 1,\n",
       "       1, 1, 1, 1, 1, 1, 1, 1, 1, 1, 1, 1, 1, 1, 1, 1, 1, 1, 1, 1, 1, 1,\n",
       "       1, 1, 1, 1, 1, 1, 1, 1, 1, 1, 1, 1, 1, 1, 1, 1, 1, 1, 1, 1, 1, 1,\n",
       "       1, 1, 1, 1, 1, 1, 1, 1, 1, 1, 1, 1, 1, 1, 1, 1, 1, 1, 1, 1, 1, 1,\n",
       "       1, 1, 1, 1, 1, 1, 0, 1, 1, 1, 1, 1, 1, 1, 1, 1, 1, 1, 1, 1, 1, 1,\n",
       "       1, 1, 1, 0, 1, 1, 1, 1, 1, 1, 1, 1, 1, 1, 1, 1, 1, 1, 1, 1, 1, 1,\n",
       "       1, 1, 1, 1])"
      ]
     },
     "execution_count": 18,
     "metadata": {},
     "output_type": "execute_result"
    }
   ],
   "source": [
    "countvector=CountVectorizer(ngram_range=(2,2))\n",
    "traindataset=countvector.fit_transform(headlines)\n",
    "test_dataset = countvector.transform(test_transform)\n",
    "\n",
    "best_rf.fit(traindataset,train['Label'])\n",
    "predictions = best_rf.predict(test_dataset)\n",
    "predictions"
   ]
  },
  {
   "cell_type": "code",
   "execution_count": 19,
   "metadata": {
    "execution": {
     "iopub.execute_input": "2020-10-29T05:57:07.075867Z",
     "iopub.status.busy": "2020-10-29T05:57:07.075226Z",
     "iopub.status.idle": "2020-10-29T05:57:07.083637Z",
     "shell.execute_reply": "2020-10-29T05:57:07.083046Z"
    },
    "papermill": {
     "duration": 0.093436,
     "end_time": "2020-10-29T05:57:07.083754",
     "exception": false,
     "start_time": "2020-10-29T05:57:06.990318",
     "status": "completed"
    },
    "tags": []
   },
   "outputs": [
    {
     "name": "stdout",
     "output_type": "stream",
     "text": [
      "0.8518518518518519\n",
      "========================\n",
      "confusion matrix :\n",
      "[[131  55]\n",
      " [  1 191]]\n"
     ]
    }
   ],
   "source": [
    "score=accuracy_score(test['Label'],predictions)\n",
    "print(score)\n",
    "print('========================')\n",
    "print('confusion matrix :')\n",
    "matrix=confusion_matrix(test['Label'],predictions)\n",
    "print(matrix)"
   ]
  },
  {
   "cell_type": "markdown",
   "metadata": {
    "papermill": {
     "duration": 0.100944,
     "end_time": "2020-10-29T05:57:07.273356",
     "exception": false,
     "start_time": "2020-10-29T05:57:07.172412",
     "status": "completed"
    },
    "tags": []
   },
   "source": [
    "<font color='darkblue'>As you can see that performing hyperparameter tuning on randomforest made the model good predictions and also decreased the false negative value.\n",
    "</font>"
   ]
  },
  {
   "cell_type": "markdown",
   "metadata": {
    "papermill": {
     "duration": 0.07693,
     "end_time": "2020-10-29T05:57:07.429340",
     "exception": false,
     "start_time": "2020-10-29T05:57:07.352410",
     "status": "completed"
    },
    "tags": []
   },
   "source": [
    "\n",
    "<font color='darkblue'>Lets use hyperparameter tuning for XGBOOST and see if the accuracy is improving or not</font>"
   ]
  },
  {
   "cell_type": "markdown",
   "metadata": {
    "papermill": {
     "duration": 0.082425,
     "end_time": "2020-10-29T05:57:07.660736",
     "exception": false,
     "start_time": "2020-10-29T05:57:07.578311",
     "status": "completed"
    },
    "tags": []
   },
   "source": [
    " ###  <font color='darkred'>XGBoost with hyperparameter tuning </font>"
   ]
  },
  {
   "cell_type": "code",
   "execution_count": 20,
   "metadata": {
    "execution": {
     "iopub.execute_input": "2020-10-29T05:57:07.998708Z",
     "iopub.status.busy": "2020-10-29T05:57:07.898372Z",
     "iopub.status.idle": "2020-10-29T06:07:07.862963Z",
     "shell.execute_reply": "2020-10-29T06:07:07.862214Z"
    },
    "papermill": {
     "duration": 600.088312,
     "end_time": "2020-10-29T06:07:07.863098",
     "exception": false,
     "start_time": "2020-10-29T05:57:07.774786",
     "status": "completed"
    },
    "tags": []
   },
   "outputs": [
    {
     "name": "stdout",
     "output_type": "stream",
     "text": [
      "Fitting 5 folds for each of 10 candidates, totalling 50 fits\n"
     ]
    },
    {
     "name": "stderr",
     "output_type": "stream",
     "text": [
      "[Parallel(n_jobs=-1)]: Using backend LokyBackend with 4 concurrent workers.\n",
      "[Parallel(n_jobs=-1)]: Done  42 tasks      | elapsed:  8.1min\n",
      "[Parallel(n_jobs=-1)]: Done  50 out of  50 | elapsed:  9.7min finished\n"
     ]
    },
    {
     "name": "stdout",
     "output_type": "stream",
     "text": [
      "XGB\n",
      "Best Score: 0.5142422670010667\n",
      "Best Parameters: {'subsample': 0.55, 'sampling_method': 'uniform', 'reg_lambda': 5, 'reg_alpha': 1, 'n_estimators': 550, 'min_child_weight': 0.01, 'max_depth': None, 'learning_rate': 0.5, 'gamma': 1, 'colsample_bytree': 0.85}\n"
     ]
    }
   ],
   "source": [
    "countvector=CountVectorizer(ngram_range=(1,1),max_features=800)\n",
    "traindataset=countvector.fit_transform(headlines)\n",
    "test_dataset = countvector.transform(test_transform)\n",
    "\n",
    "xgb = XGBClassifier(random_state =1)\n",
    "param_grid = {\n",
    "    'n_estimators': [500,550,600,650],\n",
    "    'colsample_bytree': [0.75,0.8,0.85],\n",
    "    'max_depth': [None],\n",
    "    'reg_alpha': [1],\n",
    "    'reg_lambda': [2, 5, 10],\n",
    "    'subsample': [0.55, 0.6, .65,0.9],\n",
    "    'learning_rate':[0.5],\n",
    "    'gamma':[.5,1,2],\n",
    "    'min_child_weight':[0.01],\n",
    "    'sampling_method': ['uniform']\n",
    "}\n",
    "\n",
    "clf_xgb = RandomizedSearchCV(xgb, param_distributions = param_grid, cv = 5, verbose = True, n_jobs = -1)\n",
    "best_clf_xgb = clf_xgb.fit(pd.DataFrame(traindataset.todense(), columns=countvector.get_feature_names()),train['Label'])\n",
    "performance(best_clf_xgb,'XGB')"
   ]
  },
  {
   "cell_type": "code",
   "execution_count": 21,
   "metadata": {
    "execution": {
     "iopub.execute_input": "2020-10-29T06:07:08.058708Z",
     "iopub.status.busy": "2020-10-29T06:07:08.057832Z",
     "iopub.status.idle": "2020-10-29T06:07:10.643833Z",
     "shell.execute_reply": "2020-10-29T06:07:10.643334Z"
    },
    "papermill": {
     "duration": 2.68342,
     "end_time": "2020-10-29T06:07:10.643970",
     "exception": false,
     "start_time": "2020-10-29T06:07:07.960550",
     "status": "completed"
    },
    "tags": []
   },
   "outputs": [
    {
     "data": {
      "text/plain": [
       "array([1, 0, 0, 1, 1, 0, 0, 0, 0, 0, 1, 1, 1, 1, 0, 1, 0, 0, 1, 0, 1, 1,\n",
       "       1, 1, 0, 0, 1, 0, 1, 1, 1, 0, 0, 1, 0, 1, 1, 0, 0, 1, 0, 0, 1, 0,\n",
       "       1, 0, 0, 1, 0, 1, 0, 1, 0, 1, 0, 0, 0, 0, 1, 1, 0, 0, 1, 1, 0, 1,\n",
       "       1, 1, 0, 1, 1, 0, 0, 1, 0, 1, 1, 1, 0, 1, 0, 0, 1, 1, 0, 0, 1, 1,\n",
       "       0, 0, 0, 1, 1, 1, 1, 0, 1, 0, 0, 1, 0, 0, 1, 0, 1, 0, 0, 0, 0, 1,\n",
       "       1, 0, 0, 1, 1, 1, 0, 1, 1, 0, 0, 1, 0, 1, 1, 0, 0, 1, 0, 1, 1, 1,\n",
       "       1, 0, 1, 0, 1, 0, 0, 0, 0, 0, 1, 1, 0, 0, 0, 0, 0, 0, 0, 1, 0, 0,\n",
       "       1, 1, 1, 0, 0, 0, 0, 0, 0, 1, 1, 0, 0, 0, 1, 1, 0, 1, 0, 1, 1, 0,\n",
       "       1, 1, 0, 0, 1, 0, 0, 0, 1, 0, 1, 1, 0, 1, 1, 1, 1, 1, 1, 1, 0, 0,\n",
       "       1, 1, 1, 0, 0, 1, 1, 0, 0, 1, 0, 0, 1, 1, 0, 0, 1, 0, 1, 0, 0, 0,\n",
       "       1, 1, 1, 0, 1, 0, 1, 1, 0, 0, 1, 0, 0, 1, 0, 0, 0, 1, 0, 1, 1, 1,\n",
       "       0, 0, 1, 1, 1, 0, 0, 1, 0, 0, 1, 1, 0, 0, 0, 0, 1, 1, 1, 1, 1, 1,\n",
       "       1, 1, 1, 0, 1, 1, 1, 1, 1, 1, 1, 1, 0, 0, 1, 1, 1, 0, 1, 1, 1, 1,\n",
       "       1, 1, 1, 1, 0, 1, 0, 0, 1, 1, 1, 0, 1, 0, 1, 1, 0, 0, 1, 1, 0, 1,\n",
       "       1, 0, 0, 0, 1, 1, 1, 1, 1, 1, 1, 1, 1, 0, 1, 1, 1, 1, 0, 1, 1, 0,\n",
       "       1, 1, 1, 1, 0, 1, 1, 0, 1, 1, 1, 1, 0, 0, 1, 1, 1, 1, 0, 1, 0, 0,\n",
       "       1, 0, 1, 1, 0, 1, 0, 1, 1, 1, 1, 1, 1, 1, 1, 1, 1, 1, 1, 1, 1, 1,\n",
       "       0, 0, 0, 1])"
      ]
     },
     "execution_count": 21,
     "metadata": {},
     "output_type": "execute_result"
    }
   ],
   "source": [
    "best_clf_xgb = best_clf_xgb.best_estimator_\n",
    "\n",
    "best_rf.fit(traindataset,train['Label'])\n",
    "predictions = best_rf.predict(pd.DataFrame(test_dataset.todense(), columns=countvector.get_feature_names()))\n",
    "predictions"
   ]
  },
  {
   "cell_type": "code",
   "execution_count": 22,
   "metadata": {
    "execution": {
     "iopub.execute_input": "2020-10-29T06:07:10.778840Z",
     "iopub.status.busy": "2020-10-29T06:07:10.775947Z",
     "iopub.status.idle": "2020-10-29T06:07:10.781200Z",
     "shell.execute_reply": "2020-10-29T06:07:10.781692Z"
    },
    "papermill": {
     "duration": 0.068297,
     "end_time": "2020-10-29T06:07:10.781843",
     "exception": false,
     "start_time": "2020-10-29T06:07:10.713546",
     "status": "completed"
    },
    "tags": []
   },
   "outputs": [
    {
     "name": "stdout",
     "output_type": "stream",
     "text": [
      "score :\n",
      "0.8068783068783069\n",
      "==================================\n",
      "confusion matrix :\n",
      "[[139  47]\n",
      " [ 26 166]]\n"
     ]
    }
   ],
   "source": [
    "score=accuracy_score(test['Label'],predictions)\n",
    "print('score :')\n",
    "print(score)\n",
    "print('==================================')\n",
    "print('confusion matrix :')\n",
    "matrix=confusion_matrix(test['Label'],predictions)\n",
    "print(matrix)"
   ]
  },
  {
   "cell_type": "markdown",
   "metadata": {
    "papermill": {
     "duration": 0.07944,
     "end_time": "2020-10-29T06:07:10.941566",
     "exception": false,
     "start_time": "2020-10-29T06:07:10.862126",
     "status": "completed"
    },
    "tags": []
   },
   "source": [
    "<font color='darkblue'>As you can see above , after using hyperparameters for XGBoost , the accuracy didn't improve </font>"
   ]
  },
  {
   "cell_type": "markdown",
   "metadata": {
    "papermill": {
     "duration": 0.078868,
     "end_time": "2020-10-29T06:07:11.099429",
     "exception": false,
     "start_time": "2020-10-29T06:07:11.020561",
     "status": "completed"
    },
    "tags": []
   },
   "source": [
    "## <font color='darkred'> Conclusion</font>"
   ]
  },
  {
   "cell_type": "markdown",
   "metadata": {
    "papermill": {
     "duration": 0.080355,
     "end_time": "2020-10-29T06:07:11.257723",
     "exception": false,
     "start_time": "2020-10-29T06:07:11.177368",
     "status": "completed"
    },
    "tags": []
   },
   "source": [
    "\n",
    "\n",
    "<font color='darkblue'>After all this analysis we can conclude that the best algorithm which gave good accuracy and less false negetive values is randomforest using hyperparameter tuning\n",
    "\n",
    "If you care about more true positive values and less on false negetive values then the best algorithm for you is XGBOOST without hyperparameter tuning</font>"
   ]
  },
  {
   "cell_type": "code",
   "execution_count": 40,
   "metadata": {
    "execution": {
     "iopub.execute_input": "2020-10-29T06:07:11.422814Z",
     "iopub.status.busy": "2020-10-29T06:07:11.422000Z",
     "iopub.status.idle": "2020-10-29T06:07:11.503994Z",
     "shell.execute_reply": "2020-10-29T06:07:11.503119Z"
    },
    "papermill": {
     "duration": 0.167011,
     "end_time": "2020-10-29T06:07:11.504126",
     "exception": false,
     "start_time": "2020-10-29T06:07:11.337115",
     "status": "completed"
    },
    "tags": []
   },
   "outputs": [
    {
     "data": {
      "text/html": [
       "        <script type=\"text/javascript\">\n",
       "        window.PlotlyConfig = {MathJaxConfig: 'local'};\n",
       "        if (window.MathJax) {MathJax.Hub.Config({SVG: {font: \"STIX-Web\"}});}\n",
       "        if (typeof require !== 'undefined') {\n",
       "        require.undef(\"plotly\");\n",
       "        requirejs.config({\n",
       "            paths: {\n",
       "                'plotly': ['https://cdn.plot.ly/plotly-latest.min']\n",
       "            }\n",
       "        });\n",
       "        require(['plotly'], function(Plotly) {\n",
       "            window._Plotly = Plotly;\n",
       "        });\n",
       "        }\n",
       "        </script>\n",
       "        "
      ]
     },
     "metadata": {},
     "output_type": "display_data"
    }
   ],
   "source": [
    "fin_score = {'randomforest (without hp)':0.859788 , 'randomforest (with hp)':0.851851,\n",
    "             'XGBoost (without hp)':0.8650793,'XGBoost (with hp)':0.806878,'CATBoost(without hpt)':0.83597}\n",
    "import plotly\n",
    "plotly.offline.init_notebook_mode (connected = True)"
   ]
  },
  {
   "cell_type": "code",
   "execution_count": 41,
   "metadata": {
    "execution": {
     "iopub.execute_input": "2020-10-29T06:07:11.747239Z",
     "iopub.status.busy": "2020-10-29T06:07:11.746343Z",
     "iopub.status.idle": "2020-10-29T06:07:12.989513Z",
     "shell.execute_reply": "2020-10-29T06:07:12.988886Z"
    },
    "papermill": {
     "duration": 1.367626,
     "end_time": "2020-10-29T06:07:12.989639",
     "exception": false,
     "start_time": "2020-10-29T06:07:11.622013",
     "status": "completed"
    },
    "scrolled": false,
    "tags": []
   },
   "outputs": [
    {
     "data": {
      "application/vnd.plotly.v1+json": {
       "config": {
        "plotlyServerURL": "https://plot.ly"
       },
       "data": [
        {
         "alignmentgroup": "True",
         "hovertemplate": "Algorithms=%{x}<br>Score=%{y}<extra></extra>",
         "legendgroup": "",
         "marker": {
          "color": "#636efa"
         },
         "name": "",
         "offsetgroup": "",
         "orientation": "v",
         "showlegend": false,
         "textposition": "auto",
         "type": "bar",
         "x": [
          "randomforest (without hp)",
          "randomforest (with hp)",
          "XGBoost (without hp)",
          "XGBoost (with hp)",
          "CATBoost(without hpt)"
         ],
         "xaxis": "x",
         "y": [
          0.859788,
          0.851851,
          0.8650793,
          0.806878,
          0.83597
         ],
         "yaxis": "y"
        }
       ],
       "layout": {
        "barmode": "relative",
        "legend": {
         "tracegroupgap": 0
        },
        "template": {
         "data": {
          "bar": [
           {
            "error_x": {
             "color": "#2a3f5f"
            },
            "error_y": {
             "color": "#2a3f5f"
            },
            "marker": {
             "line": {
              "color": "#E5ECF6",
              "width": 0.5
             }
            },
            "type": "bar"
           }
          ],
          "barpolar": [
           {
            "marker": {
             "line": {
              "color": "#E5ECF6",
              "width": 0.5
             }
            },
            "type": "barpolar"
           }
          ],
          "carpet": [
           {
            "aaxis": {
             "endlinecolor": "#2a3f5f",
             "gridcolor": "white",
             "linecolor": "white",
             "minorgridcolor": "white",
             "startlinecolor": "#2a3f5f"
            },
            "baxis": {
             "endlinecolor": "#2a3f5f",
             "gridcolor": "white",
             "linecolor": "white",
             "minorgridcolor": "white",
             "startlinecolor": "#2a3f5f"
            },
            "type": "carpet"
           }
          ],
          "choropleth": [
           {
            "colorbar": {
             "outlinewidth": 0,
             "ticks": ""
            },
            "type": "choropleth"
           }
          ],
          "contour": [
           {
            "colorbar": {
             "outlinewidth": 0,
             "ticks": ""
            },
            "colorscale": [
             [
              0,
              "#0d0887"
             ],
             [
              0.1111111111111111,
              "#46039f"
             ],
             [
              0.2222222222222222,
              "#7201a8"
             ],
             [
              0.3333333333333333,
              "#9c179e"
             ],
             [
              0.4444444444444444,
              "#bd3786"
             ],
             [
              0.5555555555555556,
              "#d8576b"
             ],
             [
              0.6666666666666666,
              "#ed7953"
             ],
             [
              0.7777777777777778,
              "#fb9f3a"
             ],
             [
              0.8888888888888888,
              "#fdca26"
             ],
             [
              1,
              "#f0f921"
             ]
            ],
            "type": "contour"
           }
          ],
          "contourcarpet": [
           {
            "colorbar": {
             "outlinewidth": 0,
             "ticks": ""
            },
            "type": "contourcarpet"
           }
          ],
          "heatmap": [
           {
            "colorbar": {
             "outlinewidth": 0,
             "ticks": ""
            },
            "colorscale": [
             [
              0,
              "#0d0887"
             ],
             [
              0.1111111111111111,
              "#46039f"
             ],
             [
              0.2222222222222222,
              "#7201a8"
             ],
             [
              0.3333333333333333,
              "#9c179e"
             ],
             [
              0.4444444444444444,
              "#bd3786"
             ],
             [
              0.5555555555555556,
              "#d8576b"
             ],
             [
              0.6666666666666666,
              "#ed7953"
             ],
             [
              0.7777777777777778,
              "#fb9f3a"
             ],
             [
              0.8888888888888888,
              "#fdca26"
             ],
             [
              1,
              "#f0f921"
             ]
            ],
            "type": "heatmap"
           }
          ],
          "heatmapgl": [
           {
            "colorbar": {
             "outlinewidth": 0,
             "ticks": ""
            },
            "colorscale": [
             [
              0,
              "#0d0887"
             ],
             [
              0.1111111111111111,
              "#46039f"
             ],
             [
              0.2222222222222222,
              "#7201a8"
             ],
             [
              0.3333333333333333,
              "#9c179e"
             ],
             [
              0.4444444444444444,
              "#bd3786"
             ],
             [
              0.5555555555555556,
              "#d8576b"
             ],
             [
              0.6666666666666666,
              "#ed7953"
             ],
             [
              0.7777777777777778,
              "#fb9f3a"
             ],
             [
              0.8888888888888888,
              "#fdca26"
             ],
             [
              1,
              "#f0f921"
             ]
            ],
            "type": "heatmapgl"
           }
          ],
          "histogram": [
           {
            "marker": {
             "colorbar": {
              "outlinewidth": 0,
              "ticks": ""
             }
            },
            "type": "histogram"
           }
          ],
          "histogram2d": [
           {
            "colorbar": {
             "outlinewidth": 0,
             "ticks": ""
            },
            "colorscale": [
             [
              0,
              "#0d0887"
             ],
             [
              0.1111111111111111,
              "#46039f"
             ],
             [
              0.2222222222222222,
              "#7201a8"
             ],
             [
              0.3333333333333333,
              "#9c179e"
             ],
             [
              0.4444444444444444,
              "#bd3786"
             ],
             [
              0.5555555555555556,
              "#d8576b"
             ],
             [
              0.6666666666666666,
              "#ed7953"
             ],
             [
              0.7777777777777778,
              "#fb9f3a"
             ],
             [
              0.8888888888888888,
              "#fdca26"
             ],
             [
              1,
              "#f0f921"
             ]
            ],
            "type": "histogram2d"
           }
          ],
          "histogram2dcontour": [
           {
            "colorbar": {
             "outlinewidth": 0,
             "ticks": ""
            },
            "colorscale": [
             [
              0,
              "#0d0887"
             ],
             [
              0.1111111111111111,
              "#46039f"
             ],
             [
              0.2222222222222222,
              "#7201a8"
             ],
             [
              0.3333333333333333,
              "#9c179e"
             ],
             [
              0.4444444444444444,
              "#bd3786"
             ],
             [
              0.5555555555555556,
              "#d8576b"
             ],
             [
              0.6666666666666666,
              "#ed7953"
             ],
             [
              0.7777777777777778,
              "#fb9f3a"
             ],
             [
              0.8888888888888888,
              "#fdca26"
             ],
             [
              1,
              "#f0f921"
             ]
            ],
            "type": "histogram2dcontour"
           }
          ],
          "mesh3d": [
           {
            "colorbar": {
             "outlinewidth": 0,
             "ticks": ""
            },
            "type": "mesh3d"
           }
          ],
          "parcoords": [
           {
            "line": {
             "colorbar": {
              "outlinewidth": 0,
              "ticks": ""
             }
            },
            "type": "parcoords"
           }
          ],
          "pie": [
           {
            "automargin": true,
            "type": "pie"
           }
          ],
          "scatter": [
           {
            "marker": {
             "colorbar": {
              "outlinewidth": 0,
              "ticks": ""
             }
            },
            "type": "scatter"
           }
          ],
          "scatter3d": [
           {
            "line": {
             "colorbar": {
              "outlinewidth": 0,
              "ticks": ""
             }
            },
            "marker": {
             "colorbar": {
              "outlinewidth": 0,
              "ticks": ""
             }
            },
            "type": "scatter3d"
           }
          ],
          "scattercarpet": [
           {
            "marker": {
             "colorbar": {
              "outlinewidth": 0,
              "ticks": ""
             }
            },
            "type": "scattercarpet"
           }
          ],
          "scattergeo": [
           {
            "marker": {
             "colorbar": {
              "outlinewidth": 0,
              "ticks": ""
             }
            },
            "type": "scattergeo"
           }
          ],
          "scattergl": [
           {
            "marker": {
             "colorbar": {
              "outlinewidth": 0,
              "ticks": ""
             }
            },
            "type": "scattergl"
           }
          ],
          "scattermapbox": [
           {
            "marker": {
             "colorbar": {
              "outlinewidth": 0,
              "ticks": ""
             }
            },
            "type": "scattermapbox"
           }
          ],
          "scatterpolar": [
           {
            "marker": {
             "colorbar": {
              "outlinewidth": 0,
              "ticks": ""
             }
            },
            "type": "scatterpolar"
           }
          ],
          "scatterpolargl": [
           {
            "marker": {
             "colorbar": {
              "outlinewidth": 0,
              "ticks": ""
             }
            },
            "type": "scatterpolargl"
           }
          ],
          "scatterternary": [
           {
            "marker": {
             "colorbar": {
              "outlinewidth": 0,
              "ticks": ""
             }
            },
            "type": "scatterternary"
           }
          ],
          "surface": [
           {
            "colorbar": {
             "outlinewidth": 0,
             "ticks": ""
            },
            "colorscale": [
             [
              0,
              "#0d0887"
             ],
             [
              0.1111111111111111,
              "#46039f"
             ],
             [
              0.2222222222222222,
              "#7201a8"
             ],
             [
              0.3333333333333333,
              "#9c179e"
             ],
             [
              0.4444444444444444,
              "#bd3786"
             ],
             [
              0.5555555555555556,
              "#d8576b"
             ],
             [
              0.6666666666666666,
              "#ed7953"
             ],
             [
              0.7777777777777778,
              "#fb9f3a"
             ],
             [
              0.8888888888888888,
              "#fdca26"
             ],
             [
              1,
              "#f0f921"
             ]
            ],
            "type": "surface"
           }
          ],
          "table": [
           {
            "cells": {
             "fill": {
              "color": "#EBF0F8"
             },
             "line": {
              "color": "white"
             }
            },
            "header": {
             "fill": {
              "color": "#C8D4E3"
             },
             "line": {
              "color": "white"
             }
            },
            "type": "table"
           }
          ]
         },
         "layout": {
          "annotationdefaults": {
           "arrowcolor": "#2a3f5f",
           "arrowhead": 0,
           "arrowwidth": 1
          },
          "coloraxis": {
           "colorbar": {
            "outlinewidth": 0,
            "ticks": ""
           }
          },
          "colorscale": {
           "diverging": [
            [
             0,
             "#8e0152"
            ],
            [
             0.1,
             "#c51b7d"
            ],
            [
             0.2,
             "#de77ae"
            ],
            [
             0.3,
             "#f1b6da"
            ],
            [
             0.4,
             "#fde0ef"
            ],
            [
             0.5,
             "#f7f7f7"
            ],
            [
             0.6,
             "#e6f5d0"
            ],
            [
             0.7,
             "#b8e186"
            ],
            [
             0.8,
             "#7fbc41"
            ],
            [
             0.9,
             "#4d9221"
            ],
            [
             1,
             "#276419"
            ]
           ],
           "sequential": [
            [
             0,
             "#0d0887"
            ],
            [
             0.1111111111111111,
             "#46039f"
            ],
            [
             0.2222222222222222,
             "#7201a8"
            ],
            [
             0.3333333333333333,
             "#9c179e"
            ],
            [
             0.4444444444444444,
             "#bd3786"
            ],
            [
             0.5555555555555556,
             "#d8576b"
            ],
            [
             0.6666666666666666,
             "#ed7953"
            ],
            [
             0.7777777777777778,
             "#fb9f3a"
            ],
            [
             0.8888888888888888,
             "#fdca26"
            ],
            [
             1,
             "#f0f921"
            ]
           ],
           "sequentialminus": [
            [
             0,
             "#0d0887"
            ],
            [
             0.1111111111111111,
             "#46039f"
            ],
            [
             0.2222222222222222,
             "#7201a8"
            ],
            [
             0.3333333333333333,
             "#9c179e"
            ],
            [
             0.4444444444444444,
             "#bd3786"
            ],
            [
             0.5555555555555556,
             "#d8576b"
            ],
            [
             0.6666666666666666,
             "#ed7953"
            ],
            [
             0.7777777777777778,
             "#fb9f3a"
            ],
            [
             0.8888888888888888,
             "#fdca26"
            ],
            [
             1,
             "#f0f921"
            ]
           ]
          },
          "colorway": [
           "#636efa",
           "#EF553B",
           "#00cc96",
           "#ab63fa",
           "#FFA15A",
           "#19d3f3",
           "#FF6692",
           "#B6E880",
           "#FF97FF",
           "#FECB52"
          ],
          "font": {
           "color": "#2a3f5f"
          },
          "geo": {
           "bgcolor": "white",
           "lakecolor": "white",
           "landcolor": "#E5ECF6",
           "showlakes": true,
           "showland": true,
           "subunitcolor": "white"
          },
          "hoverlabel": {
           "align": "left"
          },
          "hovermode": "closest",
          "mapbox": {
           "style": "light"
          },
          "paper_bgcolor": "white",
          "plot_bgcolor": "#E5ECF6",
          "polar": {
           "angularaxis": {
            "gridcolor": "white",
            "linecolor": "white",
            "ticks": ""
           },
           "bgcolor": "#E5ECF6",
           "radialaxis": {
            "gridcolor": "white",
            "linecolor": "white",
            "ticks": ""
           }
          },
          "scene": {
           "xaxis": {
            "backgroundcolor": "#E5ECF6",
            "gridcolor": "white",
            "gridwidth": 2,
            "linecolor": "white",
            "showbackground": true,
            "ticks": "",
            "zerolinecolor": "white"
           },
           "yaxis": {
            "backgroundcolor": "#E5ECF6",
            "gridcolor": "white",
            "gridwidth": 2,
            "linecolor": "white",
            "showbackground": true,
            "ticks": "",
            "zerolinecolor": "white"
           },
           "zaxis": {
            "backgroundcolor": "#E5ECF6",
            "gridcolor": "white",
            "gridwidth": 2,
            "linecolor": "white",
            "showbackground": true,
            "ticks": "",
            "zerolinecolor": "white"
           }
          },
          "shapedefaults": {
           "line": {
            "color": "#2a3f5f"
           }
          },
          "ternary": {
           "aaxis": {
            "gridcolor": "white",
            "linecolor": "white",
            "ticks": ""
           },
           "baxis": {
            "gridcolor": "white",
            "linecolor": "white",
            "ticks": ""
           },
           "bgcolor": "#E5ECF6",
           "caxis": {
            "gridcolor": "white",
            "linecolor": "white",
            "ticks": ""
           }
          },
          "title": {
           "x": 0.05
          },
          "xaxis": {
           "automargin": true,
           "gridcolor": "white",
           "linecolor": "white",
           "ticks": "",
           "title": {
            "standoff": 15
           },
           "zerolinecolor": "white",
           "zerolinewidth": 2
          },
          "yaxis": {
           "automargin": true,
           "gridcolor": "white",
           "linecolor": "white",
           "ticks": "",
           "title": {
            "standoff": 15
           },
           "zerolinecolor": "white",
           "zerolinewidth": 2
          }
         }
        },
        "title": {
         "text": "ACCURACY SCORE FOR RF AND XGB (WITH AND WITHOUR HYPERPARAMETERS)"
        },
        "xaxis": {
         "anchor": "y",
         "domain": [
          0,
          1
         ],
         "title": {
          "text": "Algorithms"
         }
        },
        "yaxis": {
         "anchor": "x",
         "domain": [
          0,
          1
         ],
         "title": {
          "text": "Score"
         }
        }
       }
      },
      "text/html": [
       "<div>                            <div id=\"bd7a90f7-744e-48c3-be62-111273e7bf9c\" class=\"plotly-graph-div\" style=\"height:525px; width:100%;\"></div>            <script type=\"text/javascript\">                require([\"plotly\"], function(Plotly) {                    window.PLOTLYENV=window.PLOTLYENV || {};                                    if (document.getElementById(\"bd7a90f7-744e-48c3-be62-111273e7bf9c\")) {                    Plotly.newPlot(                        \"bd7a90f7-744e-48c3-be62-111273e7bf9c\",                        [{\"alignmentgroup\": \"True\", \"hovertemplate\": \"Algorithms=%{x}<br>Score=%{y}<extra></extra>\", \"legendgroup\": \"\", \"marker\": {\"color\": \"#636efa\"}, \"name\": \"\", \"offsetgroup\": \"\", \"orientation\": \"v\", \"showlegend\": false, \"textposition\": \"auto\", \"type\": \"bar\", \"x\": [\"randomforest (without hp)\", \"randomforest (with hp)\", \"XGBoost (without hp)\", \"XGBoost (with hp)\", \"CATBoost(without hpt)\"], \"xaxis\": \"x\", \"y\": [0.859788, 0.851851, 0.8650793, 0.806878, 0.83597], \"yaxis\": \"y\"}],                        {\"barmode\": \"relative\", \"legend\": {\"tracegroupgap\": 0}, \"template\": {\"data\": {\"bar\": [{\"error_x\": {\"color\": \"#2a3f5f\"}, \"error_y\": {\"color\": \"#2a3f5f\"}, \"marker\": {\"line\": {\"color\": \"#E5ECF6\", \"width\": 0.5}}, \"type\": \"bar\"}], \"barpolar\": [{\"marker\": {\"line\": {\"color\": \"#E5ECF6\", \"width\": 0.5}}, \"type\": \"barpolar\"}], \"carpet\": [{\"aaxis\": {\"endlinecolor\": \"#2a3f5f\", \"gridcolor\": \"white\", \"linecolor\": \"white\", \"minorgridcolor\": \"white\", \"startlinecolor\": \"#2a3f5f\"}, \"baxis\": {\"endlinecolor\": \"#2a3f5f\", \"gridcolor\": \"white\", \"linecolor\": \"white\", \"minorgridcolor\": \"white\", \"startlinecolor\": \"#2a3f5f\"}, \"type\": \"carpet\"}], \"choropleth\": [{\"colorbar\": {\"outlinewidth\": 0, \"ticks\": \"\"}, \"type\": \"choropleth\"}], \"contour\": [{\"colorbar\": {\"outlinewidth\": 0, \"ticks\": \"\"}, \"colorscale\": [[0.0, \"#0d0887\"], [0.1111111111111111, \"#46039f\"], [0.2222222222222222, \"#7201a8\"], [0.3333333333333333, \"#9c179e\"], [0.4444444444444444, \"#bd3786\"], [0.5555555555555556, \"#d8576b\"], [0.6666666666666666, \"#ed7953\"], [0.7777777777777778, \"#fb9f3a\"], [0.8888888888888888, \"#fdca26\"], [1.0, \"#f0f921\"]], \"type\": \"contour\"}], \"contourcarpet\": [{\"colorbar\": {\"outlinewidth\": 0, \"ticks\": \"\"}, \"type\": \"contourcarpet\"}], \"heatmap\": [{\"colorbar\": {\"outlinewidth\": 0, \"ticks\": \"\"}, \"colorscale\": [[0.0, \"#0d0887\"], [0.1111111111111111, \"#46039f\"], [0.2222222222222222, \"#7201a8\"], [0.3333333333333333, \"#9c179e\"], [0.4444444444444444, \"#bd3786\"], [0.5555555555555556, \"#d8576b\"], [0.6666666666666666, \"#ed7953\"], [0.7777777777777778, \"#fb9f3a\"], [0.8888888888888888, \"#fdca26\"], [1.0, \"#f0f921\"]], \"type\": \"heatmap\"}], \"heatmapgl\": [{\"colorbar\": {\"outlinewidth\": 0, \"ticks\": \"\"}, \"colorscale\": [[0.0, \"#0d0887\"], [0.1111111111111111, \"#46039f\"], [0.2222222222222222, \"#7201a8\"], [0.3333333333333333, \"#9c179e\"], [0.4444444444444444, \"#bd3786\"], [0.5555555555555556, \"#d8576b\"], [0.6666666666666666, \"#ed7953\"], [0.7777777777777778, \"#fb9f3a\"], [0.8888888888888888, \"#fdca26\"], [1.0, \"#f0f921\"]], \"type\": \"heatmapgl\"}], \"histogram\": [{\"marker\": {\"colorbar\": {\"outlinewidth\": 0, \"ticks\": \"\"}}, \"type\": \"histogram\"}], \"histogram2d\": [{\"colorbar\": {\"outlinewidth\": 0, \"ticks\": \"\"}, \"colorscale\": [[0.0, \"#0d0887\"], [0.1111111111111111, \"#46039f\"], [0.2222222222222222, \"#7201a8\"], [0.3333333333333333, \"#9c179e\"], [0.4444444444444444, \"#bd3786\"], [0.5555555555555556, \"#d8576b\"], [0.6666666666666666, \"#ed7953\"], [0.7777777777777778, \"#fb9f3a\"], [0.8888888888888888, \"#fdca26\"], [1.0, \"#f0f921\"]], \"type\": \"histogram2d\"}], \"histogram2dcontour\": [{\"colorbar\": {\"outlinewidth\": 0, \"ticks\": \"\"}, \"colorscale\": [[0.0, \"#0d0887\"], [0.1111111111111111, \"#46039f\"], [0.2222222222222222, \"#7201a8\"], [0.3333333333333333, \"#9c179e\"], [0.4444444444444444, \"#bd3786\"], [0.5555555555555556, \"#d8576b\"], [0.6666666666666666, \"#ed7953\"], [0.7777777777777778, \"#fb9f3a\"], [0.8888888888888888, \"#fdca26\"], [1.0, \"#f0f921\"]], \"type\": \"histogram2dcontour\"}], \"mesh3d\": [{\"colorbar\": {\"outlinewidth\": 0, \"ticks\": \"\"}, \"type\": \"mesh3d\"}], \"parcoords\": [{\"line\": {\"colorbar\": {\"outlinewidth\": 0, \"ticks\": \"\"}}, \"type\": \"parcoords\"}], \"pie\": [{\"automargin\": true, \"type\": \"pie\"}], \"scatter\": [{\"marker\": {\"colorbar\": {\"outlinewidth\": 0, \"ticks\": \"\"}}, \"type\": \"scatter\"}], \"scatter3d\": [{\"line\": {\"colorbar\": {\"outlinewidth\": 0, \"ticks\": \"\"}}, \"marker\": {\"colorbar\": {\"outlinewidth\": 0, \"ticks\": \"\"}}, \"type\": \"scatter3d\"}], \"scattercarpet\": [{\"marker\": {\"colorbar\": {\"outlinewidth\": 0, \"ticks\": \"\"}}, \"type\": \"scattercarpet\"}], \"scattergeo\": [{\"marker\": {\"colorbar\": {\"outlinewidth\": 0, \"ticks\": \"\"}}, \"type\": \"scattergeo\"}], \"scattergl\": [{\"marker\": {\"colorbar\": {\"outlinewidth\": 0, \"ticks\": \"\"}}, \"type\": \"scattergl\"}], \"scattermapbox\": [{\"marker\": {\"colorbar\": {\"outlinewidth\": 0, \"ticks\": \"\"}}, \"type\": \"scattermapbox\"}], \"scatterpolar\": [{\"marker\": {\"colorbar\": {\"outlinewidth\": 0, \"ticks\": \"\"}}, \"type\": \"scatterpolar\"}], \"scatterpolargl\": [{\"marker\": {\"colorbar\": {\"outlinewidth\": 0, \"ticks\": \"\"}}, \"type\": \"scatterpolargl\"}], \"scatterternary\": [{\"marker\": {\"colorbar\": {\"outlinewidth\": 0, \"ticks\": \"\"}}, \"type\": \"scatterternary\"}], \"surface\": [{\"colorbar\": {\"outlinewidth\": 0, \"ticks\": \"\"}, \"colorscale\": [[0.0, \"#0d0887\"], [0.1111111111111111, \"#46039f\"], [0.2222222222222222, \"#7201a8\"], [0.3333333333333333, \"#9c179e\"], [0.4444444444444444, \"#bd3786\"], [0.5555555555555556, \"#d8576b\"], [0.6666666666666666, \"#ed7953\"], [0.7777777777777778, \"#fb9f3a\"], [0.8888888888888888, \"#fdca26\"], [1.0, \"#f0f921\"]], \"type\": \"surface\"}], \"table\": [{\"cells\": {\"fill\": {\"color\": \"#EBF0F8\"}, \"line\": {\"color\": \"white\"}}, \"header\": {\"fill\": {\"color\": \"#C8D4E3\"}, \"line\": {\"color\": \"white\"}}, \"type\": \"table\"}]}, \"layout\": {\"annotationdefaults\": {\"arrowcolor\": \"#2a3f5f\", \"arrowhead\": 0, \"arrowwidth\": 1}, \"coloraxis\": {\"colorbar\": {\"outlinewidth\": 0, \"ticks\": \"\"}}, \"colorscale\": {\"diverging\": [[0, \"#8e0152\"], [0.1, \"#c51b7d\"], [0.2, \"#de77ae\"], [0.3, \"#f1b6da\"], [0.4, \"#fde0ef\"], [0.5, \"#f7f7f7\"], [0.6, \"#e6f5d0\"], [0.7, \"#b8e186\"], [0.8, \"#7fbc41\"], [0.9, \"#4d9221\"], [1, \"#276419\"]], \"sequential\": [[0.0, \"#0d0887\"], [0.1111111111111111, \"#46039f\"], [0.2222222222222222, \"#7201a8\"], [0.3333333333333333, \"#9c179e\"], [0.4444444444444444, \"#bd3786\"], [0.5555555555555556, \"#d8576b\"], [0.6666666666666666, \"#ed7953\"], [0.7777777777777778, \"#fb9f3a\"], [0.8888888888888888, \"#fdca26\"], [1.0, \"#f0f921\"]], \"sequentialminus\": [[0.0, \"#0d0887\"], [0.1111111111111111, \"#46039f\"], [0.2222222222222222, \"#7201a8\"], [0.3333333333333333, \"#9c179e\"], [0.4444444444444444, \"#bd3786\"], [0.5555555555555556, \"#d8576b\"], [0.6666666666666666, \"#ed7953\"], [0.7777777777777778, \"#fb9f3a\"], [0.8888888888888888, \"#fdca26\"], [1.0, \"#f0f921\"]]}, \"colorway\": [\"#636efa\", \"#EF553B\", \"#00cc96\", \"#ab63fa\", \"#FFA15A\", \"#19d3f3\", \"#FF6692\", \"#B6E880\", \"#FF97FF\", \"#FECB52\"], \"font\": {\"color\": \"#2a3f5f\"}, \"geo\": {\"bgcolor\": \"white\", \"lakecolor\": \"white\", \"landcolor\": \"#E5ECF6\", \"showlakes\": true, \"showland\": true, \"subunitcolor\": \"white\"}, \"hoverlabel\": {\"align\": \"left\"}, \"hovermode\": \"closest\", \"mapbox\": {\"style\": \"light\"}, \"paper_bgcolor\": \"white\", \"plot_bgcolor\": \"#E5ECF6\", \"polar\": {\"angularaxis\": {\"gridcolor\": \"white\", \"linecolor\": \"white\", \"ticks\": \"\"}, \"bgcolor\": \"#E5ECF6\", \"radialaxis\": {\"gridcolor\": \"white\", \"linecolor\": \"white\", \"ticks\": \"\"}}, \"scene\": {\"xaxis\": {\"backgroundcolor\": \"#E5ECF6\", \"gridcolor\": \"white\", \"gridwidth\": 2, \"linecolor\": \"white\", \"showbackground\": true, \"ticks\": \"\", \"zerolinecolor\": \"white\"}, \"yaxis\": {\"backgroundcolor\": \"#E5ECF6\", \"gridcolor\": \"white\", \"gridwidth\": 2, \"linecolor\": \"white\", \"showbackground\": true, \"ticks\": \"\", \"zerolinecolor\": \"white\"}, \"zaxis\": {\"backgroundcolor\": \"#E5ECF6\", \"gridcolor\": \"white\", \"gridwidth\": 2, \"linecolor\": \"white\", \"showbackground\": true, \"ticks\": \"\", \"zerolinecolor\": \"white\"}}, \"shapedefaults\": {\"line\": {\"color\": \"#2a3f5f\"}}, \"ternary\": {\"aaxis\": {\"gridcolor\": \"white\", \"linecolor\": \"white\", \"ticks\": \"\"}, \"baxis\": {\"gridcolor\": \"white\", \"linecolor\": \"white\", \"ticks\": \"\"}, \"bgcolor\": \"#E5ECF6\", \"caxis\": {\"gridcolor\": \"white\", \"linecolor\": \"white\", \"ticks\": \"\"}}, \"title\": {\"x\": 0.05}, \"xaxis\": {\"automargin\": true, \"gridcolor\": \"white\", \"linecolor\": \"white\", \"ticks\": \"\", \"title\": {\"standoff\": 15}, \"zerolinecolor\": \"white\", \"zerolinewidth\": 2}, \"yaxis\": {\"automargin\": true, \"gridcolor\": \"white\", \"linecolor\": \"white\", \"ticks\": \"\", \"title\": {\"standoff\": 15}, \"zerolinecolor\": \"white\", \"zerolinewidth\": 2}}}, \"title\": {\"text\": \"ACCURACY SCORE FOR RF AND XGB (WITH AND WITHOUR HYPERPARAMETERS)\"}, \"xaxis\": {\"anchor\": \"y\", \"domain\": [0.0, 1.0], \"title\": {\"text\": \"Algorithms\"}}, \"yaxis\": {\"anchor\": \"x\", \"domain\": [0.0, 1.0], \"title\": {\"text\": \"Score\"}}},                        {\"responsive\": true}                    ).then(function(){\n",
       "                            \n",
       "var gd = document.getElementById('bd7a90f7-744e-48c3-be62-111273e7bf9c');\n",
       "var x = new MutationObserver(function (mutations, observer) {{\n",
       "        var display = window.getComputedStyle(gd).display;\n",
       "        if (!display || display === 'none') {{\n",
       "            console.log([gd, 'removed!']);\n",
       "            Plotly.purge(gd);\n",
       "            observer.disconnect();\n",
       "        }}\n",
       "}});\n",
       "\n",
       "// Listen for the removal of the full notebook cells\n",
       "var notebookContainer = gd.closest('#notebook-container');\n",
       "if (notebookContainer) {{\n",
       "    x.observe(notebookContainer, {childList: true});\n",
       "}}\n",
       "\n",
       "// Listen for the clearing of the current output cell\n",
       "var outputEl = gd.closest('.output');\n",
       "if (outputEl) {{\n",
       "    x.observe(outputEl, {childList: true});\n",
       "}}\n",
       "\n",
       "                        })                };                });            </script>        </div>"
      ]
     },
     "metadata": {},
     "output_type": "display_data"
    }
   ],
   "source": [
    "px.bar(x = list(fin_score.keys()),y = list(fin_score.values()),title='ACCURACY SCORE FOR RF AND XGB (WITH AND WITHOUR HYPERPARAMETERS)',labels={'x':'Algorithms','y':'Score'})"
   ]
  },
  {
   "cell_type": "code",
   "execution_count": 42,
   "metadata": {
    "execution": {
     "iopub.execute_input": "2020-10-29T06:07:13.172783Z",
     "iopub.status.busy": "2020-10-29T06:07:13.172122Z",
     "iopub.status.idle": "2020-10-29T06:07:13.175126Z",
     "shell.execute_reply": "2020-10-29T06:07:13.174439Z"
    },
    "papermill": {
     "duration": 0.09661,
     "end_time": "2020-10-29T06:07:13.175288",
     "exception": false,
     "start_time": "2020-10-29T06:07:13.078678",
     "status": "completed"
    },
    "tags": []
   },
   "outputs": [],
   "source": [
    "x1 = ['randomforest(without hpt)','randomforest(with hpt)','XGBoost(without hpt)','XGBoost(with hpt)','CATBoost(without hpt)']\n",
    "x1_TP = [135,131,161,139,154]\n",
    "X1_FN = [5,1,26,26,30]"
   ]
  },
  {
   "cell_type": "code",
   "execution_count": 43,
   "metadata": {
    "execution": {
     "iopub.execute_input": "2020-10-29T06:07:13.376183Z",
     "iopub.status.busy": "2020-10-29T06:07:13.375275Z",
     "iopub.status.idle": "2020-10-29T06:07:13.387134Z",
     "shell.execute_reply": "2020-10-29T06:07:13.386538Z"
    },
    "papermill": {
     "duration": 0.120208,
     "end_time": "2020-10-29T06:07:13.387251",
     "exception": false,
     "start_time": "2020-10-29T06:07:13.267043",
     "status": "completed"
    },
    "tags": []
   },
   "outputs": [
    {
     "data": {
      "application/vnd.plotly.v1+json": {
       "config": {
        "plotlyServerURL": "https://plot.ly"
       },
       "data": [
        {
         "name": "TRUE POSITIVE",
         "type": "bar",
         "x": [
          "randomforest(without hpt)",
          "randomforest(with hpt)",
          "XGBoost(without hpt)",
          "XGBoost(with hpt)",
          "CATBoost(without hpt)"
         ],
         "y": [
          135,
          131,
          161,
          139,
          154
         ]
        },
        {
         "name": "FALSE NEGATIVE",
         "type": "bar",
         "x": [
          "randomforest(without hpt)",
          "randomforest(with hpt)",
          "XGBoost(without hpt)",
          "XGBoost(with hpt)",
          "CATBoost(without hpt)"
         ],
         "y": [
          5,
          1,
          26,
          26,
          30
         ]
        }
       ],
       "layout": {
        "barmode": "group",
        "template": {
         "data": {
          "bar": [
           {
            "error_x": {
             "color": "#2a3f5f"
            },
            "error_y": {
             "color": "#2a3f5f"
            },
            "marker": {
             "line": {
              "color": "#E5ECF6",
              "width": 0.5
             }
            },
            "type": "bar"
           }
          ],
          "barpolar": [
           {
            "marker": {
             "line": {
              "color": "#E5ECF6",
              "width": 0.5
             }
            },
            "type": "barpolar"
           }
          ],
          "carpet": [
           {
            "aaxis": {
             "endlinecolor": "#2a3f5f",
             "gridcolor": "white",
             "linecolor": "white",
             "minorgridcolor": "white",
             "startlinecolor": "#2a3f5f"
            },
            "baxis": {
             "endlinecolor": "#2a3f5f",
             "gridcolor": "white",
             "linecolor": "white",
             "minorgridcolor": "white",
             "startlinecolor": "#2a3f5f"
            },
            "type": "carpet"
           }
          ],
          "choropleth": [
           {
            "colorbar": {
             "outlinewidth": 0,
             "ticks": ""
            },
            "type": "choropleth"
           }
          ],
          "contour": [
           {
            "colorbar": {
             "outlinewidth": 0,
             "ticks": ""
            },
            "colorscale": [
             [
              0,
              "#0d0887"
             ],
             [
              0.1111111111111111,
              "#46039f"
             ],
             [
              0.2222222222222222,
              "#7201a8"
             ],
             [
              0.3333333333333333,
              "#9c179e"
             ],
             [
              0.4444444444444444,
              "#bd3786"
             ],
             [
              0.5555555555555556,
              "#d8576b"
             ],
             [
              0.6666666666666666,
              "#ed7953"
             ],
             [
              0.7777777777777778,
              "#fb9f3a"
             ],
             [
              0.8888888888888888,
              "#fdca26"
             ],
             [
              1,
              "#f0f921"
             ]
            ],
            "type": "contour"
           }
          ],
          "contourcarpet": [
           {
            "colorbar": {
             "outlinewidth": 0,
             "ticks": ""
            },
            "type": "contourcarpet"
           }
          ],
          "heatmap": [
           {
            "colorbar": {
             "outlinewidth": 0,
             "ticks": ""
            },
            "colorscale": [
             [
              0,
              "#0d0887"
             ],
             [
              0.1111111111111111,
              "#46039f"
             ],
             [
              0.2222222222222222,
              "#7201a8"
             ],
             [
              0.3333333333333333,
              "#9c179e"
             ],
             [
              0.4444444444444444,
              "#bd3786"
             ],
             [
              0.5555555555555556,
              "#d8576b"
             ],
             [
              0.6666666666666666,
              "#ed7953"
             ],
             [
              0.7777777777777778,
              "#fb9f3a"
             ],
             [
              0.8888888888888888,
              "#fdca26"
             ],
             [
              1,
              "#f0f921"
             ]
            ],
            "type": "heatmap"
           }
          ],
          "heatmapgl": [
           {
            "colorbar": {
             "outlinewidth": 0,
             "ticks": ""
            },
            "colorscale": [
             [
              0,
              "#0d0887"
             ],
             [
              0.1111111111111111,
              "#46039f"
             ],
             [
              0.2222222222222222,
              "#7201a8"
             ],
             [
              0.3333333333333333,
              "#9c179e"
             ],
             [
              0.4444444444444444,
              "#bd3786"
             ],
             [
              0.5555555555555556,
              "#d8576b"
             ],
             [
              0.6666666666666666,
              "#ed7953"
             ],
             [
              0.7777777777777778,
              "#fb9f3a"
             ],
             [
              0.8888888888888888,
              "#fdca26"
             ],
             [
              1,
              "#f0f921"
             ]
            ],
            "type": "heatmapgl"
           }
          ],
          "histogram": [
           {
            "marker": {
             "colorbar": {
              "outlinewidth": 0,
              "ticks": ""
             }
            },
            "type": "histogram"
           }
          ],
          "histogram2d": [
           {
            "colorbar": {
             "outlinewidth": 0,
             "ticks": ""
            },
            "colorscale": [
             [
              0,
              "#0d0887"
             ],
             [
              0.1111111111111111,
              "#46039f"
             ],
             [
              0.2222222222222222,
              "#7201a8"
             ],
             [
              0.3333333333333333,
              "#9c179e"
             ],
             [
              0.4444444444444444,
              "#bd3786"
             ],
             [
              0.5555555555555556,
              "#d8576b"
             ],
             [
              0.6666666666666666,
              "#ed7953"
             ],
             [
              0.7777777777777778,
              "#fb9f3a"
             ],
             [
              0.8888888888888888,
              "#fdca26"
             ],
             [
              1,
              "#f0f921"
             ]
            ],
            "type": "histogram2d"
           }
          ],
          "histogram2dcontour": [
           {
            "colorbar": {
             "outlinewidth": 0,
             "ticks": ""
            },
            "colorscale": [
             [
              0,
              "#0d0887"
             ],
             [
              0.1111111111111111,
              "#46039f"
             ],
             [
              0.2222222222222222,
              "#7201a8"
             ],
             [
              0.3333333333333333,
              "#9c179e"
             ],
             [
              0.4444444444444444,
              "#bd3786"
             ],
             [
              0.5555555555555556,
              "#d8576b"
             ],
             [
              0.6666666666666666,
              "#ed7953"
             ],
             [
              0.7777777777777778,
              "#fb9f3a"
             ],
             [
              0.8888888888888888,
              "#fdca26"
             ],
             [
              1,
              "#f0f921"
             ]
            ],
            "type": "histogram2dcontour"
           }
          ],
          "mesh3d": [
           {
            "colorbar": {
             "outlinewidth": 0,
             "ticks": ""
            },
            "type": "mesh3d"
           }
          ],
          "parcoords": [
           {
            "line": {
             "colorbar": {
              "outlinewidth": 0,
              "ticks": ""
             }
            },
            "type": "parcoords"
           }
          ],
          "pie": [
           {
            "automargin": true,
            "type": "pie"
           }
          ],
          "scatter": [
           {
            "marker": {
             "colorbar": {
              "outlinewidth": 0,
              "ticks": ""
             }
            },
            "type": "scatter"
           }
          ],
          "scatter3d": [
           {
            "line": {
             "colorbar": {
              "outlinewidth": 0,
              "ticks": ""
             }
            },
            "marker": {
             "colorbar": {
              "outlinewidth": 0,
              "ticks": ""
             }
            },
            "type": "scatter3d"
           }
          ],
          "scattercarpet": [
           {
            "marker": {
             "colorbar": {
              "outlinewidth": 0,
              "ticks": ""
             }
            },
            "type": "scattercarpet"
           }
          ],
          "scattergeo": [
           {
            "marker": {
             "colorbar": {
              "outlinewidth": 0,
              "ticks": ""
             }
            },
            "type": "scattergeo"
           }
          ],
          "scattergl": [
           {
            "marker": {
             "colorbar": {
              "outlinewidth": 0,
              "ticks": ""
             }
            },
            "type": "scattergl"
           }
          ],
          "scattermapbox": [
           {
            "marker": {
             "colorbar": {
              "outlinewidth": 0,
              "ticks": ""
             }
            },
            "type": "scattermapbox"
           }
          ],
          "scatterpolar": [
           {
            "marker": {
             "colorbar": {
              "outlinewidth": 0,
              "ticks": ""
             }
            },
            "type": "scatterpolar"
           }
          ],
          "scatterpolargl": [
           {
            "marker": {
             "colorbar": {
              "outlinewidth": 0,
              "ticks": ""
             }
            },
            "type": "scatterpolargl"
           }
          ],
          "scatterternary": [
           {
            "marker": {
             "colorbar": {
              "outlinewidth": 0,
              "ticks": ""
             }
            },
            "type": "scatterternary"
           }
          ],
          "surface": [
           {
            "colorbar": {
             "outlinewidth": 0,
             "ticks": ""
            },
            "colorscale": [
             [
              0,
              "#0d0887"
             ],
             [
              0.1111111111111111,
              "#46039f"
             ],
             [
              0.2222222222222222,
              "#7201a8"
             ],
             [
              0.3333333333333333,
              "#9c179e"
             ],
             [
              0.4444444444444444,
              "#bd3786"
             ],
             [
              0.5555555555555556,
              "#d8576b"
             ],
             [
              0.6666666666666666,
              "#ed7953"
             ],
             [
              0.7777777777777778,
              "#fb9f3a"
             ],
             [
              0.8888888888888888,
              "#fdca26"
             ],
             [
              1,
              "#f0f921"
             ]
            ],
            "type": "surface"
           }
          ],
          "table": [
           {
            "cells": {
             "fill": {
              "color": "#EBF0F8"
             },
             "line": {
              "color": "white"
             }
            },
            "header": {
             "fill": {
              "color": "#C8D4E3"
             },
             "line": {
              "color": "white"
             }
            },
            "type": "table"
           }
          ]
         },
         "layout": {
          "annotationdefaults": {
           "arrowcolor": "#2a3f5f",
           "arrowhead": 0,
           "arrowwidth": 1
          },
          "coloraxis": {
           "colorbar": {
            "outlinewidth": 0,
            "ticks": ""
           }
          },
          "colorscale": {
           "diverging": [
            [
             0,
             "#8e0152"
            ],
            [
             0.1,
             "#c51b7d"
            ],
            [
             0.2,
             "#de77ae"
            ],
            [
             0.3,
             "#f1b6da"
            ],
            [
             0.4,
             "#fde0ef"
            ],
            [
             0.5,
             "#f7f7f7"
            ],
            [
             0.6,
             "#e6f5d0"
            ],
            [
             0.7,
             "#b8e186"
            ],
            [
             0.8,
             "#7fbc41"
            ],
            [
             0.9,
             "#4d9221"
            ],
            [
             1,
             "#276419"
            ]
           ],
           "sequential": [
            [
             0,
             "#0d0887"
            ],
            [
             0.1111111111111111,
             "#46039f"
            ],
            [
             0.2222222222222222,
             "#7201a8"
            ],
            [
             0.3333333333333333,
             "#9c179e"
            ],
            [
             0.4444444444444444,
             "#bd3786"
            ],
            [
             0.5555555555555556,
             "#d8576b"
            ],
            [
             0.6666666666666666,
             "#ed7953"
            ],
            [
             0.7777777777777778,
             "#fb9f3a"
            ],
            [
             0.8888888888888888,
             "#fdca26"
            ],
            [
             1,
             "#f0f921"
            ]
           ],
           "sequentialminus": [
            [
             0,
             "#0d0887"
            ],
            [
             0.1111111111111111,
             "#46039f"
            ],
            [
             0.2222222222222222,
             "#7201a8"
            ],
            [
             0.3333333333333333,
             "#9c179e"
            ],
            [
             0.4444444444444444,
             "#bd3786"
            ],
            [
             0.5555555555555556,
             "#d8576b"
            ],
            [
             0.6666666666666666,
             "#ed7953"
            ],
            [
             0.7777777777777778,
             "#fb9f3a"
            ],
            [
             0.8888888888888888,
             "#fdca26"
            ],
            [
             1,
             "#f0f921"
            ]
           ]
          },
          "colorway": [
           "#636efa",
           "#EF553B",
           "#00cc96",
           "#ab63fa",
           "#FFA15A",
           "#19d3f3",
           "#FF6692",
           "#B6E880",
           "#FF97FF",
           "#FECB52"
          ],
          "font": {
           "color": "#2a3f5f"
          },
          "geo": {
           "bgcolor": "white",
           "lakecolor": "white",
           "landcolor": "#E5ECF6",
           "showlakes": true,
           "showland": true,
           "subunitcolor": "white"
          },
          "hoverlabel": {
           "align": "left"
          },
          "hovermode": "closest",
          "mapbox": {
           "style": "light"
          },
          "paper_bgcolor": "white",
          "plot_bgcolor": "#E5ECF6",
          "polar": {
           "angularaxis": {
            "gridcolor": "white",
            "linecolor": "white",
            "ticks": ""
           },
           "bgcolor": "#E5ECF6",
           "radialaxis": {
            "gridcolor": "white",
            "linecolor": "white",
            "ticks": ""
           }
          },
          "scene": {
           "xaxis": {
            "backgroundcolor": "#E5ECF6",
            "gridcolor": "white",
            "gridwidth": 2,
            "linecolor": "white",
            "showbackground": true,
            "ticks": "",
            "zerolinecolor": "white"
           },
           "yaxis": {
            "backgroundcolor": "#E5ECF6",
            "gridcolor": "white",
            "gridwidth": 2,
            "linecolor": "white",
            "showbackground": true,
            "ticks": "",
            "zerolinecolor": "white"
           },
           "zaxis": {
            "backgroundcolor": "#E5ECF6",
            "gridcolor": "white",
            "gridwidth": 2,
            "linecolor": "white",
            "showbackground": true,
            "ticks": "",
            "zerolinecolor": "white"
           }
          },
          "shapedefaults": {
           "line": {
            "color": "#2a3f5f"
           }
          },
          "ternary": {
           "aaxis": {
            "gridcolor": "white",
            "linecolor": "white",
            "ticks": ""
           },
           "baxis": {
            "gridcolor": "white",
            "linecolor": "white",
            "ticks": ""
           },
           "bgcolor": "#E5ECF6",
           "caxis": {
            "gridcolor": "white",
            "linecolor": "white",
            "ticks": ""
           }
          },
          "title": {
           "x": 0.05
          },
          "xaxis": {
           "automargin": true,
           "gridcolor": "white",
           "linecolor": "white",
           "ticks": "",
           "title": {
            "standoff": 15
           },
           "zerolinecolor": "white",
           "zerolinewidth": 2
          },
          "yaxis": {
           "automargin": true,
           "gridcolor": "white",
           "linecolor": "white",
           "ticks": "",
           "title": {
            "standoff": 15
           },
           "zerolinecolor": "white",
           "zerolinewidth": 2
          }
         }
        }
       }
      },
      "text/html": [
       "<div>                            <div id=\"a5fa5d92-77a5-4ed2-8c45-2e244847b1ef\" class=\"plotly-graph-div\" style=\"height:525px; width:100%;\"></div>            <script type=\"text/javascript\">                require([\"plotly\"], function(Plotly) {                    window.PLOTLYENV=window.PLOTLYENV || {};                                    if (document.getElementById(\"a5fa5d92-77a5-4ed2-8c45-2e244847b1ef\")) {                    Plotly.newPlot(                        \"a5fa5d92-77a5-4ed2-8c45-2e244847b1ef\",                        [{\"name\": \"TRUE POSITIVE\", \"type\": \"bar\", \"x\": [\"randomforest(without hpt)\", \"randomforest(with hpt)\", \"XGBoost(without hpt)\", \"XGBoost(with hpt)\", \"CATBoost(without hpt)\"], \"y\": [135, 131, 161, 139, 154]}, {\"name\": \"FALSE NEGATIVE\", \"type\": \"bar\", \"x\": [\"randomforest(without hpt)\", \"randomforest(with hpt)\", \"XGBoost(without hpt)\", \"XGBoost(with hpt)\", \"CATBoost(without hpt)\"], \"y\": [5, 1, 26, 26, 30]}],                        {\"barmode\": \"group\", \"template\": {\"data\": {\"bar\": [{\"error_x\": {\"color\": \"#2a3f5f\"}, \"error_y\": {\"color\": \"#2a3f5f\"}, \"marker\": {\"line\": {\"color\": \"#E5ECF6\", \"width\": 0.5}}, \"type\": \"bar\"}], \"barpolar\": [{\"marker\": {\"line\": {\"color\": \"#E5ECF6\", \"width\": 0.5}}, \"type\": \"barpolar\"}], \"carpet\": [{\"aaxis\": {\"endlinecolor\": \"#2a3f5f\", \"gridcolor\": \"white\", \"linecolor\": \"white\", \"minorgridcolor\": \"white\", \"startlinecolor\": \"#2a3f5f\"}, \"baxis\": {\"endlinecolor\": \"#2a3f5f\", \"gridcolor\": \"white\", \"linecolor\": \"white\", \"minorgridcolor\": \"white\", \"startlinecolor\": \"#2a3f5f\"}, \"type\": \"carpet\"}], \"choropleth\": [{\"colorbar\": {\"outlinewidth\": 0, \"ticks\": \"\"}, \"type\": \"choropleth\"}], \"contour\": [{\"colorbar\": {\"outlinewidth\": 0, \"ticks\": \"\"}, \"colorscale\": [[0.0, \"#0d0887\"], [0.1111111111111111, \"#46039f\"], [0.2222222222222222, \"#7201a8\"], [0.3333333333333333, \"#9c179e\"], [0.4444444444444444, \"#bd3786\"], [0.5555555555555556, \"#d8576b\"], [0.6666666666666666, \"#ed7953\"], [0.7777777777777778, \"#fb9f3a\"], [0.8888888888888888, \"#fdca26\"], [1.0, \"#f0f921\"]], \"type\": \"contour\"}], \"contourcarpet\": [{\"colorbar\": {\"outlinewidth\": 0, \"ticks\": \"\"}, \"type\": \"contourcarpet\"}], \"heatmap\": [{\"colorbar\": {\"outlinewidth\": 0, \"ticks\": \"\"}, \"colorscale\": [[0.0, \"#0d0887\"], [0.1111111111111111, \"#46039f\"], [0.2222222222222222, \"#7201a8\"], [0.3333333333333333, \"#9c179e\"], [0.4444444444444444, \"#bd3786\"], [0.5555555555555556, \"#d8576b\"], [0.6666666666666666, \"#ed7953\"], [0.7777777777777778, \"#fb9f3a\"], [0.8888888888888888, \"#fdca26\"], [1.0, \"#f0f921\"]], \"type\": \"heatmap\"}], \"heatmapgl\": [{\"colorbar\": {\"outlinewidth\": 0, \"ticks\": \"\"}, \"colorscale\": [[0.0, \"#0d0887\"], [0.1111111111111111, \"#46039f\"], [0.2222222222222222, \"#7201a8\"], [0.3333333333333333, \"#9c179e\"], [0.4444444444444444, \"#bd3786\"], [0.5555555555555556, \"#d8576b\"], [0.6666666666666666, \"#ed7953\"], [0.7777777777777778, \"#fb9f3a\"], [0.8888888888888888, \"#fdca26\"], [1.0, \"#f0f921\"]], \"type\": \"heatmapgl\"}], \"histogram\": [{\"marker\": {\"colorbar\": {\"outlinewidth\": 0, \"ticks\": \"\"}}, \"type\": \"histogram\"}], \"histogram2d\": [{\"colorbar\": {\"outlinewidth\": 0, \"ticks\": \"\"}, \"colorscale\": [[0.0, \"#0d0887\"], [0.1111111111111111, \"#46039f\"], [0.2222222222222222, \"#7201a8\"], [0.3333333333333333, \"#9c179e\"], [0.4444444444444444, \"#bd3786\"], [0.5555555555555556, \"#d8576b\"], [0.6666666666666666, \"#ed7953\"], [0.7777777777777778, \"#fb9f3a\"], [0.8888888888888888, \"#fdca26\"], [1.0, \"#f0f921\"]], \"type\": \"histogram2d\"}], \"histogram2dcontour\": [{\"colorbar\": {\"outlinewidth\": 0, \"ticks\": \"\"}, \"colorscale\": [[0.0, \"#0d0887\"], [0.1111111111111111, \"#46039f\"], [0.2222222222222222, \"#7201a8\"], [0.3333333333333333, \"#9c179e\"], [0.4444444444444444, \"#bd3786\"], [0.5555555555555556, \"#d8576b\"], [0.6666666666666666, \"#ed7953\"], [0.7777777777777778, \"#fb9f3a\"], [0.8888888888888888, \"#fdca26\"], [1.0, \"#f0f921\"]], \"type\": \"histogram2dcontour\"}], \"mesh3d\": [{\"colorbar\": {\"outlinewidth\": 0, \"ticks\": \"\"}, \"type\": \"mesh3d\"}], \"parcoords\": [{\"line\": {\"colorbar\": {\"outlinewidth\": 0, \"ticks\": \"\"}}, \"type\": \"parcoords\"}], \"pie\": [{\"automargin\": true, \"type\": \"pie\"}], \"scatter\": [{\"marker\": {\"colorbar\": {\"outlinewidth\": 0, \"ticks\": \"\"}}, \"type\": \"scatter\"}], \"scatter3d\": [{\"line\": {\"colorbar\": {\"outlinewidth\": 0, \"ticks\": \"\"}}, \"marker\": {\"colorbar\": {\"outlinewidth\": 0, \"ticks\": \"\"}}, \"type\": \"scatter3d\"}], \"scattercarpet\": [{\"marker\": {\"colorbar\": {\"outlinewidth\": 0, \"ticks\": \"\"}}, \"type\": \"scattercarpet\"}], \"scattergeo\": [{\"marker\": {\"colorbar\": {\"outlinewidth\": 0, \"ticks\": \"\"}}, \"type\": \"scattergeo\"}], \"scattergl\": [{\"marker\": {\"colorbar\": {\"outlinewidth\": 0, \"ticks\": \"\"}}, \"type\": \"scattergl\"}], \"scattermapbox\": [{\"marker\": {\"colorbar\": {\"outlinewidth\": 0, \"ticks\": \"\"}}, \"type\": \"scattermapbox\"}], \"scatterpolar\": [{\"marker\": {\"colorbar\": {\"outlinewidth\": 0, \"ticks\": \"\"}}, \"type\": \"scatterpolar\"}], \"scatterpolargl\": [{\"marker\": {\"colorbar\": {\"outlinewidth\": 0, \"ticks\": \"\"}}, \"type\": \"scatterpolargl\"}], \"scatterternary\": [{\"marker\": {\"colorbar\": {\"outlinewidth\": 0, \"ticks\": \"\"}}, \"type\": \"scatterternary\"}], \"surface\": [{\"colorbar\": {\"outlinewidth\": 0, \"ticks\": \"\"}, \"colorscale\": [[0.0, \"#0d0887\"], [0.1111111111111111, \"#46039f\"], [0.2222222222222222, \"#7201a8\"], [0.3333333333333333, \"#9c179e\"], [0.4444444444444444, \"#bd3786\"], [0.5555555555555556, \"#d8576b\"], [0.6666666666666666, \"#ed7953\"], [0.7777777777777778, \"#fb9f3a\"], [0.8888888888888888, \"#fdca26\"], [1.0, \"#f0f921\"]], \"type\": \"surface\"}], \"table\": [{\"cells\": {\"fill\": {\"color\": \"#EBF0F8\"}, \"line\": {\"color\": \"white\"}}, \"header\": {\"fill\": {\"color\": \"#C8D4E3\"}, \"line\": {\"color\": \"white\"}}, \"type\": \"table\"}]}, \"layout\": {\"annotationdefaults\": {\"arrowcolor\": \"#2a3f5f\", \"arrowhead\": 0, \"arrowwidth\": 1}, \"coloraxis\": {\"colorbar\": {\"outlinewidth\": 0, \"ticks\": \"\"}}, \"colorscale\": {\"diverging\": [[0, \"#8e0152\"], [0.1, \"#c51b7d\"], [0.2, \"#de77ae\"], [0.3, \"#f1b6da\"], [0.4, \"#fde0ef\"], [0.5, \"#f7f7f7\"], [0.6, \"#e6f5d0\"], [0.7, \"#b8e186\"], [0.8, \"#7fbc41\"], [0.9, \"#4d9221\"], [1, \"#276419\"]], \"sequential\": [[0.0, \"#0d0887\"], [0.1111111111111111, \"#46039f\"], [0.2222222222222222, \"#7201a8\"], [0.3333333333333333, \"#9c179e\"], [0.4444444444444444, \"#bd3786\"], [0.5555555555555556, \"#d8576b\"], [0.6666666666666666, \"#ed7953\"], [0.7777777777777778, \"#fb9f3a\"], [0.8888888888888888, \"#fdca26\"], [1.0, \"#f0f921\"]], \"sequentialminus\": [[0.0, \"#0d0887\"], [0.1111111111111111, \"#46039f\"], [0.2222222222222222, \"#7201a8\"], [0.3333333333333333, \"#9c179e\"], [0.4444444444444444, \"#bd3786\"], [0.5555555555555556, \"#d8576b\"], [0.6666666666666666, \"#ed7953\"], [0.7777777777777778, \"#fb9f3a\"], [0.8888888888888888, \"#fdca26\"], [1.0, \"#f0f921\"]]}, \"colorway\": [\"#636efa\", \"#EF553B\", \"#00cc96\", \"#ab63fa\", \"#FFA15A\", \"#19d3f3\", \"#FF6692\", \"#B6E880\", \"#FF97FF\", \"#FECB52\"], \"font\": {\"color\": \"#2a3f5f\"}, \"geo\": {\"bgcolor\": \"white\", \"lakecolor\": \"white\", \"landcolor\": \"#E5ECF6\", \"showlakes\": true, \"showland\": true, \"subunitcolor\": \"white\"}, \"hoverlabel\": {\"align\": \"left\"}, \"hovermode\": \"closest\", \"mapbox\": {\"style\": \"light\"}, \"paper_bgcolor\": \"white\", \"plot_bgcolor\": \"#E5ECF6\", \"polar\": {\"angularaxis\": {\"gridcolor\": \"white\", \"linecolor\": \"white\", \"ticks\": \"\"}, \"bgcolor\": \"#E5ECF6\", \"radialaxis\": {\"gridcolor\": \"white\", \"linecolor\": \"white\", \"ticks\": \"\"}}, \"scene\": {\"xaxis\": {\"backgroundcolor\": \"#E5ECF6\", \"gridcolor\": \"white\", \"gridwidth\": 2, \"linecolor\": \"white\", \"showbackground\": true, \"ticks\": \"\", \"zerolinecolor\": \"white\"}, \"yaxis\": {\"backgroundcolor\": \"#E5ECF6\", \"gridcolor\": \"white\", \"gridwidth\": 2, \"linecolor\": \"white\", \"showbackground\": true, \"ticks\": \"\", \"zerolinecolor\": \"white\"}, \"zaxis\": {\"backgroundcolor\": \"#E5ECF6\", \"gridcolor\": \"white\", \"gridwidth\": 2, \"linecolor\": \"white\", \"showbackground\": true, \"ticks\": \"\", \"zerolinecolor\": \"white\"}}, \"shapedefaults\": {\"line\": {\"color\": \"#2a3f5f\"}}, \"ternary\": {\"aaxis\": {\"gridcolor\": \"white\", \"linecolor\": \"white\", \"ticks\": \"\"}, \"baxis\": {\"gridcolor\": \"white\", \"linecolor\": \"white\", \"ticks\": \"\"}, \"bgcolor\": \"#E5ECF6\", \"caxis\": {\"gridcolor\": \"white\", \"linecolor\": \"white\", \"ticks\": \"\"}}, \"title\": {\"x\": 0.05}, \"xaxis\": {\"automargin\": true, \"gridcolor\": \"white\", \"linecolor\": \"white\", \"ticks\": \"\", \"title\": {\"standoff\": 15}, \"zerolinecolor\": \"white\", \"zerolinewidth\": 2}, \"yaxis\": {\"automargin\": true, \"gridcolor\": \"white\", \"linecolor\": \"white\", \"ticks\": \"\", \"title\": {\"standoff\": 15}, \"zerolinecolor\": \"white\", \"zerolinewidth\": 2}}}},                        {\"responsive\": true}                    ).then(function(){\n",
       "                            \n",
       "var gd = document.getElementById('a5fa5d92-77a5-4ed2-8c45-2e244847b1ef');\n",
       "var x = new MutationObserver(function (mutations, observer) {{\n",
       "        var display = window.getComputedStyle(gd).display;\n",
       "        if (!display || display === 'none') {{\n",
       "            console.log([gd, 'removed!']);\n",
       "            Plotly.purge(gd);\n",
       "            observer.disconnect();\n",
       "        }}\n",
       "}});\n",
       "\n",
       "// Listen for the removal of the full notebook cells\n",
       "var notebookContainer = gd.closest('#notebook-container');\n",
       "if (notebookContainer) {{\n",
       "    x.observe(notebookContainer, {childList: true});\n",
       "}}\n",
       "\n",
       "// Listen for the clearing of the current output cell\n",
       "var outputEl = gd.closest('.output');\n",
       "if (outputEl) {{\n",
       "    x.observe(outputEl, {childList: true});\n",
       "}}\n",
       "\n",
       "                        })                };                });            </script>        </div>"
      ]
     },
     "metadata": {},
     "output_type": "display_data"
    }
   ],
   "source": [
    "fig = go.Figure(data=[\n",
    "    go.Bar(name='TRUE POSITIVE', x=x1, y=x1_TP),\n",
    "    go.Bar(name='FALSE NEGATIVE', x=x1, y=X1_FN)\n",
    "])\n",
    "\n",
    "fig.update_layout(barmode='group')\n",
    "fig.show()"
   ]
  },
  {
   "cell_type": "markdown",
   "metadata": {
    "papermill": {
     "duration": 0.090774,
     "end_time": "2020-10-29T06:07:13.571626",
     "exception": false,
     "start_time": "2020-10-29T06:07:13.480852",
     "status": "completed"
    },
    "tags": []
   },
   "source": [
    "#### <font color='darkblue'>If you want to have a clear pictures of which model performed well and which model got more true positives and false negatives ,you can see the above visualizations and decide which model you need according to your requirements</font>"
   ]
  },
  {
   "cell_type": "markdown",
   "metadata": {
    "papermill": {
     "duration": 0.092985,
     "end_time": "2020-10-29T06:07:13.939276",
     "exception": false,
     "start_time": "2020-10-29T06:07:13.846291",
     "status": "completed"
    },
    "tags": []
   },
   "source": [
    "#### <font color='darkblue'>Thank you :)</font>"
   ]
  }
 ],
 "metadata": {
  "kernelspec": {
   "display_name": "Python 3",
   "language": "python",
   "name": "python3"
  },
  "language_info": {
   "codemirror_mode": {
    "name": "ipython",
    "version": 3
   },
   "file_extension": ".py",
   "mimetype": "text/x-python",
   "name": "python",
   "nbconvert_exporter": "python",
   "pygments_lexer": "ipython3",
   "version": "3.8.3"
  },
  "papermill": {
   "duration": 4353.728605,
   "end_time": "2020-10-29T06:07:14.144039",
   "environment_variables": {},
   "exception": null,
   "input_path": "__notebook__.ipynb",
   "output_path": "__notebook__.ipynb",
   "parameters": {},
   "start_time": "2020-10-29T04:54:40.415434",
   "version": "2.1.0"
  }
 },
 "nbformat": 4,
 "nbformat_minor": 4
}
